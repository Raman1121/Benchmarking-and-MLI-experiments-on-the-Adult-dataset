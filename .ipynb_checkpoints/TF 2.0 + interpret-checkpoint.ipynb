{
 "cells": [
  {
   "cell_type": "markdown",
   "metadata": {},
   "source": [
    "## Objective:\n",
    "\n",
    "- To use the high-level `keras` API from `TensorFlow` 2.0 to build a classifier to predict if an individual would earn more than 50K (USD) per year (the classic [Adult dataset](https://archive.ics.uci.edu/ml/datasets/adult)).\n",
    "- To use the [`interpret`](https://github.com/microsoft/interpret) library for interpreting a model developed using `keras`. "
   ]
  },
  {
   "cell_type": "markdown",
   "metadata": {},
   "source": [
    "### Preliminaries: imports, data loading"
   ]
  },
  {
   "cell_type": "code",
   "execution_count": 41,
   "metadata": {},
   "outputs": [],
   "source": [
    "import warnings \n",
    "warnings.filterwarnings('ignore')\n",
    "import numpy as np\n",
    "np.random.seed(7)"
   ]
  },
  {
   "cell_type": "code",
   "execution_count": 1,
   "metadata": {},
   "outputs": [
    {
     "data": {
      "text/html": [
       "<div>\n",
       "<style scoped>\n",
       "    .dataframe tbody tr th:only-of-type {\n",
       "        vertical-align: middle;\n",
       "    }\n",
       "\n",
       "    .dataframe tbody tr th {\n",
       "        vertical-align: top;\n",
       "    }\n",
       "\n",
       "    .dataframe thead th {\n",
       "        text-align: right;\n",
       "    }\n",
       "</style>\n",
       "<table border=\"1\" class=\"dataframe\">\n",
       "  <thead>\n",
       "    <tr style=\"text-align: right;\">\n",
       "      <th></th>\n",
       "      <th>Age</th>\n",
       "      <th>WorkClass</th>\n",
       "      <th>fnlwgt</th>\n",
       "      <th>Education</th>\n",
       "      <th>EducationNum</th>\n",
       "      <th>MaritalStatus</th>\n",
       "      <th>Occupation</th>\n",
       "      <th>Relationship</th>\n",
       "      <th>Race</th>\n",
       "      <th>Gender</th>\n",
       "      <th>CapitalGain</th>\n",
       "      <th>CapitalLoss</th>\n",
       "      <th>HoursPerWeek</th>\n",
       "      <th>NativeCountry</th>\n",
       "      <th>Income</th>\n",
       "    </tr>\n",
       "  </thead>\n",
       "  <tbody>\n",
       "    <tr>\n",
       "      <th>0</th>\n",
       "      <td>39</td>\n",
       "      <td>State-gov</td>\n",
       "      <td>77516</td>\n",
       "      <td>Bachelors</td>\n",
       "      <td>13</td>\n",
       "      <td>Never-married</td>\n",
       "      <td>Adm-clerical</td>\n",
       "      <td>Not-in-family</td>\n",
       "      <td>White</td>\n",
       "      <td>Male</td>\n",
       "      <td>2174</td>\n",
       "      <td>0</td>\n",
       "      <td>40</td>\n",
       "      <td>United-States</td>\n",
       "      <td>&lt;=50K</td>\n",
       "    </tr>\n",
       "    <tr>\n",
       "      <th>1</th>\n",
       "      <td>50</td>\n",
       "      <td>Self-emp-not-inc</td>\n",
       "      <td>83311</td>\n",
       "      <td>Bachelors</td>\n",
       "      <td>13</td>\n",
       "      <td>Married-civ-spouse</td>\n",
       "      <td>Exec-managerial</td>\n",
       "      <td>Husband</td>\n",
       "      <td>White</td>\n",
       "      <td>Male</td>\n",
       "      <td>0</td>\n",
       "      <td>0</td>\n",
       "      <td>13</td>\n",
       "      <td>United-States</td>\n",
       "      <td>&lt;=50K</td>\n",
       "    </tr>\n",
       "    <tr>\n",
       "      <th>2</th>\n",
       "      <td>38</td>\n",
       "      <td>Private</td>\n",
       "      <td>215646</td>\n",
       "      <td>HS-grad</td>\n",
       "      <td>9</td>\n",
       "      <td>Divorced</td>\n",
       "      <td>Handlers-cleaners</td>\n",
       "      <td>Not-in-family</td>\n",
       "      <td>White</td>\n",
       "      <td>Male</td>\n",
       "      <td>0</td>\n",
       "      <td>0</td>\n",
       "      <td>40</td>\n",
       "      <td>United-States</td>\n",
       "      <td>&lt;=50K</td>\n",
       "    </tr>\n",
       "    <tr>\n",
       "      <th>3</th>\n",
       "      <td>53</td>\n",
       "      <td>Private</td>\n",
       "      <td>234721</td>\n",
       "      <td>11th</td>\n",
       "      <td>7</td>\n",
       "      <td>Married-civ-spouse</td>\n",
       "      <td>Handlers-cleaners</td>\n",
       "      <td>Husband</td>\n",
       "      <td>Black</td>\n",
       "      <td>Male</td>\n",
       "      <td>0</td>\n",
       "      <td>0</td>\n",
       "      <td>40</td>\n",
       "      <td>United-States</td>\n",
       "      <td>&lt;=50K</td>\n",
       "    </tr>\n",
       "    <tr>\n",
       "      <th>4</th>\n",
       "      <td>28</td>\n",
       "      <td>Private</td>\n",
       "      <td>338409</td>\n",
       "      <td>Bachelors</td>\n",
       "      <td>13</td>\n",
       "      <td>Married-civ-spouse</td>\n",
       "      <td>Prof-specialty</td>\n",
       "      <td>Wife</td>\n",
       "      <td>Black</td>\n",
       "      <td>Female</td>\n",
       "      <td>0</td>\n",
       "      <td>0</td>\n",
       "      <td>40</td>\n",
       "      <td>Cuba</td>\n",
       "      <td>&lt;=50K</td>\n",
       "    </tr>\n",
       "  </tbody>\n",
       "</table>\n",
       "</div>"
      ],
      "text/plain": [
       "   Age          WorkClass  fnlwgt   Education  EducationNum  \\\n",
       "0   39          State-gov   77516   Bachelors            13   \n",
       "1   50   Self-emp-not-inc   83311   Bachelors            13   \n",
       "2   38            Private  215646     HS-grad             9   \n",
       "3   53            Private  234721        11th             7   \n",
       "4   28            Private  338409   Bachelors            13   \n",
       "\n",
       "         MaritalStatus          Occupation    Relationship    Race   Gender  \\\n",
       "0        Never-married        Adm-clerical   Not-in-family   White     Male   \n",
       "1   Married-civ-spouse     Exec-managerial         Husband   White     Male   \n",
       "2             Divorced   Handlers-cleaners   Not-in-family   White     Male   \n",
       "3   Married-civ-spouse   Handlers-cleaners         Husband   Black     Male   \n",
       "4   Married-civ-spouse      Prof-specialty            Wife   Black   Female   \n",
       "\n",
       "   CapitalGain  CapitalLoss  HoursPerWeek   NativeCountry  Income  \n",
       "0         2174            0            40   United-States   <=50K  \n",
       "1            0            0            13   United-States   <=50K  \n",
       "2            0            0            40   United-States   <=50K  \n",
       "3            0            0            40   United-States   <=50K  \n",
       "4            0            0            40            Cuba   <=50K  "
      ]
     },
     "execution_count": 1,
     "metadata": {},
     "output_type": "execute_result"
    }
   ],
   "source": [
    "import pandas as pd\n",
    "\n",
    "columns = [\"Age\", \"WorkClass\", \"fnlwgt\", \"Education\", \"EducationNum\",\n",
    "        \"MaritalStatus\", \"Occupation\", \"Relationship\", \"Race\", \"Gender\",\n",
    "        \"CapitalGain\", \"CapitalLoss\", \"HoursPerWeek\", \"NativeCountry\", \"Income\"]\n",
    "\n",
    "data = pd.read_csv('https://archive.ics.uci.edu/ml/machine-learning-databases/adult/adult.data',\n",
    "                    header=None,\n",
    "                    names=columns)\n",
    "\n",
    "data.head()"
   ]
  },
  {
   "cell_type": "markdown",
   "metadata": {},
   "source": [
    "### Summary statistics and column information"
   ]
  },
  {
   "cell_type": "code",
   "execution_count": 4,
   "metadata": {},
   "outputs": [
    {
     "data": {
      "text/html": [
       "<div>\n",
       "<style scoped>\n",
       "    .dataframe tbody tr th:only-of-type {\n",
       "        vertical-align: middle;\n",
       "    }\n",
       "\n",
       "    .dataframe tbody tr th {\n",
       "        vertical-align: top;\n",
       "    }\n",
       "\n",
       "    .dataframe thead th {\n",
       "        text-align: right;\n",
       "    }\n",
       "</style>\n",
       "<table border=\"1\" class=\"dataframe\">\n",
       "  <thead>\n",
       "    <tr style=\"text-align: right;\">\n",
       "      <th></th>\n",
       "      <th>count</th>\n",
       "      <th>unique</th>\n",
       "      <th>top</th>\n",
       "      <th>freq</th>\n",
       "      <th>mean</th>\n",
       "      <th>std</th>\n",
       "      <th>min</th>\n",
       "      <th>25%</th>\n",
       "      <th>50%</th>\n",
       "      <th>75%</th>\n",
       "      <th>max</th>\n",
       "    </tr>\n",
       "  </thead>\n",
       "  <tbody>\n",
       "    <tr>\n",
       "      <th>Age</th>\n",
       "      <td>32561</td>\n",
       "      <td>NaN</td>\n",
       "      <td>NaN</td>\n",
       "      <td>NaN</td>\n",
       "      <td>38.5816</td>\n",
       "      <td>13.6404</td>\n",
       "      <td>17</td>\n",
       "      <td>28</td>\n",
       "      <td>37</td>\n",
       "      <td>48</td>\n",
       "      <td>90</td>\n",
       "    </tr>\n",
       "    <tr>\n",
       "      <th>WorkClass</th>\n",
       "      <td>32561</td>\n",
       "      <td>9</td>\n",
       "      <td>Private</td>\n",
       "      <td>22696</td>\n",
       "      <td>NaN</td>\n",
       "      <td>NaN</td>\n",
       "      <td>NaN</td>\n",
       "      <td>NaN</td>\n",
       "      <td>NaN</td>\n",
       "      <td>NaN</td>\n",
       "      <td>NaN</td>\n",
       "    </tr>\n",
       "    <tr>\n",
       "      <th>fnlwgt</th>\n",
       "      <td>32561</td>\n",
       "      <td>NaN</td>\n",
       "      <td>NaN</td>\n",
       "      <td>NaN</td>\n",
       "      <td>189778</td>\n",
       "      <td>105550</td>\n",
       "      <td>12285</td>\n",
       "      <td>117827</td>\n",
       "      <td>178356</td>\n",
       "      <td>237051</td>\n",
       "      <td>1.48470e+06</td>\n",
       "    </tr>\n",
       "    <tr>\n",
       "      <th>Education</th>\n",
       "      <td>32561</td>\n",
       "      <td>16</td>\n",
       "      <td>HS-grad</td>\n",
       "      <td>10501</td>\n",
       "      <td>NaN</td>\n",
       "      <td>NaN</td>\n",
       "      <td>NaN</td>\n",
       "      <td>NaN</td>\n",
       "      <td>NaN</td>\n",
       "      <td>NaN</td>\n",
       "      <td>NaN</td>\n",
       "    </tr>\n",
       "    <tr>\n",
       "      <th>EducationNum</th>\n",
       "      <td>32561</td>\n",
       "      <td>NaN</td>\n",
       "      <td>NaN</td>\n",
       "      <td>NaN</td>\n",
       "      <td>10.0807</td>\n",
       "      <td>2.57272</td>\n",
       "      <td>1</td>\n",
       "      <td>9</td>\n",
       "      <td>10</td>\n",
       "      <td>12</td>\n",
       "      <td>16</td>\n",
       "    </tr>\n",
       "    <tr>\n",
       "      <th>MaritalStatus</th>\n",
       "      <td>32561</td>\n",
       "      <td>7</td>\n",
       "      <td>Married-civ-spouse</td>\n",
       "      <td>14976</td>\n",
       "      <td>NaN</td>\n",
       "      <td>NaN</td>\n",
       "      <td>NaN</td>\n",
       "      <td>NaN</td>\n",
       "      <td>NaN</td>\n",
       "      <td>NaN</td>\n",
       "      <td>NaN</td>\n",
       "    </tr>\n",
       "    <tr>\n",
       "      <th>Occupation</th>\n",
       "      <td>32561</td>\n",
       "      <td>15</td>\n",
       "      <td>Prof-specialty</td>\n",
       "      <td>4140</td>\n",
       "      <td>NaN</td>\n",
       "      <td>NaN</td>\n",
       "      <td>NaN</td>\n",
       "      <td>NaN</td>\n",
       "      <td>NaN</td>\n",
       "      <td>NaN</td>\n",
       "      <td>NaN</td>\n",
       "    </tr>\n",
       "    <tr>\n",
       "      <th>Relationship</th>\n",
       "      <td>32561</td>\n",
       "      <td>6</td>\n",
       "      <td>Husband</td>\n",
       "      <td>13193</td>\n",
       "      <td>NaN</td>\n",
       "      <td>NaN</td>\n",
       "      <td>NaN</td>\n",
       "      <td>NaN</td>\n",
       "      <td>NaN</td>\n",
       "      <td>NaN</td>\n",
       "      <td>NaN</td>\n",
       "    </tr>\n",
       "    <tr>\n",
       "      <th>Race</th>\n",
       "      <td>32561</td>\n",
       "      <td>5</td>\n",
       "      <td>White</td>\n",
       "      <td>27816</td>\n",
       "      <td>NaN</td>\n",
       "      <td>NaN</td>\n",
       "      <td>NaN</td>\n",
       "      <td>NaN</td>\n",
       "      <td>NaN</td>\n",
       "      <td>NaN</td>\n",
       "      <td>NaN</td>\n",
       "    </tr>\n",
       "    <tr>\n",
       "      <th>Gender</th>\n",
       "      <td>32561</td>\n",
       "      <td>2</td>\n",
       "      <td>Male</td>\n",
       "      <td>21790</td>\n",
       "      <td>NaN</td>\n",
       "      <td>NaN</td>\n",
       "      <td>NaN</td>\n",
       "      <td>NaN</td>\n",
       "      <td>NaN</td>\n",
       "      <td>NaN</td>\n",
       "      <td>NaN</td>\n",
       "    </tr>\n",
       "    <tr>\n",
       "      <th>CapitalGain</th>\n",
       "      <td>32561</td>\n",
       "      <td>NaN</td>\n",
       "      <td>NaN</td>\n",
       "      <td>NaN</td>\n",
       "      <td>1077.65</td>\n",
       "      <td>7385.29</td>\n",
       "      <td>0</td>\n",
       "      <td>0</td>\n",
       "      <td>0</td>\n",
       "      <td>0</td>\n",
       "      <td>99999</td>\n",
       "    </tr>\n",
       "    <tr>\n",
       "      <th>CapitalLoss</th>\n",
       "      <td>32561</td>\n",
       "      <td>NaN</td>\n",
       "      <td>NaN</td>\n",
       "      <td>NaN</td>\n",
       "      <td>87.3038</td>\n",
       "      <td>402.96</td>\n",
       "      <td>0</td>\n",
       "      <td>0</td>\n",
       "      <td>0</td>\n",
       "      <td>0</td>\n",
       "      <td>4356</td>\n",
       "    </tr>\n",
       "    <tr>\n",
       "      <th>HoursPerWeek</th>\n",
       "      <td>32561</td>\n",
       "      <td>NaN</td>\n",
       "      <td>NaN</td>\n",
       "      <td>NaN</td>\n",
       "      <td>40.4375</td>\n",
       "      <td>12.3474</td>\n",
       "      <td>1</td>\n",
       "      <td>40</td>\n",
       "      <td>40</td>\n",
       "      <td>45</td>\n",
       "      <td>99</td>\n",
       "    </tr>\n",
       "    <tr>\n",
       "      <th>NativeCountry</th>\n",
       "      <td>32561</td>\n",
       "      <td>42</td>\n",
       "      <td>United-States</td>\n",
       "      <td>29170</td>\n",
       "      <td>NaN</td>\n",
       "      <td>NaN</td>\n",
       "      <td>NaN</td>\n",
       "      <td>NaN</td>\n",
       "      <td>NaN</td>\n",
       "      <td>NaN</td>\n",
       "      <td>NaN</td>\n",
       "    </tr>\n",
       "    <tr>\n",
       "      <th>Income</th>\n",
       "      <td>32561</td>\n",
       "      <td>2</td>\n",
       "      <td>&lt;=50K</td>\n",
       "      <td>24720</td>\n",
       "      <td>NaN</td>\n",
       "      <td>NaN</td>\n",
       "      <td>NaN</td>\n",
       "      <td>NaN</td>\n",
       "      <td>NaN</td>\n",
       "      <td>NaN</td>\n",
       "      <td>NaN</td>\n",
       "    </tr>\n",
       "  </tbody>\n",
       "</table>\n",
       "</div>"
      ],
      "text/plain": [
       "               count unique                  top   freq     mean      std  \\\n",
       "Age            32561    NaN                  NaN    NaN  38.5816  13.6404   \n",
       "WorkClass      32561      9              Private  22696      NaN      NaN   \n",
       "fnlwgt         32561    NaN                  NaN    NaN   189778   105550   \n",
       "Education      32561     16              HS-grad  10501      NaN      NaN   \n",
       "EducationNum   32561    NaN                  NaN    NaN  10.0807  2.57272   \n",
       "MaritalStatus  32561      7   Married-civ-spouse  14976      NaN      NaN   \n",
       "Occupation     32561     15       Prof-specialty   4140      NaN      NaN   \n",
       "Relationship   32561      6              Husband  13193      NaN      NaN   \n",
       "Race           32561      5                White  27816      NaN      NaN   \n",
       "Gender         32561      2                 Male  21790      NaN      NaN   \n",
       "CapitalGain    32561    NaN                  NaN    NaN  1077.65  7385.29   \n",
       "CapitalLoss    32561    NaN                  NaN    NaN  87.3038   402.96   \n",
       "HoursPerWeek   32561    NaN                  NaN    NaN  40.4375  12.3474   \n",
       "NativeCountry  32561     42        United-States  29170      NaN      NaN   \n",
       "Income         32561      2                <=50K  24720      NaN      NaN   \n",
       "\n",
       "                 min     25%     50%     75%          max  \n",
       "Age               17      28      37      48           90  \n",
       "WorkClass        NaN     NaN     NaN     NaN          NaN  \n",
       "fnlwgt         12285  117827  178356  237051  1.48470e+06  \n",
       "Education        NaN     NaN     NaN     NaN          NaN  \n",
       "EducationNum       1       9      10      12           16  \n",
       "MaritalStatus    NaN     NaN     NaN     NaN          NaN  \n",
       "Occupation       NaN     NaN     NaN     NaN          NaN  \n",
       "Relationship     NaN     NaN     NaN     NaN          NaN  \n",
       "Race             NaN     NaN     NaN     NaN          NaN  \n",
       "Gender           NaN     NaN     NaN     NaN          NaN  \n",
       "CapitalGain        0       0       0       0        99999  \n",
       "CapitalLoss        0       0       0       0         4356  \n",
       "HoursPerWeek       1      40      40      45           99  \n",
       "NativeCountry    NaN     NaN     NaN     NaN          NaN  \n",
       "Income           NaN     NaN     NaN     NaN          NaN  "
      ]
     },
     "execution_count": 4,
     "metadata": {},
     "output_type": "execute_result"
    }
   ],
   "source": [
    "data.describe(include='all').T"
   ]
  },
  {
   "cell_type": "code",
   "execution_count": 5,
   "metadata": {},
   "outputs": [
    {
     "name": "stdout",
     "output_type": "stream",
     "text": [
      "<class 'pandas.core.frame.DataFrame'>\n",
      "RangeIndex: 32561 entries, 0 to 32560\n",
      "Data columns (total 15 columns):\n",
      "Age              32561 non-null int64\n",
      "WorkClass        32561 non-null object\n",
      "fnlwgt           32561 non-null int64\n",
      "Education        32561 non-null object\n",
      "EducationNum     32561 non-null int64\n",
      "MaritalStatus    32561 non-null object\n",
      "Occupation       32561 non-null object\n",
      "Relationship     32561 non-null object\n",
      "Race             32561 non-null object\n",
      "Gender           32561 non-null object\n",
      "CapitalGain      32561 non-null int64\n",
      "CapitalLoss      32561 non-null int64\n",
      "HoursPerWeek     32561 non-null int64\n",
      "NativeCountry    32561 non-null object\n",
      "Income           32561 non-null object\n",
      "dtypes: int64(6), object(9)\n",
      "memory usage: 3.7+ MB\n"
     ]
    }
   ],
   "source": [
    "data.info()"
   ]
  },
  {
   "cell_type": "markdown",
   "metadata": {},
   "source": [
    "### Data splitting, label encoding and scaling"
   ]
  },
  {
   "cell_type": "code",
   "execution_count": 14,
   "metadata": {},
   "outputs": [],
   "source": [
    "# Splitting w.r.t fixed indexes rather than random splitting\n",
    "train = data[:30561]\n",
    "test = data[30561:]"
   ]
  },
  {
   "cell_type": "code",
   "execution_count": 15,
   "metadata": {},
   "outputs": [],
   "source": [
    "# Extracting the categorical and non-categorical features\n",
    "cat_feats = [column for column in data.columns if data[column].dtypes=='object']\n",
    "non_cat_feats = [column for column in data.columns if data[column].dtypes!='object']"
   ]
  },
  {
   "cell_type": "code",
   "execution_count": null,
   "metadata": {},
   "outputs": [],
   "source": [
    "# Label encode categories\n",
    "from sklearn.preprocessing import LabelEncoder\n",
    "\n",
    "train[cat_feats] = train[cat_feats].apply(LabelEncoder().fit_transform)\n",
    "test[cat_feats] = test[cat_feats].apply(LabelEncoder().fit_transform)"
   ]
  },
  {
   "cell_type": "markdown",
   "metadata": {},
   "source": [
    "**Note**: This could have been handled in a more sophisticated way by combining the train and test frames and then by applying one-hot encoding to prevent potential data leakage. "
   ]
  },
  {
   "cell_type": "code",
   "execution_count": 18,
   "metadata": {},
   "outputs": [
    {
     "data": {
      "text/plain": [
       "((30561, 14), (30561,), (2000, 14), (2000,))"
      ]
     },
     "execution_count": 18,
     "metadata": {},
     "output_type": "execute_result"
    }
   ],
   "source": [
    "X_train = train.iloc[:,0:-1]\n",
    "y_train = train['Income']\n",
    "\n",
    "X_test = test.iloc[:,0:-1]\n",
    "y_test = test['Income']\n",
    "\n",
    "X_train.shape, y_train.shape, X_test.shape, y_test.shape"
   ]
  },
  {
   "cell_type": "code",
   "execution_count": 20,
   "metadata": {},
   "outputs": [],
   "source": [
    "# Standard scale the numeric features and assign them\n",
    "from sklearn.preprocessing import StandardScaler\n",
    "\n",
    "scaler = StandardScaler()\n",
    "\n",
    "scaled_train = StandardScaler().fit_transform(X_train[non_cat_feats].values)\n",
    "scaled_test = StandardScaler().fit_transform(X_test[non_cat_feats].values)"
   ]
  },
  {
   "cell_type": "code",
   "execution_count": 21,
   "metadata": {},
   "outputs": [],
   "source": [
    "X_train[non_cat_feats] = scaled_train\n",
    "X_test[non_cat_feats] = scaled_test"
   ]
  },
  {
   "cell_type": "markdown",
   "metadata": {},
   "source": [
    "### Model brainstorming: build and train"
   ]
  },
  {
   "cell_type": "code",
   "execution_count": 23,
   "metadata": {},
   "outputs": [],
   "source": [
    "from tensorflow import keras"
   ]
  },
  {
   "cell_type": "code",
   "execution_count": 29,
   "metadata": {},
   "outputs": [
    {
     "name": "stdout",
     "output_type": "stream",
     "text": [
      "Model: \"sequential_1\"\n",
      "_________________________________________________________________\n",
      "Layer (type)                 Output Shape              Param #   \n",
      "=================================================================\n",
      "dropout_3 (Dropout)          (None, 14)                0         \n",
      "_________________________________________________________________\n",
      "dense_3 (Dense)              (None, 64)                960       \n",
      "_________________________________________________________________\n",
      "dropout_4 (Dropout)          (None, 64)                0         \n",
      "_________________________________________________________________\n",
      "dense_4 (Dense)              (None, 64)                4160      \n",
      "_________________________________________________________________\n",
      "dropout_5 (Dropout)          (None, 64)                0         \n",
      "_________________________________________________________________\n",
      "dense_5 (Dense)              (None, 1)                 65        \n",
      "=================================================================\n",
      "Total params: 5,185\n",
      "Trainable params: 5,185\n",
      "Non-trainable params: 0\n",
      "_________________________________________________________________\n"
     ]
    }
   ],
   "source": [
    "model = keras.models.Sequential()\n",
    "model.add(keras.layers.Dropout(rate=0.2, input_shape=X_train.shape[1:]))\n",
    "for _ in range(2):\n",
    "        model.add(keras.layers.Dense(units=64, activation='relu'))\n",
    "        model.add(keras.layers.Dropout(rate=0.2))\n",
    "model.add(keras.layers.Dense(units=1, activation='sigmoid'))\n",
    "model.summary()"
   ]
  },
  {
   "cell_type": "code",
   "execution_count": 30,
   "metadata": {},
   "outputs": [],
   "source": [
    "optimizer = keras.optimizers.Adam(lr=0.001)"
   ]
  },
  {
   "cell_type": "code",
   "execution_count": 31,
   "metadata": {},
   "outputs": [],
   "source": [
    "model.compile(loss='binary_crossentropy', optimizer=optimizer, metrics=['acc'])"
   ]
  },
  {
   "cell_type": "code",
   "execution_count": 32,
   "metadata": {},
   "outputs": [],
   "source": [
    "es_cb = keras.callbacks.EarlyStopping(monitor='val_loss', patience=5)"
   ]
  },
  {
   "cell_type": "code",
   "execution_count": 33,
   "metadata": {},
   "outputs": [
    {
     "name": "stdout",
     "output_type": "stream",
     "text": [
      "Train on 30561 samples, validate on 2000 samples\n",
      "Epoch 1/40\n",
      "30561/30561 [==============================] - 2s 67us/sample - loss: 0.5817 - acc: 0.7412 - val_loss: 0.4539 - val_acc: 0.8120\n",
      "Epoch 2/40\n",
      "30561/30561 [==============================] - 1s 43us/sample - loss: 0.4499 - acc: 0.7907 - val_loss: 0.4307 - val_acc: 0.8135\n",
      "Epoch 3/40\n",
      "30561/30561 [==============================] - 1s 42us/sample - loss: 0.4254 - acc: 0.8047 - val_loss: 0.3948 - val_acc: 0.8170\n",
      "Epoch 4/40\n",
      "30561/30561 [==============================] - 1s 44us/sample - loss: 0.4030 - acc: 0.8136 - val_loss: 0.3866 - val_acc: 0.8180\n",
      "Epoch 5/40\n",
      "30561/30561 [==============================] - 1s 45us/sample - loss: 0.3924 - acc: 0.8180 - val_loss: 0.3722 - val_acc: 0.8275\n",
      "Epoch 6/40\n",
      "30561/30561 [==============================] - 1s 44us/sample - loss: 0.3867 - acc: 0.8192 - val_loss: 0.3588 - val_acc: 0.8310\n",
      "Epoch 7/40\n",
      "30561/30561 [==============================] - 1s 45us/sample - loss: 0.3800 - acc: 0.8222 - val_loss: 0.3689 - val_acc: 0.8290\n",
      "Epoch 8/40\n",
      "30561/30561 [==============================] - 1s 44us/sample - loss: 0.3735 - acc: 0.8245 - val_loss: 0.3622 - val_acc: 0.8295\n",
      "Epoch 9/40\n",
      "30561/30561 [==============================] - 1s 44us/sample - loss: 0.3739 - acc: 0.8236 - val_loss: 0.3435 - val_acc: 0.8305\n",
      "Epoch 10/40\n",
      "30561/30561 [==============================] - 1s 45us/sample - loss: 0.3765 - acc: 0.8219 - val_loss: 0.3626 - val_acc: 0.8275\n",
      "Epoch 11/40\n",
      "30561/30561 [==============================] - 1s 48us/sample - loss: 0.3701 - acc: 0.8282 - val_loss: 0.3487 - val_acc: 0.8275\n",
      "Epoch 12/40\n",
      "30561/30561 [==============================] - 1s 45us/sample - loss: 0.3681 - acc: 0.8272 - val_loss: 0.3510 - val_acc: 0.8310\n",
      "Epoch 13/40\n",
      "30561/30561 [==============================] - 1s 44us/sample - loss: 0.3708 - acc: 0.8251 - val_loss: 0.3450 - val_acc: 0.8325\n",
      "Epoch 14/40\n",
      "30561/30561 [==============================] - 1s 47us/sample - loss: 0.3680 - acc: 0.8263 - val_loss: 0.3525 - val_acc: 0.8320\n",
      "\n",
      "It took 20.80652904510498 seconds\n"
     ]
    }
   ],
   "source": [
    "import time\n",
    "\n",
    "start = time.time()\n",
    "history = model.fit(X_train, y_train,\n",
    "         validation_data=(X_test, y_test),\n",
    "         batch_size=64,\n",
    "         epochs=40,\n",
    "         callbacks=[es_cb])\n",
    "print('\\nIt took {} seconds'.format(time.time()-start))"
   ]
  },
  {
   "cell_type": "markdown",
   "metadata": {},
   "source": [
    "### Training graphs"
   ]
  },
  {
   "cell_type": "code",
   "execution_count": 34,
   "metadata": {},
   "outputs": [
    {
     "data": {
      "text/plain": [
       "dict_keys(['loss', 'acc', 'val_loss', 'val_acc'])"
      ]
     },
     "execution_count": 34,
     "metadata": {},
     "output_type": "execute_result"
    }
   ],
   "source": [
    "history_dict = history.history\n",
    "history_dict.keys()"
   ]
  },
  {
   "cell_type": "code",
   "execution_count": 35,
   "metadata": {},
   "outputs": [],
   "source": [
    "import matplotlib.pyplot as plt\n",
    "plt.style.use('ggplot')\n",
    "\n",
    "%matplotlib inline"
   ]
  },
  {
   "cell_type": "code",
   "execution_count": 93,
   "metadata": {},
   "outputs": [
    {
     "data": {
      "image/png": "[encoded data removed]",
      "text/plain": [
       "<Figure size 720x576 with 1 Axes>"
      ]
     },
     "metadata": {
      "needs_background": "light"
     },
     "output_type": "display_data"
    }
   ],
   "source": [
    "acc = history_dict['acc']\n",
    "val_acc = history_dict['val_acc']\n",
    "loss = history_dict['loss']\n",
    "val_loss = history_dict['val_loss']\n",
    "\n",
    "epochs = range(1, len(acc) + 1)\n",
    "\n",
    "plt.figure(figsize=(10,8))\n",
    "plt.plot(epochs, loss, label='Training loss')\n",
    "plt.plot(epochs, val_loss, label='Validation loss')\n",
    "plt.plot(epochs, acc, label='Training accuracy')\n",
    "plt.plot(epochs, val_acc, label='Validation accuracy')\n",
    "\n",
    "plt.title('Training and validation accuracy and loss')\n",
    "plt.xlabel('Epochs')\n",
    "plt.ylabel('Accuracy/Loss')\n",
    "plt.legend()\n",
    "\n",
    "plt.show()"
   ]
  },
  {
   "cell_type": "markdown",
   "metadata": {},
   "source": [
    "Not bad for an initial model. "
   ]
  },
  {
   "cell_type": "markdown",
   "metadata": {},
   "source": [
    "### Wrapping up the `keras` model into `sklearn`"
   ]
  },
  {
   "cell_type": "code",
   "execution_count": 39,
   "metadata": {},
   "outputs": [],
   "source": [
    "# Define the model building function to pass it as a callable object\n",
    "def create_model():\n",
    "    model = keras.models.Sequential()\n",
    "    \n",
    "    model.add(keras.layers.Dropout(rate=0.2, input_shape=X_train.shape[1:]))\n",
    "    for _ in range(2):\n",
    "        model.add(keras.layers.Dense(units=64, activation='relu'))\n",
    "        model.add(keras.layers.Dropout(rate=0.2))\n",
    "    model.add(keras.layers.Dense(units=1, activation='sigmoid'))\n",
    "    \n",
    "    optimizer = keras.optimizers.Adam(lr=0.001)\n",
    "    \n",
    "    model.compile(optimizer=optimizer, loss='binary_crossentropy', metrics=['acc'])\n",
    "    \n",
    "    return model"
   ]
  },
  {
   "cell_type": "code",
   "execution_count": 37,
   "metadata": {},
   "outputs": [],
   "source": [
    "# Wrap\n",
    "from tensorflow.keras.wrappers.scikit_learn import KerasClassifier\n",
    "\n",
    "model = KerasClassifier(build_fn=create_model, epochs=40,\n",
    "                        batch_size=64, verbose=1)"
   ]
  },
  {
   "cell_type": "code",
   "execution_count": 40,
   "metadata": {},
   "outputs": [
    {
     "name": "stdout",
     "output_type": "stream",
     "text": [
      "Train on 30561 samples, validate on 2000 samples\n",
      "Epoch 1/40\n",
      "30561/30561 [==============================] - 2s 57us/sample - loss: 0.5745 - acc: 0.7460 - val_loss: 0.4587 - val_acc: 0.8025\n",
      "Epoch 2/40\n",
      "30561/30561 [==============================] - 1s 44us/sample - loss: 0.4445 - acc: 0.7921 - val_loss: 0.4215 - val_acc: 0.8125\n",
      "Epoch 3/40\n",
      "30561/30561 [==============================] - 1s 44us/sample - loss: 0.4214 - acc: 0.8063 - val_loss: 0.4039 - val_acc: 0.8130\n",
      "Epoch 4/40\n",
      "30561/30561 [==============================] - 1s 44us/sample - loss: 0.4068 - acc: 0.8115 - val_loss: 0.3787 - val_acc: 0.8180\n",
      "Epoch 5/40\n",
      "30561/30561 [==============================] - 1s 46us/sample - loss: 0.3927 - acc: 0.8159 - val_loss: 0.3848 - val_acc: 0.8235\n",
      "Epoch 6/40\n",
      "30561/30561 [==============================] - 1s 45us/sample - loss: 0.3885 - acc: 0.8162 - val_loss: 0.3689 - val_acc: 0.8305\n",
      "Epoch 7/40\n",
      "30561/30561 [==============================] - 1s 45us/sample - loss: 0.3792 - acc: 0.8233 - val_loss: 0.3609 - val_acc: 0.8225\n",
      "Epoch 8/40\n",
      "30561/30561 [==============================] - 1s 45us/sample - loss: 0.3772 - acc: 0.8231 - val_loss: 0.3669 - val_acc: 0.8265\n",
      "Epoch 9/40\n",
      "30561/30561 [==============================] - 2s 51us/sample - loss: 0.3760 - acc: 0.8259 - val_loss: 0.3626 - val_acc: 0.8255\n",
      "Epoch 10/40\n",
      "30561/30561 [==============================] - 1s 46us/sample - loss: 0.3744 - acc: 0.8279 - val_loss: 0.3606 - val_acc: 0.8270\n",
      "Epoch 11/40\n",
      "30561/30561 [==============================] - 1s 45us/sample - loss: 0.3703 - acc: 0.8262 - val_loss: 0.3586 - val_acc: 0.8260\n",
      "Epoch 12/40\n",
      "30561/30561 [==============================] - 1s 44us/sample - loss: 0.3737 - acc: 0.8256 - val_loss: 0.3593 - val_acc: 0.8360\n",
      "Epoch 13/40\n",
      "30561/30561 [==============================] - 1s 44us/sample - loss: 0.3718 - acc: 0.8264 - val_loss: 0.3669 - val_acc: 0.8295\n",
      "Epoch 14/40\n",
      "30561/30561 [==============================] - 1s 44us/sample - loss: 0.3678 - acc: 0.8274 - val_loss: 0.3565 - val_acc: 0.8315\n",
      "Epoch 15/40\n",
      "30561/30561 [==============================] - 1s 45us/sample - loss: 0.3666 - acc: 0.8287 - val_loss: 0.3521 - val_acc: 0.8285\n",
      "Epoch 16/40\n",
      "30561/30561 [==============================] - 1s 44us/sample - loss: 0.3656 - acc: 0.8297 - val_loss: 0.3712 - val_acc: 0.8320\n",
      "Epoch 17/40\n",
      "30561/30561 [==============================] - 1s 44us/sample - loss: 0.3657 - acc: 0.8281 - val_loss: 0.3596 - val_acc: 0.8350\n",
      "Epoch 18/40\n",
      "30561/30561 [==============================] - 1s 46us/sample - loss: 0.3667 - acc: 0.8272 - val_loss: 0.3491 - val_acc: 0.8300\n",
      "Epoch 19/40\n",
      "30561/30561 [==============================] - 1s 45us/sample - loss: 0.3644 - acc: 0.8279 - val_loss: 0.3484 - val_acc: 0.8340\n",
      "Epoch 20/40\n",
      "30561/30561 [==============================] - 1s 44us/sample - loss: 0.3665 - acc: 0.8292 - val_loss: 0.3424 - val_acc: 0.8320\n",
      "Epoch 21/40\n",
      "30561/30561 [==============================] - 1s 44us/sample - loss: 0.3653 - acc: 0.8300 - val_loss: 0.3575 - val_acc: 0.8275\n",
      "Epoch 22/40\n",
      "30561/30561 [==============================] - 1s 44us/sample - loss: 0.3665 - acc: 0.8297 - val_loss: 0.3657 - val_acc: 0.8360\n",
      "Epoch 23/40\n",
      "30561/30561 [==============================] - 1s 43us/sample - loss: 0.3654 - acc: 0.8280 - val_loss: 0.3462 - val_acc: 0.8350\n",
      "Epoch 24/40\n",
      "30561/30561 [==============================] - 1s 46us/sample - loss: 0.3614 - acc: 0.8313 - val_loss: 0.3618 - val_acc: 0.8315\n",
      "Epoch 25/40\n",
      "30561/30561 [==============================] - 1s 45us/sample - loss: 0.3643 - acc: 0.8297 - val_loss: 0.3531 - val_acc: 0.8255\n",
      "\n",
      "It took 35.75260066986084 seconds\n"
     ]
    }
   ],
   "source": [
    "# Train\n",
    "start = time.time()\n",
    "model.fit(X_train, y_train,\n",
    "          validation_data=(X_test, y_test),\n",
    "          callbacks=[es_cb])\n",
    "print('\\nIt took {} seconds'.format(time.time()-start))"
   ]
  },
  {
   "cell_type": "markdown",
   "metadata": {},
   "source": [
    "### Results: accuracy and confusion matrix"
   ]
  },
  {
   "cell_type": "code",
   "execution_count": 43,
   "metadata": {},
   "outputs": [
    {
     "name": "stdout",
     "output_type": "stream",
     "text": [
      "2000/2000 [==============================] - 0s 35us/sample\n"
     ]
    },
    {
     "data": {
      "text/plain": [
       "0.8255"
      ]
     },
     "execution_count": 43,
     "metadata": {},
     "output_type": "execute_result"
    }
   ],
   "source": [
    "from sklearn.metrics import accuracy_score\n",
    "\n",
    "preds = model.predict(X_test)\n",
    "accuracy_score(y_test, preds)"
   ]
  },
  {
   "cell_type": "markdown",
   "metadata": {},
   "source": [
    "Score is pretty similar, though. "
   ]
  },
  {
   "cell_type": "code",
   "execution_count": 44,
   "metadata": {
    "scrolled": true
   },
   "outputs": [
    {
     "data": {
      "image/png": "[encoded data removed]",
      "text/plain": [
       "<Figure size 432x288 with 2 Axes>"
      ]
     },
     "metadata": {
      "needs_background": "light"
     },
     "output_type": "display_data"
    }
   ],
   "source": [
    "import scikitplot as skplt\n",
    "\n",
    "skplt.metrics.plot_confusion_matrix(y_test, preds)\n",
    "plt.show()"
   ]
  },
  {
   "cell_type": "markdown",
   "metadata": {},
   "source": [
    "### Local explanations using `LIME`"
   ]
  },
  {
   "cell_type": "code",
   "execution_count": 45,
   "metadata": {},
   "outputs": [
    {
     "name": "stdout",
     "output_type": "stream",
     "text": [
      "1/1 [==============================] - 0s 558us/sample\n",
      "5/5 [==============================] - 0s 135us/sample\n",
      "5000/5000 [==============================] - 0s 11us/sample\n",
      "5000/5000 [==============================] - 0s 12us/sample\n",
      "5000/5000 [==============================] - 0s 11us/sample\n",
      "5000/5000 [==============================] - 0s 11us/sample\n",
      "5000/5000 [==============================] - 0s 10us/sample\n"
     ]
    },
    {
     "data": {
      "text/html": [
       "\n",
       "            <iframe src=\"http://127.0.0.1:7257/139887923542560/\" width=100% height=800 frameBorder=\"0\"></iframe>\n",
       "        "
      ]
     },
     "metadata": {},
     "output_type": "display_data"
    }
   ],
   "source": [
    "from interpret.blackbox import LimeTabular\n",
    "from interpret import show\n",
    "\n",
    "lime = LimeTabular(predict_fn=model.predict_proba, data=X_train, random_state=7)\n",
    "\n",
    "lime_local = lime.explain_local(X_test.iloc[:5],\n",
    "                                y_test[:5], name='LIME')\n",
    "\n",
    "show(lime_local)"
   ]
  },
  {
   "cell_type": "markdown",
   "metadata": {},
   "source": [
    "### Figure snap:\n",
    "\n",
    "![](https://i.ibb.co/N3q0dLw/Figure-1.png)\n",
    "\n",
    "Demo: https://www.loom.com/share/3be9195a44a145ff8cc2e24cfe9b691b"
   ]
  },
  {
   "cell_type": "markdown",
   "metadata": {},
   "source": [
    "### Global sensitivity: how the model is treating the features"
   ]
  },
  {
   "cell_type": "code",
   "execution_count": 46,
   "metadata": {},
   "outputs": [
    {
     "name": "stdout",
     "output_type": "stream",
     "text": [
      "1/1 [==============================] - 0s 555us/sample\n",
      "15000/15000 [==============================] - 0s 10us/sample\n"
     ]
    },
    {
     "data": {
      "text/html": [
       "\n",
       "            <iframe src=\"http://127.0.0.1:7257/139887893642992/\" width=100% height=800 frameBorder=\"0\"></iframe>\n",
       "        "
      ]
     },
     "metadata": {},
     "output_type": "display_data"
    }
   ],
   "source": [
    "from interpret.blackbox import MorrisSensitivity\n",
    "\n",
    "sensitivity = MorrisSensitivity(predict_fn=model.predict_proba, data=X_train)\n",
    "sensitivity_global = sensitivity.explain_global(name=\"Global Sensitivity\")\n",
    "\n",
    "show(sensitivity_global)"
   ]
  },
  {
   "cell_type": "markdown",
   "metadata": {},
   "source": [
    "### Figure snap:\n",
    "\n",
    "![](https://i.ibb.co/sPPMP7G/Screenshot-from-2019-05-18-21-37-02.png)\n",
    "\n",
    "Demo: https://www.loom.com/share/4f080a286201422093c605933114287a"
   ]
  }
 ],
 "metadata": {
  "kernelspec": {
   "display_name": "Python 3",
   "language": "python",
   "name": "python3"
  },
  "language_info": {
   "codemirror_mode": {
    "name": "ipython",
    "version": 3
   },
   "file_extension": ".py",
   "mimetype": "text/x-python",
   "name": "python",
   "nbconvert_exporter": "python",
   "pygments_lexer": "ipython3",
   "version": "3.7.1"
  }
 },
 "nbformat": 4,
 "nbformat_minor": 2
}
