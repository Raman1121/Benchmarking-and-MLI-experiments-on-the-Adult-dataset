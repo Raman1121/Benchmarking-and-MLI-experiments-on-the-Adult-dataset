{
  "nbformat": 4,
  "nbformat_minor": 0,
  "metadata": {
    "colab": {
      "name": "Benchmarking experiments on the Adult dataset and interpretability.ipynb",
      "version": "0.3.2",
      "provenance": [],
      "collapsed_sections": []
    },
    "language_info": {
      "codemirror_mode": {
        "name": "ipython",
        "version": 3
      },
      "file_extension": ".py",
      "mimetype": "text/x-python",
      "name": "python",
      "nbconvert_exporter": "python",
      "pygments_lexer": "ipython3",
      "version": "3.7.1"
    },
    "kernelspec": {
      "display_name": "Python 3",
      "language": "python",
      "name": "python3"
    },
    "accelerator": "GPU"
  },
  "cells": [
    {
      "cell_type": "markdown",
      "metadata": {
        "id": "bZswBd-_cwHU",
        "colab_type": "text"
      },
      "source": [
        "## Introduction\n",
        "\n",
        "The purpose of this notebook is to - \n",
        "- Benchmark machine learning models on the [Adult dataset](https://archive.ics.uci.edu/ml/datasets/adult) using `fastai`, `h2o` and `interpret` libraries\n",
        "- Use decision tree surrogates to explain a `h2o` model\n",
        "- Show how easy it is to interpret blackbox models using `interpret`\n",
        "\n",
        "**Note**: I am not going to explain the inner mechanics of the predictive models I have used here. Rather, I will briefly explain the key points that are related to Machine Learning Explainability."
      ]
    },
    {
      "cell_type": "markdown",
      "metadata": {
        "id": "qodEqPODdxL8",
        "colab_type": "text"
      },
      "source": [
        "## About the dataset\n",
        "\n",
        "[Adult dataset](https://archive.ics.uci.edu/ml/datasets/adult) is one of the most popular datasets which is a representative of the **Finance** domain. The dataset contains 32561 records of individuals including several features like occupation, age, marital status and so on (14 features). The prediction task is to determine whether a person makes over 50K a year. "
      ]
    },
    {
      "cell_type": "markdown",
      "metadata": {
        "colab_type": "text",
        "id": "g0WQGcRUHeu1"
      },
      "source": [
        "## Simple data explorations"
      ]
    },
    {
      "cell_type": "code",
      "metadata": {
        "colab_type": "code",
        "id": "dXnrBDrPCIBJ",
        "colab": {}
      },
      "source": [
        "import pandas as pd"
      ],
      "execution_count": 0,
      "outputs": []
    },
    {
      "cell_type": "code",
      "metadata": {
        "colab_type": "code",
        "id": "h9C88voJCaJh",
        "outputId": "50d87a18-3e8f-4535-e7b9-707f257af4b8",
        "colab": {
          "base_uri": "https://localhost:8080/",
          "height": 292
        }
      },
      "source": [
        "columns = [\"Age\", \"WorkClass\", \"fnlwgt\", \"Education\", \"EducationNum\",\n",
        "        \"MaritalStatus\", \"Occupation\", \"Relationship\", \"Race\", \"Gender\",\n",
        "        \"CapitalGain\", \"CapitalLoss\", \"HoursPerWeek\", \"NativeCountry\", \"Income\"]\n",
        "\n",
        "data = pd.read_csv('https://archive.ics.uci.edu/ml/machine-learning-databases/adult/adult.data',\n",
        "                    header=None,\n",
        "                    names=columns)\n",
        "\n",
        "data.head()"
      ],
      "execution_count": 3,
      "outputs": [
        {
          "output_type": "execute_result",
          "data": {
            "text/html": [
              "<div>\n",
              "<style scoped>\n",
              "    .dataframe tbody tr th:only-of-type {\n",
              "        vertical-align: middle;\n",
              "    }\n",
              "\n",
              "    .dataframe tbody tr th {\n",
              "        vertical-align: top;\n",
              "    }\n",
              "\n",
              "    .dataframe thead th {\n",
              "        text-align: right;\n",
              "    }\n",
              "</style>\n",
              "<table border=\"1\" class=\"dataframe\">\n",
              "  <thead>\n",
              "    <tr style=\"text-align: right;\">\n",
              "      <th></th>\n",
              "      <th>Age</th>\n",
              "      <th>WorkClass</th>\n",
              "      <th>fnlwgt</th>\n",
              "      <th>Education</th>\n",
              "      <th>EducationNum</th>\n",
              "      <th>MaritalStatus</th>\n",
              "      <th>Occupation</th>\n",
              "      <th>Relationship</th>\n",
              "      <th>Race</th>\n",
              "      <th>Gender</th>\n",
              "      <th>CapitalGain</th>\n",
              "      <th>CapitalLoss</th>\n",
              "      <th>HoursPerWeek</th>\n",
              "      <th>NativeCountry</th>\n",
              "      <th>Income</th>\n",
              "    </tr>\n",
              "  </thead>\n",
              "  <tbody>\n",
              "    <tr>\n",
              "      <th>0</th>\n",
              "      <td>39</td>\n",
              "      <td>State-gov</td>\n",
              "      <td>77516</td>\n",
              "      <td>Bachelors</td>\n",
              "      <td>13</td>\n",
              "      <td>Never-married</td>\n",
              "      <td>Adm-clerical</td>\n",
              "      <td>Not-in-family</td>\n",
              "      <td>White</td>\n",
              "      <td>Male</td>\n",
              "      <td>2174</td>\n",
              "      <td>0</td>\n",
              "      <td>40</td>\n",
              "      <td>United-States</td>\n",
              "      <td>&lt;=50K</td>\n",
              "    </tr>\n",
              "    <tr>\n",
              "      <th>1</th>\n",
              "      <td>50</td>\n",
              "      <td>Self-emp-not-inc</td>\n",
              "      <td>83311</td>\n",
              "      <td>Bachelors</td>\n",
              "      <td>13</td>\n",
              "      <td>Married-civ-spouse</td>\n",
              "      <td>Exec-managerial</td>\n",
              "      <td>Husband</td>\n",
              "      <td>White</td>\n",
              "      <td>Male</td>\n",
              "      <td>0</td>\n",
              "      <td>0</td>\n",
              "      <td>13</td>\n",
              "      <td>United-States</td>\n",
              "      <td>&lt;=50K</td>\n",
              "    </tr>\n",
              "    <tr>\n",
              "      <th>2</th>\n",
              "      <td>38</td>\n",
              "      <td>Private</td>\n",
              "      <td>215646</td>\n",
              "      <td>HS-grad</td>\n",
              "      <td>9</td>\n",
              "      <td>Divorced</td>\n",
              "      <td>Handlers-cleaners</td>\n",
              "      <td>Not-in-family</td>\n",
              "      <td>White</td>\n",
              "      <td>Male</td>\n",
              "      <td>0</td>\n",
              "      <td>0</td>\n",
              "      <td>40</td>\n",
              "      <td>United-States</td>\n",
              "      <td>&lt;=50K</td>\n",
              "    </tr>\n",
              "    <tr>\n",
              "      <th>3</th>\n",
              "      <td>53</td>\n",
              "      <td>Private</td>\n",
              "      <td>234721</td>\n",
              "      <td>11th</td>\n",
              "      <td>7</td>\n",
              "      <td>Married-civ-spouse</td>\n",
              "      <td>Handlers-cleaners</td>\n",
              "      <td>Husband</td>\n",
              "      <td>Black</td>\n",
              "      <td>Male</td>\n",
              "      <td>0</td>\n",
              "      <td>0</td>\n",
              "      <td>40</td>\n",
              "      <td>United-States</td>\n",
              "      <td>&lt;=50K</td>\n",
              "    </tr>\n",
              "    <tr>\n",
              "      <th>4</th>\n",
              "      <td>28</td>\n",
              "      <td>Private</td>\n",
              "      <td>338409</td>\n",
              "      <td>Bachelors</td>\n",
              "      <td>13</td>\n",
              "      <td>Married-civ-spouse</td>\n",
              "      <td>Prof-specialty</td>\n",
              "      <td>Wife</td>\n",
              "      <td>Black</td>\n",
              "      <td>Female</td>\n",
              "      <td>0</td>\n",
              "      <td>0</td>\n",
              "      <td>40</td>\n",
              "      <td>Cuba</td>\n",
              "      <td>&lt;=50K</td>\n",
              "    </tr>\n",
              "  </tbody>\n",
              "</table>\n",
              "</div>"
            ],
            "text/plain": [
              "   Age          WorkClass  fnlwgt  ... HoursPerWeek   NativeCountry  Income\n",
              "0   39          State-gov   77516  ...           40   United-States   <=50K\n",
              "1   50   Self-emp-not-inc   83311  ...           13   United-States   <=50K\n",
              "2   38            Private  215646  ...           40   United-States   <=50K\n",
              "3   53            Private  234721  ...           40   United-States   <=50K\n",
              "4   28            Private  338409  ...           40            Cuba   <=50K\n",
              "\n",
              "[5 rows x 15 columns]"
            ]
          },
          "metadata": {
            "tags": []
          },
          "execution_count": 3
        }
      ]
    },
    {
      "cell_type": "code",
      "metadata": {
        "colab_type": "code",
        "id": "Tfdos4OgC9Kw",
        "outputId": "7b812e74-2beb-45b2-b53b-4549b123426f",
        "colab": {
          "base_uri": "https://localhost:8080/",
          "height": 514
        }
      },
      "source": [
        "data.describe(include='all').T"
      ],
      "execution_count": 0,
      "outputs": [
        {
          "output_type": "execute_result",
          "data": {
            "text/html": [
              "<div>\n",
              "<style scoped>\n",
              "    .dataframe tbody tr th:only-of-type {\n",
              "        vertical-align: middle;\n",
              "    }\n",
              "\n",
              "    .dataframe tbody tr th {\n",
              "        vertical-align: top;\n",
              "    }\n",
              "\n",
              "    .dataframe thead th {\n",
              "        text-align: right;\n",
              "    }\n",
              "</style>\n",
              "<table border=\"1\" class=\"dataframe\">\n",
              "  <thead>\n",
              "    <tr style=\"text-align: right;\">\n",
              "      <th></th>\n",
              "      <th>count</th>\n",
              "      <th>unique</th>\n",
              "      <th>top</th>\n",
              "      <th>freq</th>\n",
              "      <th>mean</th>\n",
              "      <th>std</th>\n",
              "      <th>min</th>\n",
              "      <th>25%</th>\n",
              "      <th>50%</th>\n",
              "      <th>75%</th>\n",
              "      <th>max</th>\n",
              "    </tr>\n",
              "  </thead>\n",
              "  <tbody>\n",
              "    <tr>\n",
              "      <th>Age</th>\n",
              "      <td>32561</td>\n",
              "      <td>NaN</td>\n",
              "      <td>NaN</td>\n",
              "      <td>NaN</td>\n",
              "      <td>38.5816</td>\n",
              "      <td>13.6404</td>\n",
              "      <td>17</td>\n",
              "      <td>28</td>\n",
              "      <td>37</td>\n",
              "      <td>48</td>\n",
              "      <td>90</td>\n",
              "    </tr>\n",
              "    <tr>\n",
              "      <th>WorkClass</th>\n",
              "      <td>32561</td>\n",
              "      <td>9</td>\n",
              "      <td>Private</td>\n",
              "      <td>22696</td>\n",
              "      <td>NaN</td>\n",
              "      <td>NaN</td>\n",
              "      <td>NaN</td>\n",
              "      <td>NaN</td>\n",
              "      <td>NaN</td>\n",
              "      <td>NaN</td>\n",
              "      <td>NaN</td>\n",
              "    </tr>\n",
              "    <tr>\n",
              "      <th>fnlwgt</th>\n",
              "      <td>32561</td>\n",
              "      <td>NaN</td>\n",
              "      <td>NaN</td>\n",
              "      <td>NaN</td>\n",
              "      <td>189778</td>\n",
              "      <td>105550</td>\n",
              "      <td>12285</td>\n",
              "      <td>117827</td>\n",
              "      <td>178356</td>\n",
              "      <td>237051</td>\n",
              "      <td>1.48470e+06</td>\n",
              "    </tr>\n",
              "    <tr>\n",
              "      <th>Education</th>\n",
              "      <td>32561</td>\n",
              "      <td>16</td>\n",
              "      <td>HS-grad</td>\n",
              "      <td>10501</td>\n",
              "      <td>NaN</td>\n",
              "      <td>NaN</td>\n",
              "      <td>NaN</td>\n",
              "      <td>NaN</td>\n",
              "      <td>NaN</td>\n",
              "      <td>NaN</td>\n",
              "      <td>NaN</td>\n",
              "    </tr>\n",
              "    <tr>\n",
              "      <th>EducationNum</th>\n",
              "      <td>32561</td>\n",
              "      <td>NaN</td>\n",
              "      <td>NaN</td>\n",
              "      <td>NaN</td>\n",
              "      <td>10.0807</td>\n",
              "      <td>2.57272</td>\n",
              "      <td>1</td>\n",
              "      <td>9</td>\n",
              "      <td>10</td>\n",
              "      <td>12</td>\n",
              "      <td>16</td>\n",
              "    </tr>\n",
              "    <tr>\n",
              "      <th>MaritalStatus</th>\n",
              "      <td>32561</td>\n",
              "      <td>7</td>\n",
              "      <td>Married-civ-spouse</td>\n",
              "      <td>14976</td>\n",
              "      <td>NaN</td>\n",
              "      <td>NaN</td>\n",
              "      <td>NaN</td>\n",
              "      <td>NaN</td>\n",
              "      <td>NaN</td>\n",
              "      <td>NaN</td>\n",
              "      <td>NaN</td>\n",
              "    </tr>\n",
              "    <tr>\n",
              "      <th>Occupation</th>\n",
              "      <td>32561</td>\n",
              "      <td>15</td>\n",
              "      <td>Prof-specialty</td>\n",
              "      <td>4140</td>\n",
              "      <td>NaN</td>\n",
              "      <td>NaN</td>\n",
              "      <td>NaN</td>\n",
              "      <td>NaN</td>\n",
              "      <td>NaN</td>\n",
              "      <td>NaN</td>\n",
              "      <td>NaN</td>\n",
              "    </tr>\n",
              "    <tr>\n",
              "      <th>Relationship</th>\n",
              "      <td>32561</td>\n",
              "      <td>6</td>\n",
              "      <td>Husband</td>\n",
              "      <td>13193</td>\n",
              "      <td>NaN</td>\n",
              "      <td>NaN</td>\n",
              "      <td>NaN</td>\n",
              "      <td>NaN</td>\n",
              "      <td>NaN</td>\n",
              "      <td>NaN</td>\n",
              "      <td>NaN</td>\n",
              "    </tr>\n",
              "    <tr>\n",
              "      <th>Race</th>\n",
              "      <td>32561</td>\n",
              "      <td>5</td>\n",
              "      <td>White</td>\n",
              "      <td>27816</td>\n",
              "      <td>NaN</td>\n",
              "      <td>NaN</td>\n",
              "      <td>NaN</td>\n",
              "      <td>NaN</td>\n",
              "      <td>NaN</td>\n",
              "      <td>NaN</td>\n",
              "      <td>NaN</td>\n",
              "    </tr>\n",
              "    <tr>\n",
              "      <th>Gender</th>\n",
              "      <td>32561</td>\n",
              "      <td>2</td>\n",
              "      <td>Male</td>\n",
              "      <td>21790</td>\n",
              "      <td>NaN</td>\n",
              "      <td>NaN</td>\n",
              "      <td>NaN</td>\n",
              "      <td>NaN</td>\n",
              "      <td>NaN</td>\n",
              "      <td>NaN</td>\n",
              "      <td>NaN</td>\n",
              "    </tr>\n",
              "    <tr>\n",
              "      <th>CapitalGain</th>\n",
              "      <td>32561</td>\n",
              "      <td>NaN</td>\n",
              "      <td>NaN</td>\n",
              "      <td>NaN</td>\n",
              "      <td>1077.65</td>\n",
              "      <td>7385.29</td>\n",
              "      <td>0</td>\n",
              "      <td>0</td>\n",
              "      <td>0</td>\n",
              "      <td>0</td>\n",
              "      <td>99999</td>\n",
              "    </tr>\n",
              "    <tr>\n",
              "      <th>CapitalLoss</th>\n",
              "      <td>32561</td>\n",
              "      <td>NaN</td>\n",
              "      <td>NaN</td>\n",
              "      <td>NaN</td>\n",
              "      <td>87.3038</td>\n",
              "      <td>402.96</td>\n",
              "      <td>0</td>\n",
              "      <td>0</td>\n",
              "      <td>0</td>\n",
              "      <td>0</td>\n",
              "      <td>4356</td>\n",
              "    </tr>\n",
              "    <tr>\n",
              "      <th>HoursPerWeek</th>\n",
              "      <td>32561</td>\n",
              "      <td>NaN</td>\n",
              "      <td>NaN</td>\n",
              "      <td>NaN</td>\n",
              "      <td>40.4375</td>\n",
              "      <td>12.3474</td>\n",
              "      <td>1</td>\n",
              "      <td>40</td>\n",
              "      <td>40</td>\n",
              "      <td>45</td>\n",
              "      <td>99</td>\n",
              "    </tr>\n",
              "    <tr>\n",
              "      <th>NativeCountry</th>\n",
              "      <td>32561</td>\n",
              "      <td>42</td>\n",
              "      <td>United-States</td>\n",
              "      <td>29170</td>\n",
              "      <td>NaN</td>\n",
              "      <td>NaN</td>\n",
              "      <td>NaN</td>\n",
              "      <td>NaN</td>\n",
              "      <td>NaN</td>\n",
              "      <td>NaN</td>\n",
              "      <td>NaN</td>\n",
              "    </tr>\n",
              "    <tr>\n",
              "      <th>Income</th>\n",
              "      <td>32561</td>\n",
              "      <td>2</td>\n",
              "      <td>&lt;=50K</td>\n",
              "      <td>24720</td>\n",
              "      <td>NaN</td>\n",
              "      <td>NaN</td>\n",
              "      <td>NaN</td>\n",
              "      <td>NaN</td>\n",
              "      <td>NaN</td>\n",
              "      <td>NaN</td>\n",
              "      <td>NaN</td>\n",
              "    </tr>\n",
              "  </tbody>\n",
              "</table>\n",
              "</div>"
            ],
            "text/plain": [
              "               count unique                  top  ...     50%     75%          max\n",
              "Age            32561    NaN                  NaN  ...      37      48           90\n",
              "WorkClass      32561      9              Private  ...     NaN     NaN          NaN\n",
              "fnlwgt         32561    NaN                  NaN  ...  178356  237051  1.48470e+06\n",
              "Education      32561     16              HS-grad  ...     NaN     NaN          NaN\n",
              "EducationNum   32561    NaN                  NaN  ...      10      12           16\n",
              "MaritalStatus  32561      7   Married-civ-spouse  ...     NaN     NaN          NaN\n",
              "Occupation     32561     15       Prof-specialty  ...     NaN     NaN          NaN\n",
              "Relationship   32561      6              Husband  ...     NaN     NaN          NaN\n",
              "Race           32561      5                White  ...     NaN     NaN          NaN\n",
              "Gender         32561      2                 Male  ...     NaN     NaN          NaN\n",
              "CapitalGain    32561    NaN                  NaN  ...       0       0        99999\n",
              "CapitalLoss    32561    NaN                  NaN  ...       0       0         4356\n",
              "HoursPerWeek   32561    NaN                  NaN  ...      40      45           99\n",
              "NativeCountry  32561     42        United-States  ...     NaN     NaN          NaN\n",
              "Income         32561      2                <=50K  ...     NaN     NaN          NaN\n",
              "\n",
              "[15 rows x 11 columns]"
            ]
          },
          "metadata": {
            "tags": []
          },
          "execution_count": 6
        }
      ]
    },
    {
      "cell_type": "markdown",
      "metadata": {
        "id": "ty8KYRsTf2g1",
        "colab_type": "text"
      },
      "source": [
        "### Some of the key observations\n",
        "\n",
        "- The individuals mostly belong to **Private** _WorkClass_\n",
        "- Most of the individuals are **HS-grad**\n",
        "- The topmost marital status is **Married-civ-spouse**\n",
        "- Most of the individuals are from **United-States **natively\n",
        "- **White** is the dominant _Race_ (in the dataset)\n"
      ]
    },
    {
      "cell_type": "code",
      "metadata": {
        "colab_type": "code",
        "id": "LsoSp0RPDHxn",
        "outputId": "0af1fbc5-fe41-424d-c91a-fcacaab0cf87",
        "colab": {
          "base_uri": "https://localhost:8080/",
          "height": 36
        }
      },
      "source": [
        "data.shape"
      ],
      "execution_count": 0,
      "outputs": [
        {
          "output_type": "execute_result",
          "data": {
            "text/plain": [
              "(32561, 15)"
            ]
          },
          "metadata": {
            "tags": []
          },
          "execution_count": 7
        }
      ]
    },
    {
      "cell_type": "code",
      "metadata": {
        "colab_type": "code",
        "id": "jEaJtqXjDM3E",
        "outputId": "f46eae4a-6544-4ab8-c297-5fce73b7f14b",
        "colab": {
          "base_uri": "https://localhost:8080/",
          "height": 397
        }
      },
      "source": [
        "data.info()"
      ],
      "execution_count": 0,
      "outputs": [
        {
          "output_type": "stream",
          "text": [
            "<class 'pandas.core.frame.DataFrame'>\n",
            "RangeIndex: 32561 entries, 0 to 32560\n",
            "Data columns (total 15 columns):\n",
            "Age              32561 non-null int64\n",
            "WorkClass        32561 non-null object\n",
            "fnlwgt           32561 non-null int64\n",
            "Education        32561 non-null object\n",
            "EducationNum     32561 non-null int64\n",
            "MaritalStatus    32561 non-null object\n",
            "Occupation       32561 non-null object\n",
            "Relationship     32561 non-null object\n",
            "Race             32561 non-null object\n",
            "Gender           32561 non-null object\n",
            "CapitalGain      32561 non-null int64\n",
            "CapitalLoss      32561 non-null int64\n",
            "HoursPerWeek     32561 non-null int64\n",
            "NativeCountry    32561 non-null object\n",
            "Income           32561 non-null object\n",
            "dtypes: int64(6), object(9)\n",
            "memory usage: 3.7+ MB\n"
          ],
          "name": "stdout"
        }
      ]
    },
    {
      "cell_type": "markdown",
      "metadata": {
        "id": "3zyfSHRAfjb9",
        "colab_type": "text"
      },
      "source": [
        "The labels are present in the **Income** column. "
      ]
    },
    {
      "cell_type": "code",
      "metadata": {
        "colab_type": "code",
        "id": "drX0DTMVDRnW",
        "outputId": "0b685366-c684-4ba9-e6d0-4a0d027b9221",
        "colab": {
          "base_uri": "https://localhost:8080/",
          "height": 321
        }
      },
      "source": [
        "# Checking for missing values\n",
        "data.isna().sum()"
      ],
      "execution_count": 9,
      "outputs": [
        {
          "output_type": "execute_result",
          "data": {
            "text/plain": [
              "Age              0\n",
              "WorkClass        0\n",
              "fnlwgt           0\n",
              "Education        0\n",
              "EducationNum     0\n",
              "MaritalStatus    0\n",
              "Occupation       0\n",
              "Relationship     0\n",
              "Race             0\n",
              "Gender           0\n",
              "CapitalGain      0\n",
              "CapitalLoss      0\n",
              "HoursPerWeek     0\n",
              "NativeCountry    0\n",
              "Income           0\n",
              "dtype: int64"
            ]
          },
          "metadata": {
            "tags": []
          },
          "execution_count": 9
        }
      ]
    },
    {
      "cell_type": "markdown",
      "metadata": {
        "id": "0XSMjWUmgxlA",
        "colab_type": "text"
      },
      "source": [
        "### Class distribution in the dataset"
      ]
    },
    {
      "cell_type": "code",
      "metadata": {
        "colab_type": "code",
        "id": "723l0WvrDoae",
        "outputId": "487dc925-acb5-4bb4-b8af-179f1425aefa",
        "colab": {
          "base_uri": "https://localhost:8080/",
          "height": 111
        }
      },
      "source": [
        "from collections import Counter\n",
        "\n",
        "classes = Counter(data['Income'].values)\n",
        "class_dist = pd.DataFrame(classes.most_common(), columns=['Class', 'Num_Observations'])\n",
        "class_dist"
      ],
      "execution_count": 0,
      "outputs": [
        {
          "output_type": "execute_result",
          "data": {
            "text/html": [
              "<div>\n",
              "<style scoped>\n",
              "    .dataframe tbody tr th:only-of-type {\n",
              "        vertical-align: middle;\n",
              "    }\n",
              "\n",
              "    .dataframe tbody tr th {\n",
              "        vertical-align: top;\n",
              "    }\n",
              "\n",
              "    .dataframe thead th {\n",
              "        text-align: right;\n",
              "    }\n",
              "</style>\n",
              "<table border=\"1\" class=\"dataframe\">\n",
              "  <thead>\n",
              "    <tr style=\"text-align: right;\">\n",
              "      <th></th>\n",
              "      <th>Class</th>\n",
              "      <th>Num_Observations</th>\n",
              "    </tr>\n",
              "  </thead>\n",
              "  <tbody>\n",
              "    <tr>\n",
              "      <th>0</th>\n",
              "      <td>&lt;=50K</td>\n",
              "      <td>24720</td>\n",
              "    </tr>\n",
              "    <tr>\n",
              "      <th>1</th>\n",
              "      <td>&gt;50K</td>\n",
              "      <td>7841</td>\n",
              "    </tr>\n",
              "  </tbody>\n",
              "</table>\n",
              "</div>"
            ],
            "text/plain": [
              "    Class  Num_Observations\n",
              "0   <=50K             24720\n",
              "1    >50K              7841"
            ]
          },
          "metadata": {
            "tags": []
          },
          "execution_count": 11
        }
      ]
    },
    {
      "cell_type": "markdown",
      "metadata": {
        "id": "K7A-GoDqg2p1",
        "colab_type": "text"
      },
      "source": [
        "### How are the features correlated?"
      ]
    },
    {
      "cell_type": "code",
      "metadata": {
        "colab_type": "code",
        "id": "lugcmxbdFIlu",
        "colab": {}
      },
      "source": [
        "import seaborn as sns\n",
        "import matplotlib.pyplot as plt\n",
        "sns.set(style=\"white\")\n",
        "plt.style.use('ggplot')\n",
        "\n",
        "%matplotlib inline"
      ],
      "execution_count": 0,
      "outputs": []
    },
    {
      "cell_type": "code",
      "metadata": {
        "colab_type": "code",
        "id": "FabuN86hEw7A",
        "outputId": "31a6cae9-1252-4f04-db49-1048351b4f6d",
        "colab": {
          "base_uri": "https://localhost:8080/",
          "height": 364
        }
      },
      "source": [
        "cmap = sns.diverging_palette(220, 10, as_cmap=True)\n",
        "\n",
        "sns.heatmap(data.corr(), cmap=cmap, square=True, linewidths=.5, cbar_kws={\"shrink\": .5})"
      ],
      "execution_count": 0,
      "outputs": [
        {
          "output_type": "execute_result",
          "data": {
            "text/plain": [
              "<matplotlib.axes._subplots.AxesSubplot at 0x7f2196c18470>"
            ]
          },
          "metadata": {
            "tags": []
          },
          "execution_count": 18
        },
        {
          "output_type": "display_data",
          "data": {
            "image/png": "[encoded data removed]",
            "text/plain": [
              "<Figure size 432x288 with 2 Axes>"
            ]
          },
          "metadata": {
            "tags": []
          }
        }
      ]
    },
    {
      "cell_type": "markdown",
      "metadata": {
        "id": "1PuZp4EbhMUg",
        "colab_type": "text"
      },
      "source": [
        "## Start of machine learning modeling"
      ]
    },
    {
      "cell_type": "markdown",
      "metadata": {
        "colab_type": "text",
        "id": "hMZuWQXfHnhR"
      },
      "source": [
        "## `fastai`"
      ]
    },
    {
      "cell_type": "code",
      "metadata": {
        "colab_type": "code",
        "id": "MGQ0-qf9Hp_K",
        "colab": {}
      },
      "source": [
        "from fastai.tabular import * \n",
        "import torch\n",
        "\n",
        "torch.cuda.manual_seed_all(7)"
      ],
      "execution_count": 0,
      "outputs": []
    },
    {
      "cell_type": "code",
      "metadata": {
        "colab_type": "code",
        "id": "ayKL0iDmDVCz",
        "colab": {}
      },
      "source": [
        "preprocessing = [FillMissing, Categorify, Normalize]"
      ],
      "execution_count": 0,
      "outputs": []
    },
    {
      "cell_type": "code",
      "metadata": {
        "colab_type": "code",
        "id": "C-XDkBWnD5HD",
        "colab": {}
      },
      "source": [
        "dep_var = 'Income'\n",
        "cat_names = ['WorkClass', 'Education', 'MaritalStatus', 'Occupation', 'Relationship', 'Race', 'Gender', 'NativeCountry']"
      ],
      "execution_count": 0,
      "outputs": []
    },
    {
      "cell_type": "markdown",
      "metadata": {
        "id": "XMrkroLshYWc",
        "colab_type": "text"
      },
      "source": [
        "**I am not using a randomized validation set. Instead I am using the last 2000 entries for the purpose.**"
      ]
    },
    {
      "cell_type": "code",
      "metadata": {
        "colab_type": "code",
        "id": "h0NDfN_mGLGy",
        "colab": {}
      },
      "source": [
        "valid_idx = range(len(data)-2000, len(data))\n",
        "\n",
        "path=\".\"\n",
        "\n",
        "databunch = TabularDataBunch.from_df(path, data, dep_var, valid_idx=valid_idx, procs=preprocessing, cat_names=cat_names)"
      ],
      "execution_count": 0,
      "outputs": []
    },
    {
      "cell_type": "code",
      "metadata": {
        "colab_type": "code",
        "id": "KnnOvdtYGdAL",
        "outputId": "eafcaf4c-361a-4f07-9acb-309fbaedc6e9",
        "colab": {
          "base_uri": "https://localhost:8080/",
          "height": 292
        }
      },
      "source": [
        "databunch.show_batch()"
      ],
      "execution_count": 0,
      "outputs": [
        {
          "output_type": "display_data",
          "data": {
            "text/html": [
              "<table border=\"1\" class=\"dataframe\">\n",
              "  <thead>\n",
              "    <tr style=\"text-align: right;\">\n",
              "      <th>WorkClass</th>\n",
              "      <th>Education</th>\n",
              "      <th>MaritalStatus</th>\n",
              "      <th>Occupation</th>\n",
              "      <th>Relationship</th>\n",
              "      <th>Race</th>\n",
              "      <th>Gender</th>\n",
              "      <th>NativeCountry</th>\n",
              "      <th>fnlwgt</th>\n",
              "      <th>HoursPerWeek</th>\n",
              "      <th>Age</th>\n",
              "      <th>EducationNum</th>\n",
              "      <th>CapitalGain</th>\n",
              "      <th>CapitalLoss</th>\n",
              "      <th>target</th>\n",
              "    </tr>\n",
              "  </thead>\n",
              "  <tbody>\n",
              "    <tr>\n",
              "      <td>Private</td>\n",
              "      <td>HS-grad</td>\n",
              "      <td>Married-civ-spouse</td>\n",
              "      <td>Other-service</td>\n",
              "      <td>Husband</td>\n",
              "      <td>White</td>\n",
              "      <td>Male</td>\n",
              "      <td>United-States</td>\n",
              "      <td>-0.2373</td>\n",
              "      <td>-0.0338</td>\n",
              "      <td>-1.2140</td>\n",
              "      <td>-0.4186</td>\n",
              "      <td>-0.1462</td>\n",
              "      <td>-0.2161</td>\n",
              "      <td>&lt;=50K</td>\n",
              "    </tr>\n",
              "    <tr>\n",
              "      <td>Private</td>\n",
              "      <td>12th</td>\n",
              "      <td>Never-married</td>\n",
              "      <td>Craft-repair</td>\n",
              "      <td>Own-child</td>\n",
              "      <td>White</td>\n",
              "      <td>Male</td>\n",
              "      <td>United-States</td>\n",
              "      <td>0.3247</td>\n",
              "      <td>-0.0338</td>\n",
              "      <td>-1.3606</td>\n",
              "      <td>-0.8076</td>\n",
              "      <td>-0.1462</td>\n",
              "      <td>-0.2161</td>\n",
              "      <td>&lt;=50K</td>\n",
              "    </tr>\n",
              "    <tr>\n",
              "      <td>Private</td>\n",
              "      <td>9th</td>\n",
              "      <td>Married-civ-spouse</td>\n",
              "      <td>Craft-repair</td>\n",
              "      <td>Husband</td>\n",
              "      <td>White</td>\n",
              "      <td>Male</td>\n",
              "      <td>United-States</td>\n",
              "      <td>0.0693</td>\n",
              "      <td>-0.0338</td>\n",
              "      <td>1.6442</td>\n",
              "      <td>-1.9748</td>\n",
              "      <td>-0.1462</td>\n",
              "      <td>-0.2161</td>\n",
              "      <td>&lt;=50K</td>\n",
              "    </tr>\n",
              "    <tr>\n",
              "      <td>State-gov</td>\n",
              "      <td>Doctorate</td>\n",
              "      <td>Married-civ-spouse</td>\n",
              "      <td>Prof-specialty</td>\n",
              "      <td>Husband</td>\n",
              "      <td>White</td>\n",
              "      <td>Male</td>\n",
              "      <td>Germany</td>\n",
              "      <td>0.6094</td>\n",
              "      <td>2.4012</td>\n",
              "      <td>0.9846</td>\n",
              "      <td>2.3047</td>\n",
              "      <td>-0.1462</td>\n",
              "      <td>4.4776</td>\n",
              "      <td>&gt;50K</td>\n",
              "    </tr>\n",
              "    <tr>\n",
              "      <td>State-gov</td>\n",
              "      <td>12th</td>\n",
              "      <td>Never-married</td>\n",
              "      <td>Exec-managerial</td>\n",
              "      <td>Not-in-family</td>\n",
              "      <td>White</td>\n",
              "      <td>Male</td>\n",
              "      <td>United-States</td>\n",
              "      <td>-0.0316</td>\n",
              "      <td>0.7779</td>\n",
              "      <td>-1.2140</td>\n",
              "      <td>-0.8076</td>\n",
              "      <td>-0.1462</td>\n",
              "      <td>-0.2161</td>\n",
              "      <td>&gt;50K</td>\n",
              "    </tr>\n",
              "  </tbody>\n",
              "</table>"
            ],
            "text/plain": [
              "<IPython.core.display.HTML object>"
            ]
          },
          "metadata": {
            "tags": []
          }
        }
      ]
    },
    {
      "cell_type": "markdown",
      "metadata": {
        "id": "o8UJYr5Khioc",
        "colab_type": "text"
      },
      "source": [
        "### Class distribution in the train and test set after splitting"
      ]
    },
    {
      "cell_type": "code",
      "metadata": {
        "colab_type": "code",
        "id": "RUjpd-59hOrJ",
        "outputId": "4acb7eb8-c27a-4fac-f692-f6f07b4c5d2b",
        "colab": {
          "base_uri": "https://localhost:8080/",
          "height": 111
        }
      },
      "source": [
        "train_dist = Counter(databunch.train_ds.y)\n",
        "pd.DataFrame(train_dist.most_common(), columns=['Classes', '#'])"
      ],
      "execution_count": 0,
      "outputs": [
        {
          "output_type": "execute_result",
          "data": {
            "text/html": [
              "<div>\n",
              "<style scoped>\n",
              "    .dataframe tbody tr th:only-of-type {\n",
              "        vertical-align: middle;\n",
              "    }\n",
              "\n",
              "    .dataframe tbody tr th {\n",
              "        vertical-align: top;\n",
              "    }\n",
              "\n",
              "    .dataframe thead th {\n",
              "        text-align: right;\n",
              "    }\n",
              "</style>\n",
              "<table border=\"1\" class=\"dataframe\">\n",
              "  <thead>\n",
              "    <tr style=\"text-align: right;\">\n",
              "      <th></th>\n",
              "      <th>Classes</th>\n",
              "      <th>#</th>\n",
              "    </tr>\n",
              "  </thead>\n",
              "  <tbody>\n",
              "    <tr>\n",
              "      <th>0</th>\n",
              "      <td>&lt;=50K</td>\n",
              "      <td>23235</td>\n",
              "    </tr>\n",
              "    <tr>\n",
              "      <th>1</th>\n",
              "      <td>&gt;50K</td>\n",
              "      <td>7326</td>\n",
              "    </tr>\n",
              "  </tbody>\n",
              "</table>\n",
              "</div>"
            ],
            "text/plain": [
              "  Classes      #\n",
              "0   <=50K  23235\n",
              "1    >50K   7326"
            ]
          },
          "metadata": {
            "tags": []
          },
          "execution_count": 78
        }
      ]
    },
    {
      "cell_type": "code",
      "metadata": {
        "colab_type": "code",
        "id": "QWXJQMENhlA6",
        "outputId": "826876d2-49c8-48e9-bc52-21131a9817e4",
        "colab": {
          "base_uri": "https://localhost:8080/",
          "height": 111
        }
      },
      "source": [
        "valid_dist = Counter(databunch.valid_ds.y)\n",
        "pd.DataFrame(valid_dist.most_common(), columns=['Classes', '#'])"
      ],
      "execution_count": 0,
      "outputs": [
        {
          "output_type": "execute_result",
          "data": {
            "text/html": [
              "<div>\n",
              "<style scoped>\n",
              "    .dataframe tbody tr th:only-of-type {\n",
              "        vertical-align: middle;\n",
              "    }\n",
              "\n",
              "    .dataframe tbody tr th {\n",
              "        vertical-align: top;\n",
              "    }\n",
              "\n",
              "    .dataframe thead th {\n",
              "        text-align: right;\n",
              "    }\n",
              "</style>\n",
              "<table border=\"1\" class=\"dataframe\">\n",
              "  <thead>\n",
              "    <tr style=\"text-align: right;\">\n",
              "      <th></th>\n",
              "      <th>Classes</th>\n",
              "      <th>#</th>\n",
              "    </tr>\n",
              "  </thead>\n",
              "  <tbody>\n",
              "    <tr>\n",
              "      <th>0</th>\n",
              "      <td>&lt;=50K</td>\n",
              "      <td>1485</td>\n",
              "    </tr>\n",
              "    <tr>\n",
              "      <th>1</th>\n",
              "      <td>&gt;50K</td>\n",
              "      <td>515</td>\n",
              "    </tr>\n",
              "  </tbody>\n",
              "</table>\n",
              "</div>"
            ],
            "text/plain": [
              "  Classes     #\n",
              "0   <=50K  1485\n",
              "1    >50K   515"
            ]
          },
          "metadata": {
            "tags": []
          },
          "execution_count": 79
        }
      ]
    },
    {
      "cell_type": "code",
      "metadata": {
        "colab_type": "code",
        "id": "mdME7s5_Ha9c",
        "outputId": "4b461734-92b3-43f3-ae0e-e6e80988aa26",
        "colab": {
          "base_uri": "https://localhost:8080/",
          "height": 310
        }
      },
      "source": [
        "learn = tabular_learner(databunch, layers=[200,100], emb_szs={'NativeCountry': 10}, metrics=accuracy)\n",
        "learn.lr_find()\n",
        "learn.recorder.plot()"
      ],
      "execution_count": 0,
      "outputs": [
        {
          "output_type": "display_data",
          "data": {
            "text/html": [
              ""
            ],
            "text/plain": [
              "<IPython.core.display.HTML object>"
            ]
          },
          "metadata": {
            "tags": []
          }
        },
        {
          "output_type": "stream",
          "text": [
            "LR Finder is complete, type {learner_name}.recorder.plot() to see the graph.\n"
          ],
          "name": "stdout"
        },
        {
          "output_type": "display_data",
          "data": {
            "image/png": "[encoded data removed]",
            "text/plain": [
              "<Figure size 432x288 with 1 Axes>"
            ]
          },
          "metadata": {
            "tags": []
          }
        }
      ]
    },
    {
      "cell_type": "code",
      "metadata": {
        "colab_type": "code",
        "id": "YyV4dCJDIlfx",
        "outputId": "008acd62-48d6-47ff-df3c-fa3fe7dd1017",
        "colab": {
          "base_uri": "https://localhost:8080/",
          "height": 204
        }
      },
      "source": [
        "learn.fit_one_cycle(5, max_lr=slice(1e-03))"
      ],
      "execution_count": 0,
      "outputs": [
        {
          "output_type": "display_data",
          "data": {
            "text/html": [
              "<table border=\"1\" class=\"dataframe\">\n",
              "  <thead>\n",
              "    <tr style=\"text-align: left;\">\n",
              "      <th>epoch</th>\n",
              "      <th>train_loss</th>\n",
              "      <th>valid_loss</th>\n",
              "      <th>accuracy</th>\n",
              "      <th>time</th>\n",
              "    </tr>\n",
              "  </thead>\n",
              "  <tbody>\n",
              "    <tr>\n",
              "      <td>0</td>\n",
              "      <td>0.365516</td>\n",
              "      <td>0.350557</td>\n",
              "      <td>0.838500</td>\n",
              "      <td>00:04</td>\n",
              "    </tr>\n",
              "    <tr>\n",
              "      <td>1</td>\n",
              "      <td>0.321920</td>\n",
              "      <td>0.329586</td>\n",
              "      <td>0.842000</td>\n",
              "      <td>00:05</td>\n",
              "    </tr>\n",
              "    <tr>\n",
              "      <td>2</td>\n",
              "      <td>0.320433</td>\n",
              "      <td>0.323776</td>\n",
              "      <td>0.852000</td>\n",
              "      <td>00:04</td>\n",
              "    </tr>\n",
              "    <tr>\n",
              "      <td>3</td>\n",
              "      <td>0.325805</td>\n",
              "      <td>0.325966</td>\n",
              "      <td>0.847000</td>\n",
              "      <td>00:04</td>\n",
              "    </tr>\n",
              "    <tr>\n",
              "      <td>4</td>\n",
              "      <td>0.313125</td>\n",
              "      <td>0.323612</td>\n",
              "      <td>0.851000</td>\n",
              "      <td>00:04</td>\n",
              "    </tr>\n",
              "  </tbody>\n",
              "</table>"
            ],
            "text/plain": [
              "<IPython.core.display.HTML object>"
            ]
          },
          "metadata": {
            "tags": []
          }
        }
      ]
    },
    {
      "cell_type": "markdown",
      "metadata": {
        "id": "F3petUkohq21",
        "colab_type": "text"
      },
      "source": [
        "**Takes seconds to train.** We get an accuracy of **85.1%**. We just supplied a good learning rate and trained the network with 1cycle policy. "
      ]
    },
    {
      "cell_type": "code",
      "metadata": {
        "colab_type": "code",
        "id": "kSi3FVqrI7bc",
        "outputId": "3cfd931f-93b7-4332-d21b-b764c1c20bdd",
        "colab": {
          "base_uri": "https://localhost:8080/",
          "height": 291
        }
      },
      "source": [
        "learn.recorder.plot_losses()"
      ],
      "execution_count": 0,
      "outputs": [
        {
          "output_type": "display_data",
          "data": {
            "image/png": "[encoded data removed]",
            "text/plain": [
              "<Figure size 432x288 with 1 Axes>"
            ]
          },
          "metadata": {
            "tags": []
          }
        }
      ]
    },
    {
      "cell_type": "code",
      "metadata": {
        "colab_type": "code",
        "id": "oKiRu38bdu7i",
        "outputId": "9d1b9879-9cbc-4573-d529-a90d54b93603",
        "colab": {
          "base_uri": "https://localhost:8080/",
          "height": 314
        }
      },
      "source": [
        "interp = ClassificationInterpretation.from_learner(learn)\n",
        "interp.plot_confusion_matrix()"
      ],
      "execution_count": 0,
      "outputs": [
        {
          "output_type": "display_data",
          "data": {
            "image/png": "[encoded data removed]",
            "text/plain": [
              "<Figure size 432x288 with 1 Axes>"
            ]
          },
          "metadata": {
            "tags": []
          }
        }
      ]
    },
    {
      "cell_type": "markdown",
      "metadata": {
        "id": "x8xlfEjniehH",
        "colab_type": "text"
      },
      "source": [
        "**The model confuses in identifying the individuals that actually earn more than 50K a year.** "
      ]
    },
    {
      "cell_type": "markdown",
      "metadata": {
        "colab_type": "text",
        "id": "VuyMVuUxJ8ZU"
      },
      "source": [
        "## `h20`\n",
        "\n",
        "I will be using the [`automl`](http://docs.h2o.ai/h2o/latest-stable/h2o-docs/automl.html) module that comes with `h2o`."
      ]
    },
    {
      "cell_type": "code",
      "metadata": {
        "colab_type": "code",
        "id": "iAR6XzuHJ7Mh",
        "colab": {}
      },
      "source": [
        "!pip install -f http://h2o-release.s3.amazonaws.com/h2o/latest_stable_Py.html h2o"
      ],
      "execution_count": 0,
      "outputs": []
    },
    {
      "cell_type": "code",
      "metadata": {
        "colab_type": "code",
        "id": "AX48Po0cKR2v",
        "colab": {}
      },
      "source": [
        "import h2o\n",
        "from h2o.automl import H2OAutoML\n",
        "\n",
        "h2o.init()"
      ],
      "execution_count": 0,
      "outputs": []
    },
    {
      "cell_type": "markdown",
      "metadata": {
        "id": "kDwFfZFyjG38",
        "colab_type": "text"
      },
      "source": [
        "`h2o` models require the data to be in [H2OFrame](http://docs.h2o.ai/h2o/latest-stable/h2o-py/docs/frame.html) format. "
      ]
    },
    {
      "cell_type": "code",
      "metadata": {
        "colab_type": "code",
        "id": "BrxOP0q1KXcb",
        "colab": {
          "base_uri": "https://localhost:8080/",
          "height": 55
        },
        "outputId": "a1accf8d-a4d7-446e-df68-b5f00c9e05d2"
      },
      "source": [
        "# Following the same train/test split\n",
        "train = data[:30561]\n",
        "test = data[30561:]\n",
        "\n",
        "train_frame = h2o.H2OFrame(train)\n",
        "test_frame = h2o.h2o.H2OFrame(test)"
      ],
      "execution_count": 6,
      "outputs": [
        {
          "output_type": "stream",
          "text": [
            "Parse progress: |█████████████████████████████████████████████████████████| 100%\n",
            "Parse progress: |█████████████████████████████████████████████████████████| 100%\n"
          ],
          "name": "stdout"
        }
      ]
    },
    {
      "cell_type": "code",
      "metadata": {
        "id": "6UI1-IFcYmhH",
        "colab_type": "code",
        "outputId": "ca5593b7-711c-45e0-cd6e-7482ebcb8d0a",
        "colab": {}
      },
      "source": [
        "# Verify the distribution is same\n",
        "print('In the training set', Counter(train['Income']).most_common())\n",
        "print('\\nIn the testing set', Counter(test['Income']).most_common())"
      ],
      "execution_count": 0,
      "outputs": [
        {
          "output_type": "stream",
          "text": [
            "In the training set [(' <=50K', 23235), (' >50K', 7326)]\n",
            "\n",
            "In the testing set [(' <=50K', 1485), (' >50K', 515)]\n"
          ],
          "name": "stdout"
        }
      ]
    },
    {
      "cell_type": "code",
      "metadata": {
        "colab_type": "code",
        "id": "_13n9Gt0LY8i",
        "outputId": "c3b5a4b5-0ac3-4f10-c4aa-1c005831c99a",
        "colab": {
          "base_uri": "https://localhost:8080/",
          "height": 93
        }
      },
      "source": [
        "x = data.columns[0:-1]\n",
        "y = data.columns[-1]\n",
        "\n",
        "x, y"
      ],
      "execution_count": 7,
      "outputs": [
        {
          "output_type": "execute_result",
          "data": {
            "text/plain": [
              "(Index([u'Age', u'WorkClass', u'fnlwgt', u'Education', u'EducationNum',\n",
              "        u'MaritalStatus', u'Occupation', u'Relationship', u'Race', u'Gender',\n",
              "        u'CapitalGain', u'CapitalLoss', u'HoursPerWeek', u'NativeCountry'],\n",
              "       dtype='object'), 'Income')"
            ]
          },
          "metadata": {
            "tags": []
          },
          "execution_count": 7
        }
      ]
    },
    {
      "cell_type": "code",
      "metadata": {
        "colab_type": "code",
        "id": "wEoSGgDOMB9N",
        "colab": {}
      },
      "source": [
        "# The targets have to be factorized before they are fed to the models in h2o\n",
        "train_frame[y] = train_frame[y].asfactor()\n",
        "test_frame[y] = test_frame[y].asfactor()"
      ],
      "execution_count": 0,
      "outputs": []
    },
    {
      "cell_type": "code",
      "metadata": {
        "colab_type": "code",
        "id": "yQ0bDABLMtQM",
        "outputId": "152d07d7-2ea4-40b3-c66d-66029b7ecb16",
        "colab": {
          "base_uri": "https://localhost:8080/",
          "height": 55
        }
      },
      "source": [
        "import time\n",
        "\n",
        "aml = H2OAutoML(max_models=20, seed=1)\n",
        "start = time.time()\n",
        "aml.train(x=x.tolist(), y=y, training_frame=train_frame, validation_frame=test_frame)\n",
        "print('AutoML took {} seconds'.format(time.time()-start))"
      ],
      "execution_count": 8,
      "outputs": [
        {
          "output_type": "stream",
          "text": [
            "AutoML progress: |████████████████████████████████████████████████████████| 100%\n",
            "AutoML took 1899.14495087 seconds\n"
          ],
          "name": "stdout"
        }
      ]
    },
    {
      "cell_type": "markdown",
      "metadata": {
        "id": "2Y-BcfhakIVv",
        "colab_type": "text"
      },
      "source": [
        "**Takes more than half an hour of time.**"
      ]
    },
    {
      "cell_type": "code",
      "metadata": {
        "colab_type": "code",
        "id": "RRPyJGv5XTpG",
        "outputId": "9f6eafd1-517d-4d65-aec1-892be6b6355d",
        "colab": {
          "base_uri": "https://localhost:8080/",
          "height": 502
        }
      },
      "source": [
        "# An overview of how the models did within automl\n",
        "lb = aml.leaderboard\n",
        "lb.head(rows=lb.nrows)"
      ],
      "execution_count": 0,
      "outputs": [
        {
          "output_type": "display_data",
          "data": {
            "text/html": [
              "<table>\n",
              "<thead>\n",
              "<tr><th>model_id                                           </th><th style=\"text-align: right;\">     auc</th><th style=\"text-align: right;\">  logloss</th><th style=\"text-align: right;\">  mean_per_class_error</th><th style=\"text-align: right;\">    rmse</th><th style=\"text-align: right;\">      mse</th></tr>\n",
              "</thead>\n",
              "<tbody>\n",
              "<tr><td>StackedEnsemble_BestOfFamily_AutoML_20190517_051139</td><td style=\"text-align: right;\">0.927794</td><td style=\"text-align: right;\"> 0.294853</td><td style=\"text-align: right;\">              0.173797</td><td style=\"text-align: right;\">0.301101</td><td style=\"text-align: right;\">0.0906617</td></tr>\n",
              "<tr><td>StackedEnsemble_AllModels_AutoML_20190517_051139   </td><td style=\"text-align: right;\">0.927341</td><td style=\"text-align: right;\"> 0.293938</td><td style=\"text-align: right;\">              0.177802</td><td style=\"text-align: right;\">0.301006</td><td style=\"text-align: right;\">0.0906044</td></tr>\n",
              "<tr><td>GBM_1_AutoML_20190517_051139                       </td><td style=\"text-align: right;\">0.927287</td><td style=\"text-align: right;\"> 0.280554</td><td style=\"text-align: right;\">              0.172945</td><td style=\"text-align: right;\">0.297822</td><td style=\"text-align: right;\">0.0886982</td></tr>\n",
              "<tr><td>GBM_2_AutoML_20190517_051139                       </td><td style=\"text-align: right;\">0.926877</td><td style=\"text-align: right;\"> 0.28149 </td><td style=\"text-align: right;\">              0.174273</td><td style=\"text-align: right;\">0.298392</td><td style=\"text-align: right;\">0.0890378</td></tr>\n",
              "<tr><td>XGBoost_grid_1_AutoML_20190517_051139_model_1      </td><td style=\"text-align: right;\">0.926558</td><td style=\"text-align: right;\"> 0.281426</td><td style=\"text-align: right;\">              0.180692</td><td style=\"text-align: right;\">0.298438</td><td style=\"text-align: right;\">0.0890653</td></tr>\n",
              "<tr><td>GBM_3_AutoML_20190517_051139                       </td><td style=\"text-align: right;\">0.926515</td><td style=\"text-align: right;\"> 0.281957</td><td style=\"text-align: right;\">              0.169478</td><td style=\"text-align: right;\">0.298677</td><td style=\"text-align: right;\">0.0892077</td></tr>\n",
              "<tr><td>XGBoost_grid_1_AutoML_20190517_051139_model_4      </td><td style=\"text-align: right;\">0.926337</td><td style=\"text-align: right;\"> 0.281744</td><td style=\"text-align: right;\">              0.176406</td><td style=\"text-align: right;\">0.298589</td><td style=\"text-align: right;\">0.0891556</td></tr>\n",
              "<tr><td>XGBoost_1_AutoML_20190517_051139                   </td><td style=\"text-align: right;\">0.925989</td><td style=\"text-align: right;\"> 0.282082</td><td style=\"text-align: right;\">              0.181502</td><td style=\"text-align: right;\">0.298905</td><td style=\"text-align: right;\">0.0893445</td></tr>\n",
              "<tr><td>XGBoost_grid_1_AutoML_20190517_051139_model_3      </td><td style=\"text-align: right;\">0.924797</td><td style=\"text-align: right;\"> 0.285085</td><td style=\"text-align: right;\">              0.180002</td><td style=\"text-align: right;\">0.300316</td><td style=\"text-align: right;\">0.0901899</td></tr>\n",
              "<tr><td>GBM_4_AutoML_20190517_051139                       </td><td style=\"text-align: right;\">0.924704</td><td style=\"text-align: right;\"> 0.285485</td><td style=\"text-align: right;\">              0.17366 </td><td style=\"text-align: right;\">0.300621</td><td style=\"text-align: right;\">0.0903731</td></tr>\n",
              "<tr><td>GBM_5_AutoML_20190517_051139                       </td><td style=\"text-align: right;\">0.923928</td><td style=\"text-align: right;\"> 0.286686</td><td style=\"text-align: right;\">              0.170585</td><td style=\"text-align: right;\">0.301495</td><td style=\"text-align: right;\">0.0908994</td></tr>\n",
              "<tr><td>XGBoost_2_AutoML_20190517_051139                   </td><td style=\"text-align: right;\">0.923395</td><td style=\"text-align: right;\"> 0.287352</td><td style=\"text-align: right;\">              0.176231</td><td style=\"text-align: right;\">0.301707</td><td style=\"text-align: right;\">0.0910271</td></tr>\n",
              "<tr><td>XGBoost_3_AutoML_20190517_051139                   </td><td style=\"text-align: right;\">0.922526</td><td style=\"text-align: right;\"> 0.29146 </td><td style=\"text-align: right;\">              0.17291 </td><td style=\"text-align: right;\">0.302874</td><td style=\"text-align: right;\">0.0917328</td></tr>\n",
              "<tr><td>GBM_grid_1_AutoML_20190517_051139_model_1          </td><td style=\"text-align: right;\">0.919806</td><td style=\"text-align: right;\"> 0.296376</td><td style=\"text-align: right;\">              0.177414</td><td style=\"text-align: right;\">0.305892</td><td style=\"text-align: right;\">0.0935697</td></tr>\n",
              "<tr><td>XGBoost_grid_1_AutoML_20190517_051139_model_2      </td><td style=\"text-align: right;\">0.919488</td><td style=\"text-align: right;\"> 0.306043</td><td style=\"text-align: right;\">              0.180484</td><td style=\"text-align: right;\">0.30894 </td><td style=\"text-align: right;\">0.095444 </td></tr>\n",
              "<tr><td>DRF_1_AutoML_20190517_051139                       </td><td style=\"text-align: right;\">0.914053</td><td style=\"text-align: right;\"> 0.318848</td><td style=\"text-align: right;\">              0.186924</td><td style=\"text-align: right;\">0.309512</td><td style=\"text-align: right;\">0.0957977</td></tr>\n",
              "<tr><td>XRT_1_AutoML_20190517_051139                       </td><td style=\"text-align: right;\">0.913135</td><td style=\"text-align: right;\"> 0.306373</td><td style=\"text-align: right;\">              0.190739</td><td style=\"text-align: right;\">0.310776</td><td style=\"text-align: right;\">0.0965818</td></tr>\n",
              "<tr><td>DeepLearning_1_AutoML_20190517_051139              </td><td style=\"text-align: right;\">0.910358</td><td style=\"text-align: right;\"> 0.312872</td><td style=\"text-align: right;\">              0.18745 </td><td style=\"text-align: right;\">0.316064</td><td style=\"text-align: right;\">0.0998963</td></tr>\n",
              "<tr><td>DeepLearning_grid_1_AutoML_20190517_051139_model_1 </td><td style=\"text-align: right;\">0.908405</td><td style=\"text-align: right;\"> 0.323896</td><td style=\"text-align: right;\">              0.186483</td><td style=\"text-align: right;\">0.317481</td><td style=\"text-align: right;\">0.100794 </td></tr>\n",
              "<tr><td>GBM_grid_1_AutoML_20190517_051139_model_2          </td><td style=\"text-align: right;\">0.907593</td><td style=\"text-align: right;\"> 0.340761</td><td style=\"text-align: right;\">              0.189399</td><td style=\"text-align: right;\">0.32227 </td><td style=\"text-align: right;\">0.103858 </td></tr>\n",
              "<tr><td>GLM_grid_1_AutoML_20190517_051139_model_1          </td><td style=\"text-align: right;\">0.906696</td><td style=\"text-align: right;\"> 0.318681</td><td style=\"text-align: right;\">              0.193507</td><td style=\"text-align: right;\">0.319155</td><td style=\"text-align: right;\">0.10186  </td></tr>\n",
              "<tr><td>DeepLearning_grid_1_AutoML_20190517_051139_model_2 </td><td style=\"text-align: right;\">0.895188</td><td style=\"text-align: right;\"> 0.34834 </td><td style=\"text-align: right;\">              0.189348</td><td style=\"text-align: right;\">0.329126</td><td style=\"text-align: right;\">0.108324 </td></tr>\n",
              "</tbody>\n",
              "</table>"
            ]
          },
          "metadata": {
            "tags": []
          }
        },
        {
          "output_type": "execute_result",
          "data": {
            "text/plain": [
              ""
            ]
          },
          "metadata": {
            "tags": []
          },
          "execution_count": 56
        }
      ]
    },
    {
      "cell_type": "markdown",
      "metadata": {
        "id": "1vKufTQ4k6NQ",
        "colab_type": "text"
      },
      "source": [
        "As we can see the best performing model is a StackedEnsemble of different models. "
      ]
    },
    {
      "cell_type": "code",
      "metadata": {
        "id": "_Fjw_V2RkRYm",
        "colab_type": "code",
        "colab": {
          "base_uri": "https://localhost:8080/",
          "height": 3407
        },
        "outputId": "4506d2d4-a65c-48d5-8dbe-5d36a026bacf"
      },
      "source": [
        "# An extremely detailed overview of the best performing model from automl\n",
        "aml.leader"
      ],
      "execution_count": 10,
      "outputs": [
        {
          "output_type": "stream",
          "text": [
            "Model Details\n",
            "=============\n",
            "H2OStackedEnsembleEstimator :  Stacked Ensemble\n",
            "Model Key:  StackedEnsemble_BestOfFamily_AutoML_20190517_105916\n",
            "No model summary for this model\n",
            "\n",
            "\n",
            "ModelMetricsBinomialGLM: stackedensemble\n",
            "** Reported on train data. **\n",
            "\n",
            "MSE: 0.0818098670582\n",
            "RMSE: 0.286024242081\n",
            "LogLoss: 0.268486688876\n",
            "Null degrees of freedom: 30560\n",
            "Residual degrees of freedom: 30558\n",
            "Null deviance: 33663.1756673\n",
            "Residual deviance: 16410.4433975\n",
            "AIC: 16416.4433975\n",
            "AUC: 0.942033840872\n",
            "pr_auc: 0.810480622707\n",
            "Gini: 0.884067681744\n",
            "Confusion Matrix (Act/Pred) for max f1 @ threshold = 0.346604175412: \n"
          ],
          "name": "stdout"
        },
        {
          "output_type": "display_data",
          "data": {
            "text/plain": [
              "        <=50K     >50K    Error    Rate\n",
              "-----  --------  -------  -------  ----------------\n",
              "<=50K  21370     1865     0.0803   (1865.0/23235.0)\n",
              ">50K   1748      5578     0.2386   (1748.0/7326.0)\n",
              "Total  23118     7443     0.1182   (3613.0/30561.0)"
            ],
            "text/html": [
              "<div style=\"overflow:auto\"><table style=\"width:50%\"><tr><td><b></b></td>\n",
              "<td><b> <=50K</b></td>\n",
              "<td><b> >50K</b></td>\n",
              "<td><b>Error</b></td>\n",
              "<td><b>Rate</b></td></tr>\n",
              "<tr><td> <=50K</td>\n",
              "<td>21370.0</td>\n",
              "<td>1865.0</td>\n",
              "<td>0.0803</td>\n",
              "<td> (1865.0/23235.0)</td></tr>\n",
              "<tr><td> >50K</td>\n",
              "<td>1748.0</td>\n",
              "<td>5578.0</td>\n",
              "<td>0.2386</td>\n",
              "<td> (1748.0/7326.0)</td></tr>\n",
              "<tr><td>Total</td>\n",
              "<td>23118.0</td>\n",
              "<td>7443.0</td>\n",
              "<td>0.1182</td>\n",
              "<td> (3613.0/30561.0)</td></tr></table></div>"
            ]
          },
          "metadata": {
            "tags": []
          }
        },
        {
          "output_type": "stream",
          "text": [
            "Maximum Metrics: Maximum metrics at their respective thresholds\n",
            "\n"
          ],
          "name": "stdout"
        },
        {
          "output_type": "display_data",
          "data": {
            "text/plain": [
              "metric                       threshold    value     idx\n",
              "---------------------------  -----------  --------  -----\n",
              "max f1                       0.346604     0.755366  220\n",
              "max f2                       0.120096     0.82887   316\n",
              "max f0point5                 0.704123     0.791169  103\n",
              "max accuracy                 0.473638     0.8859    176\n",
              "max precision                0.967757     1         0\n",
              "max recall                   0.0350344    1         398\n",
              "max specificity              0.967757     1         0\n",
              "max absolute_mcc             0.390067     0.678378  204\n",
              "max min_per_class_accuracy   0.198559     0.858176  279\n",
              "max mean_per_class_accuracy  0.130849     0.862058  310"
            ],
            "text/html": [
              "<div style=\"overflow:auto\"><table style=\"width:50%\"><tr><td><b>metric</b></td>\n",
              "<td><b>threshold</b></td>\n",
              "<td><b>value</b></td>\n",
              "<td><b>idx</b></td></tr>\n",
              "<tr><td>max f1</td>\n",
              "<td>0.3466042</td>\n",
              "<td>0.7553660</td>\n",
              "<td>220.0</td></tr>\n",
              "<tr><td>max f2</td>\n",
              "<td>0.1200957</td>\n",
              "<td>0.8288704</td>\n",
              "<td>316.0</td></tr>\n",
              "<tr><td>max f0point5</td>\n",
              "<td>0.7041231</td>\n",
              "<td>0.7911685</td>\n",
              "<td>103.0</td></tr>\n",
              "<tr><td>max accuracy</td>\n",
              "<td>0.4736383</td>\n",
              "<td>0.8859003</td>\n",
              "<td>176.0</td></tr>\n",
              "<tr><td>max precision</td>\n",
              "<td>0.9677568</td>\n",
              "<td>1.0</td>\n",
              "<td>0.0</td></tr>\n",
              "<tr><td>max recall</td>\n",
              "<td>0.0350344</td>\n",
              "<td>1.0</td>\n",
              "<td>398.0</td></tr>\n",
              "<tr><td>max specificity</td>\n",
              "<td>0.9677568</td>\n",
              "<td>1.0</td>\n",
              "<td>0.0</td></tr>\n",
              "<tr><td>max absolute_mcc</td>\n",
              "<td>0.3900667</td>\n",
              "<td>0.6783781</td>\n",
              "<td>204.0</td></tr>\n",
              "<tr><td>max min_per_class_accuracy</td>\n",
              "<td>0.1985594</td>\n",
              "<td>0.8581764</td>\n",
              "<td>279.0</td></tr>\n",
              "<tr><td>max mean_per_class_accuracy</td>\n",
              "<td>0.1308493</td>\n",
              "<td>0.8620582</td>\n",
              "<td>310.0</td></tr></table></div>"
            ]
          },
          "metadata": {
            "tags": []
          }
        },
        {
          "output_type": "stream",
          "text": [
            "Gains/Lift Table: Avg response rate: 23.97 %, avg score: 24.05 %\n",
            "\n"
          ],
          "name": "stdout"
        },
        {
          "output_type": "display_data",
          "data": {
            "text/plain": [
              "    group    cumulative_data_fraction    lower_threshold    lift        cumulative_lift    response_rate    score      cumulative_response_rate    cumulative_score    capture_rate    cumulative_capture_rate    gain      cumulative_gain\n",
              "--  -------  --------------------------  -----------------  ----------  -----------------  ---------------  ---------  --------------------------  ------------------  --------------  -------------------------  --------  -----------------\n",
              "    1        0.0100128                   0.967533           4.17158     4.17158            1                0.967802   1                           0.967802            0.041769        0.041769                   317.158   317.158\n",
              "    2        0.0200255                   0.966835           4.17158     4.17158            1                0.967221   1                           0.967512            0.041769        0.0835381                  317.158   317.158\n",
              "    3        0.0300056                   0.965724           4.17158     4.17158            1                0.966318   1                           0.967114            0.0416325       0.125171                   317.158   317.158\n",
              "    4        0.0400183                   0.963484           4.17158     4.17158            1                0.964766   1                           0.966527            0.041769        0.16694                    317.158   317.158\n",
              "    5        0.0500311                   0.95929            4.15795     4.16885            0.996732         0.961576   0.999346                    0.965536            0.0416325       0.208572                   315.795   316.885\n",
              "    6        0.100029                    0.860734           3.80302     3.986              0.911649         0.912121   0.955512                    0.938837            0.190145        0.398717                   280.302   298.6\n",
              "    7        0.150028                    0.711234           3.10138     3.69119            0.743455         0.794251   0.884842                    0.890652            0.155064        0.553781                   210.138   269.119\n",
              "    8        0.200026                    0.500437           2.46527     3.38476            0.590969         0.608321   0.811386                    0.820081            0.12326         0.677041                   146.527   238.476\n",
              "    9        0.300056                    0.217432           1.66072     2.81002            0.398103         0.339304   0.67361                     0.659804            0.166121        0.843161                   66.0718   181.002\n",
              "    10       0.40002                     0.0992922          0.949018    2.34496            0.227496         0.149342   0.562127                    0.532241            0.0948676       0.938029                   -5.09825  134.496\n",
              "    11       0.500016                    0.0586165          0.404054    1.9568             0.0968586        0.075774   0.469079                    0.440954            0.040404        0.978433                   -59.5946  95.6802\n",
              "    12       0.600013                    0.0443723          0.14606     1.65503            0.0350131        0.0503125  0.396739                    0.37585             0.0146055       0.993038                   -85.394   65.5028\n",
              "    13       0.70001                     0.0391201          0.0559669   1.4266             0.0134162        0.0413709  0.341981                    0.32807             0.00559651      0.998635                   -94.4033  42.6601\n",
              "    14       0.800007                    0.0366853          0.0122854   1.24982            0.00294503       0.0377974  0.299603                    0.291787            0.0012285       0.999863                   -98.7715  24.9819\n",
              "    15       0.900003                    0.0351215          0           1.11096            0                0.0358155  0.266315                    0.263347            0               0.999863                   -100      11.0955\n",
              "    16       1                           0.0344806          0.00136505  1                  0.000327225      0.0348374  0.239717                    0.240497            0.0001365       1                          -99.8635  0"
            ],
            "text/html": [
              "<div style=\"overflow:auto\"><table style=\"width:50%\"><tr><td><b></b></td>\n",
              "<td><b>group</b></td>\n",
              "<td><b>cumulative_data_fraction</b></td>\n",
              "<td><b>lower_threshold</b></td>\n",
              "<td><b>lift</b></td>\n",
              "<td><b>cumulative_lift</b></td>\n",
              "<td><b>response_rate</b></td>\n",
              "<td><b>score</b></td>\n",
              "<td><b>cumulative_response_rate</b></td>\n",
              "<td><b>cumulative_score</b></td>\n",
              "<td><b>capture_rate</b></td>\n",
              "<td><b>cumulative_capture_rate</b></td>\n",
              "<td><b>gain</b></td>\n",
              "<td><b>cumulative_gain</b></td></tr>\n",
              "<tr><td></td>\n",
              "<td>1</td>\n",
              "<td>0.0100128</td>\n",
              "<td>0.9675329</td>\n",
              "<td>4.1715807</td>\n",
              "<td>4.1715807</td>\n",
              "<td>1.0</td>\n",
              "<td>0.9678024</td>\n",
              "<td>1.0</td>\n",
              "<td>0.9678024</td>\n",
              "<td>0.0417690</td>\n",
              "<td>0.0417690</td>\n",
              "<td>317.1580672</td>\n",
              "<td>317.1580672</td></tr>\n",
              "<tr><td></td>\n",
              "<td>2</td>\n",
              "<td>0.0200255</td>\n",
              "<td>0.9668349</td>\n",
              "<td>4.1715807</td>\n",
              "<td>4.1715807</td>\n",
              "<td>1.0</td>\n",
              "<td>0.9672209</td>\n",
              "<td>1.0</td>\n",
              "<td>0.9675116</td>\n",
              "<td>0.0417690</td>\n",
              "<td>0.0835381</td>\n",
              "<td>317.1580672</td>\n",
              "<td>317.1580672</td></tr>\n",
              "<tr><td></td>\n",
              "<td>3</td>\n",
              "<td>0.0300056</td>\n",
              "<td>0.9657240</td>\n",
              "<td>4.1715807</td>\n",
              "<td>4.1715807</td>\n",
              "<td>1.0</td>\n",
              "<td>0.9663176</td>\n",
              "<td>1.0</td>\n",
              "<td>0.9671145</td>\n",
              "<td>0.0416325</td>\n",
              "<td>0.1251706</td>\n",
              "<td>317.1580672</td>\n",
              "<td>317.1580672</td></tr>\n",
              "<tr><td></td>\n",
              "<td>4</td>\n",
              "<td>0.0400183</td>\n",
              "<td>0.9634842</td>\n",
              "<td>4.1715807</td>\n",
              "<td>4.1715807</td>\n",
              "<td>1.0</td>\n",
              "<td>0.9647655</td>\n",
              "<td>1.0</td>\n",
              "<td>0.9665268</td>\n",
              "<td>0.0417690</td>\n",
              "<td>0.1669397</td>\n",
              "<td>317.1580672</td>\n",
              "<td>317.1580672</td></tr>\n",
              "<tr><td></td>\n",
              "<td>5</td>\n",
              "<td>0.0500311</td>\n",
              "<td>0.9592896</td>\n",
              "<td>4.1579481</td>\n",
              "<td>4.1688524</td>\n",
              "<td>0.9967320</td>\n",
              "<td>0.9615759</td>\n",
              "<td>0.9993460</td>\n",
              "<td>0.9655359</td>\n",
              "<td>0.0416325</td>\n",
              "<td>0.2085722</td>\n",
              "<td>315.7948055</td>\n",
              "<td>316.8852365</td></tr>\n",
              "<tr><td></td>\n",
              "<td>6</td>\n",
              "<td>0.1000294</td>\n",
              "<td>0.8607339</td>\n",
              "<td>3.8030182</td>\n",
              "<td>3.9859951</td>\n",
              "<td>0.9116492</td>\n",
              "<td>0.9121215</td>\n",
              "<td>0.9555119</td>\n",
              "<td>0.9388374</td>\n",
              "<td>0.1901447</td>\n",
              "<td>0.3987169</td>\n",
              "<td>280.3018243</td>\n",
              "<td>298.5995140</td></tr>\n",
              "<tr><td></td>\n",
              "<td>7</td>\n",
              "<td>0.1500278</td>\n",
              "<td>0.7112337</td>\n",
              "<td>3.1013846</td>\n",
              "<td>3.6911893</td>\n",
              "<td>0.7434555</td>\n",
              "<td>0.7942509</td>\n",
              "<td>0.8848419</td>\n",
              "<td>0.8906524</td>\n",
              "<td>0.1550642</td>\n",
              "<td>0.5537811</td>\n",
              "<td>210.1384583</td>\n",
              "<td>269.1189266</td></tr>\n",
              "<tr><td></td>\n",
              "<td>8</td>\n",
              "<td>0.2000262</td>\n",
              "<td>0.5004366</td>\n",
              "<td>2.4652731</td>\n",
              "<td>3.3847604</td>\n",
              "<td>0.5909686</td>\n",
              "<td>0.6083210</td>\n",
              "<td>0.8113856</td>\n",
              "<td>0.8200811</td>\n",
              "<td>0.1232596</td>\n",
              "<td>0.6770407</td>\n",
              "<td>146.5273132</td>\n",
              "<td>238.4760368</td></tr>\n",
              "<tr><td></td>\n",
              "<td>9</td>\n",
              "<td>0.3000556</td>\n",
              "<td>0.2174322</td>\n",
              "<td>1.6607176</td>\n",
              "<td>2.8100168</td>\n",
              "<td>0.3981027</td>\n",
              "<td>0.3393037</td>\n",
              "<td>0.6736096</td>\n",
              "<td>0.6598045</td>\n",
              "<td>0.1661207</td>\n",
              "<td>0.8431613</td>\n",
              "<td>66.0717592</td>\n",
              "<td>181.0016773</td></tr>\n",
              "<tr><td></td>\n",
              "<td>10</td>\n",
              "<td>0.4000196</td>\n",
              "<td>0.0992922</td>\n",
              "<td>0.9490175</td>\n",
              "<td>2.3449572</td>\n",
              "<td>0.2274959</td>\n",
              "<td>0.1493421</td>\n",
              "<td>0.5621268</td>\n",
              "<td>0.5322411</td>\n",
              "<td>0.0948676</td>\n",
              "<td>0.9380289</td>\n",
              "<td>-5.0982466</td>\n",
              "<td>134.4957250</td></tr>\n",
              "<tr><td></td>\n",
              "<td>11</td>\n",
              "<td>0.5000164</td>\n",
              "<td>0.0586165</td>\n",
              "<td>0.4040536</td>\n",
              "<td>1.9568019</td>\n",
              "<td>0.0968586</td>\n",
              "<td>0.0757740</td>\n",
              "<td>0.4690792</td>\n",
              "<td>0.4409536</td>\n",
              "<td>0.0404040</td>\n",
              "<td>0.9784330</td>\n",
              "<td>-59.5946375</td>\n",
              "<td>95.6801927</td></tr>\n",
              "<tr><td></td>\n",
              "<td>12</td>\n",
              "<td>0.6000131</td>\n",
              "<td>0.0443723</td>\n",
              "<td>0.1460599</td>\n",
              "<td>1.6550281</td>\n",
              "<td>0.0350131</td>\n",
              "<td>0.0503125</td>\n",
              "<td>0.3967388</td>\n",
              "<td>0.3758503</td>\n",
              "<td>0.0146055</td>\n",
              "<td>0.9930385</td>\n",
              "<td>-85.3940075</td>\n",
              "<td>65.5028052</td></tr>\n",
              "<tr><td></td>\n",
              "<td>13</td>\n",
              "<td>0.7000098</td>\n",
              "<td>0.0391201</td>\n",
              "<td>0.0559669</td>\n",
              "<td>1.4266014</td>\n",
              "<td>0.0134162</td>\n",
              "<td>0.0413709</td>\n",
              "<td>0.3419810</td>\n",
              "<td>0.3280698</td>\n",
              "<td>0.0055965</td>\n",
              "<td>0.9986350</td>\n",
              "<td>-94.4033113</td>\n",
              "<td>42.6601421</td></tr>\n",
              "<tr><td></td>\n",
              "<td>14</td>\n",
              "<td>0.8000065</td>\n",
              "<td>0.0366853</td>\n",
              "<td>0.0122854</td>\n",
              "<td>1.2498192</td>\n",
              "<td>0.0029450</td>\n",
              "<td>0.0377974</td>\n",
              "<td>0.2996033</td>\n",
              "<td>0.2917872</td>\n",
              "<td>0.0012285</td>\n",
              "<td>0.9998635</td>\n",
              "<td>-98.7714586</td>\n",
              "<td>24.9819151</td></tr>\n",
              "<tr><td></td>\n",
              "<td>15</td>\n",
              "<td>0.9000033</td>\n",
              "<td>0.0351215</td>\n",
              "<td>0.0</td>\n",
              "<td>1.1109554</td>\n",
              "<td>0.0</td>\n",
              "<td>0.0358155</td>\n",
              "<td>0.2663152</td>\n",
              "<td>0.2633469</td>\n",
              "<td>0.0</td>\n",
              "<td>0.9998635</td>\n",
              "<td>-100.0</td>\n",
              "<td>11.0955405</td></tr>\n",
              "<tr><td></td>\n",
              "<td>16</td>\n",
              "<td>1.0</td>\n",
              "<td>0.0344806</td>\n",
              "<td>0.0013650</td>\n",
              "<td>1.0</td>\n",
              "<td>0.0003272</td>\n",
              "<td>0.0348374</td>\n",
              "<td>0.2397173</td>\n",
              "<td>0.2404967</td>\n",
              "<td>0.0001365</td>\n",
              "<td>1.0</td>\n",
              "<td>-99.8634954</td>\n",
              "<td>0.0</td></tr></table></div>"
            ]
          },
          "metadata": {
            "tags": []
          }
        },
        {
          "output_type": "stream",
          "text": [
            "\n",
            "\n",
            "ModelMetricsBinomialGLM: stackedensemble\n",
            "** Reported on validation data. **\n",
            "\n",
            "MSE: 0.0947953984135\n",
            "RMSE: 0.307888613647\n",
            "LogLoss: 0.303313212553\n",
            "Null degrees of freedom: 1999\n",
            "Residual degrees of freedom: 1997\n",
            "Null deviance: 2285.11669608\n",
            "Residual deviance: 1213.25285021\n",
            "AIC: 1219.25285021\n",
            "AUC: 0.929094831813\n",
            "pr_auc: 0.781822138869\n",
            "Gini: 0.858189663627\n",
            "Confusion Matrix (Act/Pred) for max f1 @ threshold = 0.295499539002: \n"
          ],
          "name": "stdout"
        },
        {
          "output_type": "display_data",
          "data": {
            "text/plain": [
              "        <=50K     >50K    Error    Rate\n",
              "-----  --------  -------  -------  --------------\n",
              "<=50K  1330      155      0.1044   (155.0/1485.0)\n",
              ">50K   114       401      0.2214   (114.0/515.0)\n",
              "Total  1444      556      0.1345   (269.0/2000.0)"
            ],
            "text/html": [
              "<div style=\"overflow:auto\"><table style=\"width:50%\"><tr><td><b></b></td>\n",
              "<td><b> <=50K</b></td>\n",
              "<td><b> >50K</b></td>\n",
              "<td><b>Error</b></td>\n",
              "<td><b>Rate</b></td></tr>\n",
              "<tr><td> <=50K</td>\n",
              "<td>1330.0</td>\n",
              "<td>155.0</td>\n",
              "<td>0.1044</td>\n",
              "<td> (155.0/1485.0)</td></tr>\n",
              "<tr><td> >50K</td>\n",
              "<td>114.0</td>\n",
              "<td>401.0</td>\n",
              "<td>0.2214</td>\n",
              "<td> (114.0/515.0)</td></tr>\n",
              "<tr><td>Total</td>\n",
              "<td>1444.0</td>\n",
              "<td>556.0</td>\n",
              "<td>0.1345</td>\n",
              "<td> (269.0/2000.0)</td></tr></table></div>"
            ]
          },
          "metadata": {
            "tags": []
          }
        },
        {
          "output_type": "stream",
          "text": [
            "Maximum Metrics: Maximum metrics at their respective thresholds\n",
            "\n"
          ],
          "name": "stdout"
        },
        {
          "output_type": "display_data",
          "data": {
            "text/plain": [
              "metric                       threshold    value     idx\n",
              "---------------------------  -----------  --------  -----\n",
              "max f1                       0.2955       0.748833  232\n",
              "max f2                       0.0864712    0.834185  332\n",
              "max f0point5                 0.748605     0.764499  93\n",
              "max accuracy                 0.459507     0.87      181\n",
              "max precision                0.967771     1         0\n",
              "max recall                   0.0349058    1         398\n",
              "max specificity              0.967771     1         0\n",
              "max absolute_mcc             0.2955       0.658075  232\n",
              "max min_per_class_accuracy   0.20751      0.848544  273\n",
              "max mean_per_class_accuracy  0.159652     0.853947  292"
            ],
            "text/html": [
              "<div style=\"overflow:auto\"><table style=\"width:50%\"><tr><td><b>metric</b></td>\n",
              "<td><b>threshold</b></td>\n",
              "<td><b>value</b></td>\n",
              "<td><b>idx</b></td></tr>\n",
              "<tr><td>max f1</td>\n",
              "<td>0.2954995</td>\n",
              "<td>0.7488329</td>\n",
              "<td>232.0</td></tr>\n",
              "<tr><td>max f2</td>\n",
              "<td>0.0864712</td>\n",
              "<td>0.8341845</td>\n",
              "<td>332.0</td></tr>\n",
              "<tr><td>max f0point5</td>\n",
              "<td>0.7486049</td>\n",
              "<td>0.7644991</td>\n",
              "<td>93.0</td></tr>\n",
              "<tr><td>max accuracy</td>\n",
              "<td>0.4595073</td>\n",
              "<td>0.87</td>\n",
              "<td>181.0</td></tr>\n",
              "<tr><td>max precision</td>\n",
              "<td>0.9677708</td>\n",
              "<td>1.0</td>\n",
              "<td>0.0</td></tr>\n",
              "<tr><td>max recall</td>\n",
              "<td>0.0349058</td>\n",
              "<td>1.0</td>\n",
              "<td>398.0</td></tr>\n",
              "<tr><td>max specificity</td>\n",
              "<td>0.9677708</td>\n",
              "<td>1.0</td>\n",
              "<td>0.0</td></tr>\n",
              "<tr><td>max absolute_mcc</td>\n",
              "<td>0.2954995</td>\n",
              "<td>0.6580753</td>\n",
              "<td>232.0</td></tr>\n",
              "<tr><td>max min_per_class_accuracy</td>\n",
              "<td>0.2075100</td>\n",
              "<td>0.8485437</td>\n",
              "<td>273.0</td></tr>\n",
              "<tr><td>max mean_per_class_accuracy</td>\n",
              "<td>0.1596518</td>\n",
              "<td>0.8539472</td>\n",
              "<td>292.0</td></tr></table></div>"
            ]
          },
          "metadata": {
            "tags": []
          }
        },
        {
          "output_type": "stream",
          "text": [
            "Gains/Lift Table: Avg response rate: 25.75 %, avg score: 25.37 %\n",
            "\n"
          ],
          "name": "stdout"
        },
        {
          "output_type": "display_data",
          "data": {
            "text/plain": [
              "    group    cumulative_data_fraction    lower_threshold    lift       cumulative_lift    response_rate    score      cumulative_response_rate    cumulative_score    capture_rate    cumulative_capture_rate    gain      cumulative_gain\n",
              "--  -------  --------------------------  -----------------  ---------  -----------------  ---------------  ---------  --------------------------  ------------------  --------------  -------------------------  --------  -----------------\n",
              "    1        0.01                        0.967638           3.8835     3.8835             1                0.967878   1                           0.967878            0.038835        0.038835                   288.35    288.35\n",
              "    2        0.02                        0.966983           3.8835     3.8835             1                0.967311   1                           0.967594            0.038835        0.0776699                  288.35    288.35\n",
              "    3        0.03                        0.965473           3.8835     3.8835             1                0.966394   1                           0.967194            0.038835        0.116505                   288.35    288.35\n",
              "    4        0.04                        0.963767           3.8835     3.8835             1                0.964792   1                           0.966594            0.038835        0.15534                    288.35    288.35\n",
              "    5        0.05                        0.958823           3.8835     3.8835             1                0.961701   1                           0.965615            0.038835        0.194175                   288.35    288.35\n",
              "    6        0.1                         0.873821           3.41748    3.65049            0.88             0.919495   0.94                        0.942555            0.170874        0.365049                   241.748   265.049\n",
              "    7        0.15                        0.74358            2.87379    3.39159            0.74             0.81562    0.873333                    0.900243            0.143689        0.508738                   187.379   239.159\n",
              "    8        0.2                         0.562911           2.05825    3.05825            0.53             0.656918   0.7875                      0.839412            0.102913        0.61165                    105.825   205.825\n",
              "    9        0.3                         0.260968           1.8835     2.66667            0.485            0.399564   0.686667                    0.692796            0.18835         0.8                        88.3495   166.667\n",
              "    10       0.4                         0.110561           1.16505    2.29126            0.3              0.174648   0.59                        0.563259            0.116505        0.916505                   16.5049   129.126\n",
              "    11       0.5                         0.0603267          0.466019   1.92621            0.12             0.0809472  0.496                       0.466797            0.0466019       0.963107                   -53.3981  92.6214\n",
              "    12       0.6                         0.0457118          0.213592   1.64078            0.055            0.0521295  0.4225                      0.397685            0.0213592       0.984466                   -78.6408  64.0777\n",
              "    13       0.7                         0.0396289          0.0970874  1.42025            0.025            0.0422908  0.365714                    0.346915            0.00970874      0.994175                   -90.2913  42.025\n",
              "    14       0.8                         0.036989           0.038835   1.24757            0.01             0.0381749  0.32125                     0.308322            0.0038835       0.998058                   -96.1165  24.7573\n",
              "    15       0.9                         0.0351912          0          1.10895            0                0.0359679  0.285556                    0.278061            0               0.998058                   -100      10.8954\n",
              "    16       1                           0.0345331          0.0194175  1                  0.005            0.0348527  0.2575                      0.25374             0.00194175      1                          -98.0583  0"
            ],
            "text/html": [
              "<div style=\"overflow:auto\"><table style=\"width:50%\"><tr><td><b></b></td>\n",
              "<td><b>group</b></td>\n",
              "<td><b>cumulative_data_fraction</b></td>\n",
              "<td><b>lower_threshold</b></td>\n",
              "<td><b>lift</b></td>\n",
              "<td><b>cumulative_lift</b></td>\n",
              "<td><b>response_rate</b></td>\n",
              "<td><b>score</b></td>\n",
              "<td><b>cumulative_response_rate</b></td>\n",
              "<td><b>cumulative_score</b></td>\n",
              "<td><b>capture_rate</b></td>\n",
              "<td><b>cumulative_capture_rate</b></td>\n",
              "<td><b>gain</b></td>\n",
              "<td><b>cumulative_gain</b></td></tr>\n",
              "<tr><td></td>\n",
              "<td>1</td>\n",
              "<td>0.01</td>\n",
              "<td>0.9676379</td>\n",
              "<td>3.8834951</td>\n",
              "<td>3.8834951</td>\n",
              "<td>1.0</td>\n",
              "<td>0.9678777</td>\n",
              "<td>1.0</td>\n",
              "<td>0.9678777</td>\n",
              "<td>0.0388350</td>\n",
              "<td>0.0388350</td>\n",
              "<td>288.3495146</td>\n",
              "<td>288.3495146</td></tr>\n",
              "<tr><td></td>\n",
              "<td>2</td>\n",
              "<td>0.02</td>\n",
              "<td>0.9669828</td>\n",
              "<td>3.8834951</td>\n",
              "<td>3.8834951</td>\n",
              "<td>1.0</td>\n",
              "<td>0.9673111</td>\n",
              "<td>1.0</td>\n",
              "<td>0.9675944</td>\n",
              "<td>0.0388350</td>\n",
              "<td>0.0776699</td>\n",
              "<td>288.3495146</td>\n",
              "<td>288.3495146</td></tr>\n",
              "<tr><td></td>\n",
              "<td>3</td>\n",
              "<td>0.03</td>\n",
              "<td>0.9654732</td>\n",
              "<td>3.8834951</td>\n",
              "<td>3.8834951</td>\n",
              "<td>1.0</td>\n",
              "<td>0.9663936</td>\n",
              "<td>1.0</td>\n",
              "<td>0.9671942</td>\n",
              "<td>0.0388350</td>\n",
              "<td>0.1165049</td>\n",
              "<td>288.3495146</td>\n",
              "<td>288.3495146</td></tr>\n",
              "<tr><td></td>\n",
              "<td>4</td>\n",
              "<td>0.04</td>\n",
              "<td>0.9637669</td>\n",
              "<td>3.8834951</td>\n",
              "<td>3.8834951</td>\n",
              "<td>1.0</td>\n",
              "<td>0.9647921</td>\n",
              "<td>1.0</td>\n",
              "<td>0.9665936</td>\n",
              "<td>0.0388350</td>\n",
              "<td>0.1553398</td>\n",
              "<td>288.3495146</td>\n",
              "<td>288.3495146</td></tr>\n",
              "<tr><td></td>\n",
              "<td>5</td>\n",
              "<td>0.05</td>\n",
              "<td>0.9588234</td>\n",
              "<td>3.8834951</td>\n",
              "<td>3.8834951</td>\n",
              "<td>1.0</td>\n",
              "<td>0.9617010</td>\n",
              "<td>1.0</td>\n",
              "<td>0.9656151</td>\n",
              "<td>0.0388350</td>\n",
              "<td>0.1941748</td>\n",
              "<td>288.3495146</td>\n",
              "<td>288.3495146</td></tr>\n",
              "<tr><td></td>\n",
              "<td>6</td>\n",
              "<td>0.1</td>\n",
              "<td>0.8738211</td>\n",
              "<td>3.4174757</td>\n",
              "<td>3.6504854</td>\n",
              "<td>0.88</td>\n",
              "<td>0.9194948</td>\n",
              "<td>0.94</td>\n",
              "<td>0.9425549</td>\n",
              "<td>0.1708738</td>\n",
              "<td>0.3650485</td>\n",
              "<td>241.7475728</td>\n",
              "<td>265.0485437</td></tr>\n",
              "<tr><td></td>\n",
              "<td>7</td>\n",
              "<td>0.15</td>\n",
              "<td>0.7435795</td>\n",
              "<td>2.8737864</td>\n",
              "<td>3.3915858</td>\n",
              "<td>0.74</td>\n",
              "<td>0.8156203</td>\n",
              "<td>0.8733333</td>\n",
              "<td>0.9002434</td>\n",
              "<td>0.1436893</td>\n",
              "<td>0.5087379</td>\n",
              "<td>187.3786408</td>\n",
              "<td>239.1585761</td></tr>\n",
              "<tr><td></td>\n",
              "<td>8</td>\n",
              "<td>0.2</td>\n",
              "<td>0.5629105</td>\n",
              "<td>2.0582524</td>\n",
              "<td>3.0582524</td>\n",
              "<td>0.53</td>\n",
              "<td>0.6569183</td>\n",
              "<td>0.7875</td>\n",
              "<td>0.8394121</td>\n",
              "<td>0.1029126</td>\n",
              "<td>0.6116505</td>\n",
              "<td>105.8252427</td>\n",
              "<td>205.8252427</td></tr>\n",
              "<tr><td></td>\n",
              "<td>9</td>\n",
              "<td>0.3</td>\n",
              "<td>0.2609683</td>\n",
              "<td>1.8834951</td>\n",
              "<td>2.6666667</td>\n",
              "<td>0.485</td>\n",
              "<td>0.3995635</td>\n",
              "<td>0.6866667</td>\n",
              "<td>0.6927959</td>\n",
              "<td>0.1883495</td>\n",
              "<td>0.8</td>\n",
              "<td>88.3495146</td>\n",
              "<td>166.6666667</td></tr>\n",
              "<tr><td></td>\n",
              "<td>10</td>\n",
              "<td>0.4</td>\n",
              "<td>0.1105605</td>\n",
              "<td>1.1650485</td>\n",
              "<td>2.2912621</td>\n",
              "<td>0.3</td>\n",
              "<td>0.1746481</td>\n",
              "<td>0.59</td>\n",
              "<td>0.5632590</td>\n",
              "<td>0.1165049</td>\n",
              "<td>0.9165049</td>\n",
              "<td>16.5048544</td>\n",
              "<td>129.1262136</td></tr>\n",
              "<tr><td></td>\n",
              "<td>11</td>\n",
              "<td>0.5</td>\n",
              "<td>0.0603267</td>\n",
              "<td>0.4660194</td>\n",
              "<td>1.9262136</td>\n",
              "<td>0.12</td>\n",
              "<td>0.0809472</td>\n",
              "<td>0.496</td>\n",
              "<td>0.4667966</td>\n",
              "<td>0.0466019</td>\n",
              "<td>0.9631068</td>\n",
              "<td>-53.3980583</td>\n",
              "<td>92.6213592</td></tr>\n",
              "<tr><td></td>\n",
              "<td>12</td>\n",
              "<td>0.6</td>\n",
              "<td>0.0457118</td>\n",
              "<td>0.2135922</td>\n",
              "<td>1.6407767</td>\n",
              "<td>0.055</td>\n",
              "<td>0.0521295</td>\n",
              "<td>0.4225</td>\n",
              "<td>0.3976854</td>\n",
              "<td>0.0213592</td>\n",
              "<td>0.9844660</td>\n",
              "<td>-78.6407767</td>\n",
              "<td>64.0776699</td></tr>\n",
              "<tr><td></td>\n",
              "<td>13</td>\n",
              "<td>0.7</td>\n",
              "<td>0.0396289</td>\n",
              "<td>0.0970874</td>\n",
              "<td>1.4202497</td>\n",
              "<td>0.025</td>\n",
              "<td>0.0422908</td>\n",
              "<td>0.3657143</td>\n",
              "<td>0.3469148</td>\n",
              "<td>0.0097087</td>\n",
              "<td>0.9941748</td>\n",
              "<td>-90.2912621</td>\n",
              "<td>42.0249653</td></tr>\n",
              "<tr><td></td>\n",
              "<td>14</td>\n",
              "<td>0.8</td>\n",
              "<td>0.0369890</td>\n",
              "<td>0.0388350</td>\n",
              "<td>1.2475728</td>\n",
              "<td>0.01</td>\n",
              "<td>0.0381749</td>\n",
              "<td>0.32125</td>\n",
              "<td>0.3083223</td>\n",
              "<td>0.0038835</td>\n",
              "<td>0.9980583</td>\n",
              "<td>-96.1165049</td>\n",
              "<td>24.7572816</td></tr>\n",
              "<tr><td></td>\n",
              "<td>15</td>\n",
              "<td>0.9</td>\n",
              "<td>0.0351912</td>\n",
              "<td>0.0</td>\n",
              "<td>1.1089536</td>\n",
              "<td>0.0</td>\n",
              "<td>0.0359679</td>\n",
              "<td>0.2855556</td>\n",
              "<td>0.2780607</td>\n",
              "<td>0.0</td>\n",
              "<td>0.9980583</td>\n",
              "<td>-100.0</td>\n",
              "<td>10.8953614</td></tr>\n",
              "<tr><td></td>\n",
              "<td>16</td>\n",
              "<td>1.0</td>\n",
              "<td>0.0345331</td>\n",
              "<td>0.0194175</td>\n",
              "<td>1.0</td>\n",
              "<td>0.005</td>\n",
              "<td>0.0348527</td>\n",
              "<td>0.2575</td>\n",
              "<td>0.2537399</td>\n",
              "<td>0.0019417</td>\n",
              "<td>1.0</td>\n",
              "<td>-98.0582524</td>\n",
              "<td>0.0</td></tr></table></div>"
            ]
          },
          "metadata": {
            "tags": []
          }
        },
        {
          "output_type": "stream",
          "text": [
            "\n",
            "\n",
            "ModelMetricsBinomialGLM: stackedensemble\n",
            "** Reported on cross-validation data. **\n",
            "\n",
            "MSE: 0.0906647233136\n",
            "RMSE: 0.301105834074\n",
            "LogLoss: 0.29484706714\n",
            "Null degrees of freedom: 30560\n",
            "Residual degrees of freedom: 30557\n",
            "Null deviance: 33664.409594\n",
            "Residual deviance: 18021.6424377\n",
            "AIC: 18029.6424377\n",
            "AUC: 0.927758382245\n",
            "pr_auc: 0.805903025954\n",
            "Gini: 0.85551676449\n",
            "Confusion Matrix (Act/Pred) for max f1 @ threshold = 0.332247543874: \n"
          ],
          "name": "stdout"
        },
        {
          "output_type": "display_data",
          "data": {
            "text/plain": [
              "        <=50K     >50K    Error    Rate\n",
              "-----  --------  -------  -------  ----------------\n",
              "<=50K  21107     2128     0.0916   (2128.0/23235.0)\n",
              ">50K   1882      5444     0.2569   (1882.0/7326.0)\n",
              "Total  22989     7572     0.1312   (4010.0/30561.0)"
            ],
            "text/html": [
              "<div style=\"overflow:auto\"><table style=\"width:50%\"><tr><td><b></b></td>\n",
              "<td><b> <=50K</b></td>\n",
              "<td><b> >50K</b></td>\n",
              "<td><b>Error</b></td>\n",
              "<td><b>Rate</b></td></tr>\n",
              "<tr><td> <=50K</td>\n",
              "<td>21107.0</td>\n",
              "<td>2128.0</td>\n",
              "<td>0.0916</td>\n",
              "<td> (2128.0/23235.0)</td></tr>\n",
              "<tr><td> >50K</td>\n",
              "<td>1882.0</td>\n",
              "<td>5444.0</td>\n",
              "<td>0.2569</td>\n",
              "<td> (1882.0/7326.0)</td></tr>\n",
              "<tr><td>Total</td>\n",
              "<td>22989.0</td>\n",
              "<td>7572.0</td>\n",
              "<td>0.1312</td>\n",
              "<td> (4010.0/30561.0)</td></tr></table></div>"
            ]
          },
          "metadata": {
            "tags": []
          }
        },
        {
          "output_type": "stream",
          "text": [
            "Maximum Metrics: Maximum metrics at their respective thresholds\n",
            "\n"
          ],
          "name": "stdout"
        },
        {
          "output_type": "display_data",
          "data": {
            "text/plain": [
              "metric                       threshold    value     idx\n",
              "---------------------------  -----------  --------  -----\n",
              "max f1                       0.332248     0.730836  228\n",
              "max f2                       0.0956723    0.80803   336\n",
              "max f0point5                 0.671594     0.766306  117\n",
              "max accuracy                 0.451948     0.874153  186\n",
              "max precision                0.968287     1         0\n",
              "max recall                   0.0348767    1         398\n",
              "max specificity              0.968287     1         0\n",
              "max absolute_mcc             0.383061     0.646954  209\n",
              "max min_per_class_accuracy   0.182085     0.840158  292\n",
              "max mean_per_class_accuracy  0.143445     0.844092  310"
            ],
            "text/html": [
              "<div style=\"overflow:auto\"><table style=\"width:50%\"><tr><td><b>metric</b></td>\n",
              "<td><b>threshold</b></td>\n",
              "<td><b>value</b></td>\n",
              "<td><b>idx</b></td></tr>\n",
              "<tr><td>max f1</td>\n",
              "<td>0.3322475</td>\n",
              "<td>0.7308364</td>\n",
              "<td>228.0</td></tr>\n",
              "<tr><td>max f2</td>\n",
              "<td>0.0956723</td>\n",
              "<td>0.8080301</td>\n",
              "<td>336.0</td></tr>\n",
              "<tr><td>max f0point5</td>\n",
              "<td>0.6715937</td>\n",
              "<td>0.7663056</td>\n",
              "<td>117.0</td></tr>\n",
              "<tr><td>max accuracy</td>\n",
              "<td>0.4519481</td>\n",
              "<td>0.8741533</td>\n",
              "<td>186.0</td></tr>\n",
              "<tr><td>max precision</td>\n",
              "<td>0.9682873</td>\n",
              "<td>1.0</td>\n",
              "<td>0.0</td></tr>\n",
              "<tr><td>max recall</td>\n",
              "<td>0.0348767</td>\n",
              "<td>1.0</td>\n",
              "<td>398.0</td></tr>\n",
              "<tr><td>max specificity</td>\n",
              "<td>0.9682873</td>\n",
              "<td>1.0</td>\n",
              "<td>0.0</td></tr>\n",
              "<tr><td>max absolute_mcc</td>\n",
              "<td>0.3830608</td>\n",
              "<td>0.6469536</td>\n",
              "<td>209.0</td></tr>\n",
              "<tr><td>max min_per_class_accuracy</td>\n",
              "<td>0.1820847</td>\n",
              "<td>0.8401583</td>\n",
              "<td>292.0</td></tr>\n",
              "<tr><td>max mean_per_class_accuracy</td>\n",
              "<td>0.1434449</td>\n",
              "<td>0.8440924</td>\n",
              "<td>310.0</td></tr></table></div>"
            ]
          },
          "metadata": {
            "tags": []
          }
        },
        {
          "output_type": "stream",
          "text": [
            "Gains/Lift Table: Avg response rate: 23.97 %, avg score: 23.97 %\n",
            "\n"
          ],
          "name": "stdout"
        },
        {
          "output_type": "display_data",
          "data": {
            "text/plain": [
              "    group    cumulative_data_fraction    lower_threshold    lift        cumulative_lift    response_rate    score      cumulative_response_rate    cumulative_score    capture_rate    cumulative_capture_rate    gain      cumulative_gain\n",
              "--  -------  --------------------------  -----------------  ----------  -----------------  ---------------  ---------  --------------------------  ------------------  --------------  -------------------------  --------  -----------------\n",
              "    1        0.0100128                   0.967435           4.17158     4.17158            1                0.967982   1                           0.967982            0.041769        0.041769                   317.158   317.158\n",
              "    2        0.0200255                   0.966557           4.15795     4.16476            0.996732         0.967018   0.998366                    0.9675              0.0416325       0.0834016                  315.795   316.476\n",
              "    3        0.0300056                   0.965411           4.1579      4.16248            0.996721         0.966068   0.997819                    0.967024            0.041496        0.124898                   315.79    316.248\n",
              "    4        0.0400183                   0.962999           4.14432     4.15794            0.993464         0.964301   0.996729                    0.966342            0.041496        0.166394                   314.432   315.794\n",
              "    5        0.0500311                   0.957903           4.11705     4.14975            0.986928         0.960811   0.994768                    0.965235            0.041223        0.207617                   311.705   314.975\n",
              "    6        0.100029                    0.860286           3.60918     3.87956            0.865183         0.910742   0.929997                    0.937998            0.180453        0.38807                    260.918   287.956\n",
              "    7        0.150028                    0.706885           2.94304     3.56745            0.705497         0.791028   0.85518                     0.889019            0.147147        0.535217                   194.304   256.745\n",
              "    8        0.200026                    0.493341           2.35607     3.26466            0.564791         0.603784   0.782594                    0.817722            0.1178          0.653017                   135.607   226.466\n",
              "    9        0.300023                    0.216285           1.60256     2.71069            0.384162         0.335169   0.649798                    0.656888            0.160251        0.813268                   60.2564   171.069\n",
              "    10       0.40002                     0.099797           1.02788     2.29002            0.246401         0.149001   0.548957                    0.529927            0.102785        0.916052                   2.78797   129.002\n",
              "    11       0.500016                    0.0591725          0.476401    1.92732            0.114202         0.0762984  0.462012                    0.439207            0.0476385       0.963691                   -52.3599  92.7319\n",
              "    12       0.600013                    0.0447003          0.233423    1.64502            0.0559555        0.0507838  0.394339                    0.374474            0.0233415       0.987032                   -76.6577  64.5018\n",
              "    13       0.70001                     0.0393333          0.0819028   1.42173            0.0196335        0.0415942  0.340812                    0.326922            0.00819001      0.995222                   -91.8097  42.1726\n",
              "    14       0.800007                    0.0367796          0.0368562   1.24862            0.00883508       0.0379411  0.299317                    0.2908              0.0036855       0.998908                   -96.3144  24.8625\n",
              "    15       0.900003                    0.035345           0.00955532  1.11096            0.00229058       0.0359554  0.266315                    0.262485            0.000955501     0.999863                   -99.0445  11.0955\n",
              "    16       1                           0.0341124          0.00136505  1                  0.000327225      0.034837   0.239717                    0.239721            0.0001365       1                          -99.8635  0"
            ],
            "text/html": [
              "<div style=\"overflow:auto\"><table style=\"width:50%\"><tr><td><b></b></td>\n",
              "<td><b>group</b></td>\n",
              "<td><b>cumulative_data_fraction</b></td>\n",
              "<td><b>lower_threshold</b></td>\n",
              "<td><b>lift</b></td>\n",
              "<td><b>cumulative_lift</b></td>\n",
              "<td><b>response_rate</b></td>\n",
              "<td><b>score</b></td>\n",
              "<td><b>cumulative_response_rate</b></td>\n",
              "<td><b>cumulative_score</b></td>\n",
              "<td><b>capture_rate</b></td>\n",
              "<td><b>cumulative_capture_rate</b></td>\n",
              "<td><b>gain</b></td>\n",
              "<td><b>cumulative_gain</b></td></tr>\n",
              "<tr><td></td>\n",
              "<td>1</td>\n",
              "<td>0.0100128</td>\n",
              "<td>0.9674346</td>\n",
              "<td>4.1715807</td>\n",
              "<td>4.1715807</td>\n",
              "<td>1.0</td>\n",
              "<td>0.9679818</td>\n",
              "<td>1.0</td>\n",
              "<td>0.9679818</td>\n",
              "<td>0.0417690</td>\n",
              "<td>0.0417690</td>\n",
              "<td>317.1580672</td>\n",
              "<td>317.1580672</td></tr>\n",
              "<tr><td></td>\n",
              "<td>2</td>\n",
              "<td>0.0200255</td>\n",
              "<td>0.9665569</td>\n",
              "<td>4.1579481</td>\n",
              "<td>4.1647644</td>\n",
              "<td>0.9967320</td>\n",
              "<td>0.9670175</td>\n",
              "<td>0.9983660</td>\n",
              "<td>0.9674997</td>\n",
              "<td>0.0416325</td>\n",
              "<td>0.0834016</td>\n",
              "<td>315.7948055</td>\n",
              "<td>316.4764363</td></tr>\n",
              "<tr><td></td>\n",
              "<td>3</td>\n",
              "<td>0.0300056</td>\n",
              "<td>0.9654108</td>\n",
              "<td>4.1579034</td>\n",
              "<td>4.1624823</td>\n",
              "<td>0.9967213</td>\n",
              "<td>0.9660683</td>\n",
              "<td>0.9978190</td>\n",
              "<td>0.9670236</td>\n",
              "<td>0.0414960</td>\n",
              "<td>0.1248976</td>\n",
              "<td>315.7903358</td>\n",
              "<td>316.2482350</td></tr>\n",
              "<tr><td></td>\n",
              "<td>4</td>\n",
              "<td>0.0400183</td>\n",
              "<td>0.9629986</td>\n",
              "<td>4.1443154</td>\n",
              "<td>4.1579369</td>\n",
              "<td>0.9934641</td>\n",
              "<td>0.9643011</td>\n",
              "<td>0.9967294</td>\n",
              "<td>0.9663424</td>\n",
              "<td>0.0414960</td>\n",
              "<td>0.1663937</td>\n",
              "<td>314.4315438</td>\n",
              "<td>315.7936908</td></tr>\n",
              "<tr><td></td>\n",
              "<td>5</td>\n",
              "<td>0.0500311</td>\n",
              "<td>0.9579025</td>\n",
              "<td>4.1170502</td>\n",
              "<td>4.1497542</td>\n",
              "<td>0.9869281</td>\n",
              "<td>0.9608111</td>\n",
              "<td>0.9947678</td>\n",
              "<td>0.9652354</td>\n",
              "<td>0.0412230</td>\n",
              "<td>0.2076167</td>\n",
              "<td>311.7050205</td>\n",
              "<td>314.9754219</td></tr>\n",
              "<tr><td></td>\n",
              "<td>6</td>\n",
              "<td>0.1000294</td>\n",
              "<td>0.8602862</td>\n",
              "<td>3.6091817</td>\n",
              "<td>3.8795564</td>\n",
              "<td>0.8651832</td>\n",
              "<td>0.9107425</td>\n",
              "<td>0.9299967</td>\n",
              "<td>0.9379979</td>\n",
              "<td>0.1804532</td>\n",
              "<td>0.3880699</td>\n",
              "<td>260.9181707</td>\n",
              "<td>287.9556379</td></tr>\n",
              "<tr><td></td>\n",
              "<td>7</td>\n",
              "<td>0.1500278</td>\n",
              "<td>0.7068853</td>\n",
              "<td>2.9430392</td>\n",
              "<td>3.5674521</td>\n",
              "<td>0.7054974</td>\n",
              "<td>0.7910283</td>\n",
              "<td>0.8551799</td>\n",
              "<td>0.8890187</td>\n",
              "<td>0.1471471</td>\n",
              "<td>0.5352170</td>\n",
              "<td>194.3039243</td>\n",
              "<td>256.7452086</td></tr>\n",
              "<tr><td></td>\n",
              "<td>8</td>\n",
              "<td>0.2000262</td>\n",
              "<td>0.4933410</td>\n",
              "<td>2.3560694</td>\n",
              "<td>3.2646560</td>\n",
              "<td>0.5647906</td>\n",
              "<td>0.6037839</td>\n",
              "<td>0.7825945</td>\n",
              "<td>0.8177217</td>\n",
              "<td>0.1177996</td>\n",
              "<td>0.6530167</td>\n",
              "<td>135.6069450</td>\n",
              "<td>226.4655968</td></tr>\n",
              "<tr><td></td>\n",
              "<td>9</td>\n",
              "<td>0.3000229</td>\n",
              "<td>0.2162848</td>\n",
              "<td>1.6025640</td>\n",
              "<td>2.7106857</td>\n",
              "<td>0.3841623</td>\n",
              "<td>0.3351693</td>\n",
              "<td>0.6497982</td>\n",
              "<td>0.6568884</td>\n",
              "<td>0.1602512</td>\n",
              "<td>0.8132678</td>\n",
              "<td>60.2564041</td>\n",
              "<td>171.0685750</td></tr>\n",
              "<tr><td></td>\n",
              "<td>10</td>\n",
              "<td>0.4000196</td>\n",
              "<td>0.0997970</td>\n",
              "<td>1.0278797</td>\n",
              "<td>2.2900186</td>\n",
              "<td>0.2464005</td>\n",
              "<td>0.1490013</td>\n",
              "<td>0.5489571</td>\n",
              "<td>0.5299270</td>\n",
              "<td>0.1027846</td>\n",
              "<td>0.9160524</td>\n",
              "<td>2.7879662</td>\n",
              "<td>129.0018641</td></tr>\n",
              "<tr><td></td>\n",
              "<td>11</td>\n",
              "<td>0.5000164</td>\n",
              "<td>0.0591725</td>\n",
              "<td>0.4764011</td>\n",
              "<td>1.9273189</td>\n",
              "<td>0.1142016</td>\n",
              "<td>0.0762984</td>\n",
              "<td>0.4620116</td>\n",
              "<td>0.4392072</td>\n",
              "<td>0.0476385</td>\n",
              "<td>0.9636910</td>\n",
              "<td>-52.3598935</td>\n",
              "<td>92.7318863</td></tr>\n",
              "<tr><td></td>\n",
              "<td>12</td>\n",
              "<td>0.6000131</td>\n",
              "<td>0.0447003</td>\n",
              "<td>0.2334229</td>\n",
              "<td>1.6450183</td>\n",
              "<td>0.0559555</td>\n",
              "<td>0.0507838</td>\n",
              "<td>0.3943393</td>\n",
              "<td>0.3744735</td>\n",
              "<td>0.0233415</td>\n",
              "<td>0.9870325</td>\n",
              "<td>-76.6577129</td>\n",
              "<td>64.5018260</td></tr>\n",
              "<tr><td></td>\n",
              "<td>13</td>\n",
              "<td>0.7000098</td>\n",
              "<td>0.0393333</td>\n",
              "<td>0.0819028</td>\n",
              "<td>1.4217265</td>\n",
              "<td>0.0196335</td>\n",
              "<td>0.0415942</td>\n",
              "<td>0.3408124</td>\n",
              "<td>0.3269215</td>\n",
              "<td>0.0081900</td>\n",
              "<td>0.9952225</td>\n",
              "<td>-91.8097238</td>\n",
              "<td>42.1726484</td></tr>\n",
              "<tr><td></td>\n",
              "<td>14</td>\n",
              "<td>0.8000065</td>\n",
              "<td>0.0367796</td>\n",
              "<td>0.0368562</td>\n",
              "<td>1.2486248</td>\n",
              "<td>0.0088351</td>\n",
              "<td>0.0379411</td>\n",
              "<td>0.2993169</td>\n",
              "<td>0.2908005</td>\n",
              "<td>0.0036855</td>\n",
              "<td>0.9989080</td>\n",
              "<td>-96.3143757</td>\n",
              "<td>24.8624784</td></tr>\n",
              "<tr><td></td>\n",
              "<td>15</td>\n",
              "<td>0.9000033</td>\n",
              "<td>0.0353450</td>\n",
              "<td>0.0095553</td>\n",
              "<td>1.1109554</td>\n",
              "<td>0.0022906</td>\n",
              "<td>0.0359554</td>\n",
              "<td>0.2663152</td>\n",
              "<td>0.2624854</td>\n",
              "<td>0.0009555</td>\n",
              "<td>0.9998635</td>\n",
              "<td>-99.0444678</td>\n",
              "<td>11.0955405</td></tr>\n",
              "<tr><td></td>\n",
              "<td>16</td>\n",
              "<td>1.0</td>\n",
              "<td>0.0341124</td>\n",
              "<td>0.0013650</td>\n",
              "<td>1.0</td>\n",
              "<td>0.0003272</td>\n",
              "<td>0.0348370</td>\n",
              "<td>0.2397173</td>\n",
              "<td>0.2397213</td>\n",
              "<td>0.0001365</td>\n",
              "<td>1.0</td>\n",
              "<td>-99.8634954</td>\n",
              "<td>0.0</td></tr></table></div>"
            ]
          },
          "metadata": {
            "tags": []
          }
        },
        {
          "output_type": "stream",
          "text": [
            "\n"
          ],
          "name": "stdout"
        },
        {
          "output_type": "execute_result",
          "data": {
            "text/plain": [
              ""
            ]
          },
          "metadata": {
            "tags": []
          },
          "execution_count": 10
        }
      ]
    },
    {
      "cell_type": "code",
      "metadata": {
        "colab_type": "code",
        "id": "z0wT3h6fXlpn",
        "outputId": "44330b2b-6f2e-40e4-8c1a-d78f3d6b87bf",
        "colab": {
          "base_uri": "https://localhost:8080/",
          "height": 36
        }
      },
      "source": [
        "# Get the best model to make predictions\n",
        "preds = aml.leader.predict(test_frame)"
      ],
      "execution_count": 0,
      "outputs": [
        {
          "output_type": "stream",
          "text": [
            "stackedensemble prediction progress: |████████████████████████████████████| 100%\n"
          ],
          "name": "stdout"
        }
      ]
    },
    {
      "cell_type": "code",
      "metadata": {
        "colab_type": "code",
        "id": "a8h3va96X2bx",
        "colab": {}
      },
      "source": [
        "preds = h2o.as_list(preds[\"predict\"])"
      ],
      "execution_count": 0,
      "outputs": []
    },
    {
      "cell_type": "code",
      "metadata": {
        "colab_type": "code",
        "id": "9wGohTIYbcns",
        "outputId": "a87746b4-28d5-4a78-a50e-b5e82c9cfc5d",
        "colab": {
          "base_uri": "https://localhost:8080/",
          "height": 36
        }
      },
      "source": [
        "from sklearn.metrics import accuracy_score, classification_report, confusion_matrix\n",
        "\n",
        "print(\"Accuracy score\", accuracy_score(test['Income'].values, preds))"
      ],
      "execution_count": 0,
      "outputs": [
        {
          "output_type": "stream",
          "text": [
            "Accuracy score 0.865\n"
          ],
          "name": "stdout"
        }
      ]
    },
    {
      "cell_type": "code",
      "metadata": {
        "colab_type": "code",
        "id": "fI8vlUwhiK25",
        "colab": {}
      },
      "source": [
        "!pip install scikit-plot"
      ],
      "execution_count": 0,
      "outputs": []
    },
    {
      "cell_type": "code",
      "metadata": {
        "colab_type": "code",
        "id": "yR4-fOoIiMBx",
        "outputId": "f0c434bb-ee9d-4eca-eeb1-13c3de77db2d",
        "colab": {
          "base_uri": "https://localhost:8080/",
          "height": 298
        }
      },
      "source": [
        "import scikitplot as skplt\n",
        "\n",
        "skplt.metrics.plot_confusion_matrix(test['Income'].values, preds)\n",
        "plt.show()"
      ],
      "execution_count": 0,
      "outputs": [
        {
          "output_type": "display_data",
          "data": {
            "image/png": "[encoded data removed]",
            "text/plain": [
              "<Figure size 432x288 with 2 Axes>"
            ]
          },
          "metadata": {
            "tags": []
          }
        }
      ]
    },
    {
      "cell_type": "markdown",
      "metadata": {
        "id": "GGNGmAL1juWW",
        "colab_type": "text"
      },
      "source": [
        "**Much improved performance than the previous one but comes at the cost of computation.** \n",
        "**Accuracy achieved: 86.5%**."
      ]
    },
    {
      "cell_type": "markdown",
      "metadata": {
        "id": "IBHzS8AFt2ew",
        "colab_type": "text"
      },
      "source": [
        "### Coming to explaining H2O models\n",
        "\n",
        "This section mostly comes from this notebook: https://github.com/h2oai/mli-resources/blob/master/notebooks/dt_surrogate.ipynb\n",
        "\n",
        "Check out [this repository](https://github.com/h2oai/mli-resources) to discover more resources on Machine Learning Interpretability. "
      ]
    },
    {
      "cell_type": "code",
      "metadata": {
        "id": "G7UXKQK-nSz2",
        "colab_type": "code",
        "colab": {
          "base_uri": "https://localhost:8080/",
          "height": 36
        },
        "outputId": "1102bc50-1b00-4607-9cbd-21cb0d66774c"
      },
      "source": [
        "# Get the predictions on the training frame\n",
        "train_preds = aml.predict(train_frame)['predict']\n",
        "# Bind the predictions to the training frame\n",
        "frame_yhat = train_frame.cbind(train_preds)"
      ],
      "execution_count": 23,
      "outputs": [
        {
          "output_type": "stream",
          "text": [
            "stackedensemble prediction progress: |████████████████████████████████████| 100%\n"
          ],
          "name": "stdout"
        }
      ]
    },
    {
      "cell_type": "code",
      "metadata": {
        "id": "ex5fpv70p3mh",
        "colab_type": "code",
        "colab": {
          "base_uri": "https://localhost:8080/",
          "height": 1421
        },
        "outputId": "0090c030-5589-4b2d-b365-66bcdad9cbd8"
      },
      "source": [
        "from h2o.estimators.gbm import H2OGradientBoostingEstimator\n",
        "\n",
        "yhat = 'predict'\n",
        "model_id = 'dt_surrogate_mojo'\n",
        "\n",
        "# Train single tree surrogate model\n",
        "surrogate = H2OGradientBoostingEstimator(ntrees=1,\n",
        "                                         sample_rate=1,\n",
        "                                         col_sample_rate=1,\n",
        "                                         max_depth=3,\n",
        "                                         seed=12345,\n",
        "                                         model_id=model_id)\n",
        "\n",
        "_ = surrogate.train(x=x.tolist(), y=yhat, training_frame=frame_yhat)\n",
        "\n",
        "mojo_path = surrogate.download_mojo(path='.')\n",
        "\n",
        "print(surrogate)\n",
        "print('Generated MOJO path:\\n', mojo_path)\n"
      ],
      "execution_count": 27,
      "outputs": [
        {
          "output_type": "stream",
          "text": [
            "gbm Model Build progress: |███████████████████████████████████████████████| 100%\n",
            "Model Details\n",
            "=============\n",
            "H2OGradientBoostingEstimator :  Gradient Boosting Machine\n",
            "Model Key:  dt_surrogate_mojo\n",
            "\n",
            "\n",
            "ModelMetricsBinomial: gbm\n",
            "** Reported on train data. **\n",
            "\n",
            "MSE: 0.170880287639\n",
            "RMSE: 0.413376689762\n",
            "LogLoss: 0.51935709929\n",
            "Mean Per-Class Error: 0.132987744457\n",
            "AUC: 0.932587883927\n",
            "pr_auc: 0.836870182741\n",
            "Gini: 0.865175767853\n",
            "Confusion Matrix (Act/Pred) for max f1 @ threshold = 0.286452829926: \n"
          ],
          "name": "stdout"
        },
        {
          "output_type": "display_data",
          "data": {
            "text/plain": [
              "        <=50K     >50K    Error    Rate\n",
              "-----  --------  -------  -------  ----------------\n",
              "<=50K  20828     1695     0.0753   (1695.0/22523.0)\n",
              ">50K   1533      6505     0.1907   (1533.0/8038.0)\n",
              "Total  22361     8200     0.1056   (3228.0/30561.0)"
            ],
            "text/html": [
              "<div style=\"overflow:auto\"><table style=\"width:50%\"><tr><td><b></b></td>\n",
              "<td><b> <=50K</b></td>\n",
              "<td><b> >50K</b></td>\n",
              "<td><b>Error</b></td>\n",
              "<td><b>Rate</b></td></tr>\n",
              "<tr><td> <=50K</td>\n",
              "<td>20828.0</td>\n",
              "<td>1695.0</td>\n",
              "<td>0.0753</td>\n",
              "<td> (1695.0/22523.0)</td></tr>\n",
              "<tr><td> >50K</td>\n",
              "<td>1533.0</td>\n",
              "<td>6505.0</td>\n",
              "<td>0.1907</td>\n",
              "<td> (1533.0/8038.0)</td></tr>\n",
              "<tr><td>Total</td>\n",
              "<td>22361.0</td>\n",
              "<td>8200.0</td>\n",
              "<td>0.1056</td>\n",
              "<td> (3228.0/30561.0)</td></tr></table></div>"
            ]
          },
          "metadata": {
            "tags": []
          }
        },
        {
          "output_type": "stream",
          "text": [
            "Maximum Metrics: Maximum metrics at their respective thresholds\n",
            "\n"
          ],
          "name": "stdout"
        },
        {
          "output_type": "display_data",
          "data": {
            "text/plain": [
              "metric                       threshold    value     idx\n",
              "---------------------------  -----------  --------  -----\n",
              "max f1                       0.286453     0.801207  5\n",
              "max f2                       0.257015     0.833423  6\n",
              "max f0point5                 0.307599     0.840217  3\n",
              "max accuracy                 0.307599     0.895488  3\n",
              "max precision                0.342956     1         0\n",
              "max recall                   0.239219     1         7\n",
              "max specificity              0.342956     1         0\n",
              "max absolute_mcc             0.286453     0.729365  5\n",
              "max min_per_class_accuracy   0.286453     0.809281  5\n",
              "max mean_per_class_accuracy  0.286453     0.867012  5"
            ],
            "text/html": [
              "<div style=\"overflow:auto\"><table style=\"width:50%\"><tr><td><b>metric</b></td>\n",
              "<td><b>threshold</b></td>\n",
              "<td><b>value</b></td>\n",
              "<td><b>idx</b></td></tr>\n",
              "<tr><td>max f1</td>\n",
              "<td>0.2864528</td>\n",
              "<td>0.8012070</td>\n",
              "<td>5.0</td></tr>\n",
              "<tr><td>max f2</td>\n",
              "<td>0.2570147</td>\n",
              "<td>0.8334229</td>\n",
              "<td>6.0</td></tr>\n",
              "<tr><td>max f0point5</td>\n",
              "<td>0.3075992</td>\n",
              "<td>0.8402175</td>\n",
              "<td>3.0</td></tr>\n",
              "<tr><td>max accuracy</td>\n",
              "<td>0.3075992</td>\n",
              "<td>0.8954877</td>\n",
              "<td>3.0</td></tr>\n",
              "<tr><td>max precision</td>\n",
              "<td>0.3429557</td>\n",
              "<td>1.0</td>\n",
              "<td>0.0</td></tr>\n",
              "<tr><td>max recall</td>\n",
              "<td>0.2392185</td>\n",
              "<td>1.0</td>\n",
              "<td>7.0</td></tr>\n",
              "<tr><td>max specificity</td>\n",
              "<td>0.3429557</td>\n",
              "<td>1.0</td>\n",
              "<td>0.0</td></tr>\n",
              "<tr><td>max absolute_mcc</td>\n",
              "<td>0.2864528</td>\n",
              "<td>0.7293654</td>\n",
              "<td>5.0</td></tr>\n",
              "<tr><td>max min_per_class_accuracy</td>\n",
              "<td>0.2864528</td>\n",
              "<td>0.8092809</td>\n",
              "<td>5.0</td></tr>\n",
              "<tr><td>max mean_per_class_accuracy</td>\n",
              "<td>0.2864528</td>\n",
              "<td>0.8670123</td>\n",
              "<td>5.0</td></tr></table></div>"
            ]
          },
          "metadata": {
            "tags": []
          }
        },
        {
          "output_type": "stream",
          "text": [
            "Gains/Lift Table: Avg response rate: 26.30 %, avg score: 26.44 %\n",
            "\n"
          ],
          "name": "stdout"
        },
        {
          "output_type": "display_data",
          "data": {
            "text/plain": [
              "    group    cumulative_data_fraction    lower_threshold    lift       cumulative_lift    response_rate    score     cumulative_response_rate    cumulative_score    capture_rate    cumulative_capture_rate    gain      cumulative_gain\n",
              "--  -------  --------------------------  -----------------  ---------  -----------------  ---------------  --------  --------------------------  ------------------  --------------  -------------------------  --------  -----------------\n",
              "    1        0.0179968                   0.342082           3.78824    3.78824            0.996364         0.342533  0.996364                    0.342533            0.0681762       0.0681762                  278.824   278.824\n",
              "    2        0.203069                    0.329078           3.34361    3.38302            0.87942          0.329078  0.889784                    0.330271            0.618811        0.686987                   234.361   238.302\n",
              "    3        0.469913                    0.257015           1.04015    2.0526             0.273574         0.264261  0.539865                    0.292787            0.277557        0.964543                   4.01481   105.26\n",
              "    4        1                           0.239219           0.0668882  1                  0.0175926        0.239219  0.263015                    0.264391            0.0354566       1                          -93.3112  0"
            ],
            "text/html": [
              "<div style=\"overflow:auto\"><table style=\"width:50%\"><tr><td><b></b></td>\n",
              "<td><b>group</b></td>\n",
              "<td><b>cumulative_data_fraction</b></td>\n",
              "<td><b>lower_threshold</b></td>\n",
              "<td><b>lift</b></td>\n",
              "<td><b>cumulative_lift</b></td>\n",
              "<td><b>response_rate</b></td>\n",
              "<td><b>score</b></td>\n",
              "<td><b>cumulative_response_rate</b></td>\n",
              "<td><b>cumulative_score</b></td>\n",
              "<td><b>capture_rate</b></td>\n",
              "<td><b>cumulative_capture_rate</b></td>\n",
              "<td><b>gain</b></td>\n",
              "<td><b>cumulative_gain</b></td></tr>\n",
              "<tr><td></td>\n",
              "<td>1</td>\n",
              "<td>0.0179968</td>\n",
              "<td>0.3420822</td>\n",
              "<td>3.7882395</td>\n",
              "<td>3.7882395</td>\n",
              "<td>0.9963636</td>\n",
              "<td>0.3425332</td>\n",
              "<td>0.9963636</td>\n",
              "<td>0.3425332</td>\n",
              "<td>0.0681762</td>\n",
              "<td>0.0681762</td>\n",
              "<td>278.8239499</td>\n",
              "<td>278.8239499</td></tr>\n",
              "<tr><td></td>\n",
              "<td>2</td>\n",
              "<td>0.2030693</td>\n",
              "<td>0.3290783</td>\n",
              "<td>3.3436125</td>\n",
              "<td>3.3830171</td>\n",
              "<td>0.8794201</td>\n",
              "<td>0.3290783</td>\n",
              "<td>0.8897841</td>\n",
              "<td>0.3302707</td>\n",
              "<td>0.6188106</td>\n",
              "<td>0.6869868</td>\n",
              "<td>234.3612492</td>\n",
              "<td>238.3017077</td></tr>\n",
              "<tr><td></td>\n",
              "<td>3</td>\n",
              "<td>0.4699126</td>\n",
              "<td>0.2570147</td>\n",
              "<td>1.0401481</td>\n",
              "<td>2.0526016</td>\n",
              "<td>0.2735745</td>\n",
              "<td>0.2642613</td>\n",
              "<td>0.5398649</td>\n",
              "<td>0.2927868</td>\n",
              "<td>0.2775566</td>\n",
              "<td>0.9645434</td>\n",
              "<td>4.0148061</td>\n",
              "<td>105.2601589</td></tr>\n",
              "<tr><td></td>\n",
              "<td>4</td>\n",
              "<td>1.0</td>\n",
              "<td>0.2392185</td>\n",
              "<td>0.0668882</td>\n",
              "<td>1.0</td>\n",
              "<td>0.0175926</td>\n",
              "<td>0.2392185</td>\n",
              "<td>0.2630150</td>\n",
              "<td>0.2643909</td>\n",
              "<td>0.0354566</td>\n",
              "<td>1.0</td>\n",
              "<td>-93.3111816</td>\n",
              "<td>0.0</td></tr></table></div>"
            ]
          },
          "metadata": {
            "tags": []
          }
        },
        {
          "output_type": "stream",
          "text": [
            "\n",
            "Scoring History: \n"
          ],
          "name": "stdout"
        },
        {
          "output_type": "display_data",
          "data": {
            "text/plain": [
              "    timestamp            duration    number_of_trees    training_rmse    training_logloss    training_auc    training_pr_auc    training_lift    training_classification_error\n",
              "--  -------------------  ----------  -----------------  ---------------  ------------------  --------------  -----------------  ---------------  -------------------------------\n",
              "    2019-05-17 12:00:21  0.083 sec   0                  0.44027          0.576187            0.5             0                  1                0.736985\n",
              "    2019-05-17 12:00:21  0.151 sec   1                  0.413377         0.519357            0.932588        0.83687            3.78824          0.105625"
            ],
            "text/html": [
              "<div style=\"overflow:auto\"><table style=\"width:50%\"><tr><td><b></b></td>\n",
              "<td><b>timestamp</b></td>\n",
              "<td><b>duration</b></td>\n",
              "<td><b>number_of_trees</b></td>\n",
              "<td><b>training_rmse</b></td>\n",
              "<td><b>training_logloss</b></td>\n",
              "<td><b>training_auc</b></td>\n",
              "<td><b>training_pr_auc</b></td>\n",
              "<td><b>training_lift</b></td>\n",
              "<td><b>training_classification_error</b></td></tr>\n",
              "<tr><td></td>\n",
              "<td>2019-05-17 12:00:21</td>\n",
              "<td> 0.083 sec</td>\n",
              "<td>0.0</td>\n",
              "<td>0.4402705</td>\n",
              "<td>0.5761869</td>\n",
              "<td>0.5</td>\n",
              "<td>0.0</td>\n",
              "<td>1.0</td>\n",
              "<td>0.7369850</td></tr>\n",
              "<tr><td></td>\n",
              "<td>2019-05-17 12:00:21</td>\n",
              "<td> 0.151 sec</td>\n",
              "<td>1.0</td>\n",
              "<td>0.4133767</td>\n",
              "<td>0.5193571</td>\n",
              "<td>0.9325879</td>\n",
              "<td>0.8368702</td>\n",
              "<td>3.7882395</td>\n",
              "<td>0.1056248</td></tr></table></div>"
            ]
          },
          "metadata": {
            "tags": []
          }
        },
        {
          "output_type": "stream",
          "text": [
            "Variable Importances: \n"
          ],
          "name": "stdout"
        },
        {
          "output_type": "display_data",
          "data": {
            "text/plain": [
              "variable       relative_importance    scaled_importance    percentage\n",
              "-------------  ---------------------  -------------------  ------------\n",
              "Relationship   1814.48                1                    0.511242\n",
              "Occupation     1050.29                0.578836             0.295925\n",
              "CapitalGain    430.092                0.237033             0.121181\n",
              "Education      252.824                0.139337             0.0712348\n",
              "HoursPerWeek   1.47916                0.0008152            0.000416765\n",
              "Age            0                      0                    0\n",
              "WorkClass      0                      0                    0\n",
              "fnlwgt         0                      0                    0\n",
              "EducationNum   0                      0                    0\n",
              "MaritalStatus  0                      0                    0\n",
              "Race           0                      0                    0\n",
              "Gender         0                      0                    0\n",
              "CapitalLoss    0                      0                    0\n",
              "NativeCountry  0                      0                    0"
            ],
            "text/html": [
              "<div style=\"overflow:auto\"><table style=\"width:50%\"><tr><td><b>variable</b></td>\n",
              "<td><b>relative_importance</b></td>\n",
              "<td><b>scaled_importance</b></td>\n",
              "<td><b>percentage</b></td></tr>\n",
              "<tr><td>Relationship</td>\n",
              "<td>1814.4801025</td>\n",
              "<td>1.0</td>\n",
              "<td>0.5112421</td></tr>\n",
              "<tr><td>Occupation</td>\n",
              "<td>1050.2857666</td>\n",
              "<td>0.5788356</td>\n",
              "<td>0.2959251</td></tr>\n",
              "<tr><td>CapitalGain</td>\n",
              "<td>430.0915527</td>\n",
              "<td>0.2370329</td>\n",
              "<td>0.1211812</td></tr>\n",
              "<tr><td>Education</td>\n",
              "<td>252.8236847</td>\n",
              "<td>0.1393367</td>\n",
              "<td>0.0712348</td></tr>\n",
              "<tr><td>HoursPerWeek</td>\n",
              "<td>1.4791644</td>\n",
              "<td>0.0008152</td>\n",
              "<td>0.0004168</td></tr>\n",
              "<tr><td>Age</td>\n",
              "<td>0.0</td>\n",
              "<td>0.0</td>\n",
              "<td>0.0</td></tr>\n",
              "<tr><td>WorkClass</td>\n",
              "<td>0.0</td>\n",
              "<td>0.0</td>\n",
              "<td>0.0</td></tr>\n",
              "<tr><td>fnlwgt</td>\n",
              "<td>0.0</td>\n",
              "<td>0.0</td>\n",
              "<td>0.0</td></tr>\n",
              "<tr><td>EducationNum</td>\n",
              "<td>0.0</td>\n",
              "<td>0.0</td>\n",
              "<td>0.0</td></tr>\n",
              "<tr><td>MaritalStatus</td>\n",
              "<td>0.0</td>\n",
              "<td>0.0</td>\n",
              "<td>0.0</td></tr>\n",
              "<tr><td>Race</td>\n",
              "<td>0.0</td>\n",
              "<td>0.0</td>\n",
              "<td>0.0</td></tr>\n",
              "<tr><td>Gender</td>\n",
              "<td>0.0</td>\n",
              "<td>0.0</td>\n",
              "<td>0.0</td></tr>\n",
              "<tr><td>CapitalLoss</td>\n",
              "<td>0.0</td>\n",
              "<td>0.0</td>\n",
              "<td>0.0</td></tr>\n",
              "<tr><td>NativeCountry</td>\n",
              "<td>0.0</td>\n",
              "<td>0.0</td>\n",
              "<td>0.0</td></tr></table></div>"
            ]
          },
          "metadata": {
            "tags": []
          }
        },
        {
          "output_type": "stream",
          "text": [
            "\n",
            "('Generated MOJO path:\\n', '/content/dt_surrogate_mojo.zip')\n"
          ],
          "name": "stdout"
        }
      ]
    },
    {
      "cell_type": "code",
      "metadata": {
        "id": "fFIubxv-qnZ7",
        "colab_type": "code",
        "colab": {
          "base_uri": "https://localhost:8080/",
          "height": 269
        },
        "outputId": "c3665803-1e92-4292-e4d0-361eceb52e3a"
      },
      "source": [
        "h2o.h2o.H2OFrame(surrogate.varimp(), column_names=['Feature', 'relative_importance',\t'scaled_importance', 'Percentage'])"
      ],
      "execution_count": 39,
      "outputs": [
        {
          "output_type": "stream",
          "text": [
            "Parse progress: |█████████████████████████████████████████████████████████| 100%\n"
          ],
          "name": "stdout"
        },
        {
          "output_type": "display_data",
          "data": {
            "text/html": [
              "<table>\n",
              "<thead>\n",
              "<tr><th>Feature      </th><th style=\"text-align: right;\">  relative_importance</th><th style=\"text-align: right;\">  scaled_importance</th><th style=\"text-align: right;\">  Percentage</th></tr>\n",
              "</thead>\n",
              "<tbody>\n",
              "<tr><td>Relationship </td><td style=\"text-align: right;\">           1814.48   </td><td style=\"text-align: right;\">          1        </td><td style=\"text-align: right;\"> 0.511242   </td></tr>\n",
              "<tr><td>Occupation   </td><td style=\"text-align: right;\">           1050.29   </td><td style=\"text-align: right;\">          0.578836 </td><td style=\"text-align: right;\"> 0.295925   </td></tr>\n",
              "<tr><td>CapitalGain  </td><td style=\"text-align: right;\">            430.092  </td><td style=\"text-align: right;\">          0.237033 </td><td style=\"text-align: right;\"> 0.121181   </td></tr>\n",
              "<tr><td>Education    </td><td style=\"text-align: right;\">            252.824  </td><td style=\"text-align: right;\">          0.139337 </td><td style=\"text-align: right;\"> 0.0712348  </td></tr>\n",
              "<tr><td>HoursPerWeek </td><td style=\"text-align: right;\">              1.47916</td><td style=\"text-align: right;\">          0.0008152</td><td style=\"text-align: right;\"> 0.000416765</td></tr>\n",
              "<tr><td>Age          </td><td style=\"text-align: right;\">              0      </td><td style=\"text-align: right;\">          0        </td><td style=\"text-align: right;\"> 0          </td></tr>\n",
              "<tr><td>WorkClass    </td><td style=\"text-align: right;\">              0      </td><td style=\"text-align: right;\">          0        </td><td style=\"text-align: right;\"> 0          </td></tr>\n",
              "<tr><td>fnlwgt       </td><td style=\"text-align: right;\">              0      </td><td style=\"text-align: right;\">          0        </td><td style=\"text-align: right;\"> 0          </td></tr>\n",
              "<tr><td>EducationNum </td><td style=\"text-align: right;\">              0      </td><td style=\"text-align: right;\">          0        </td><td style=\"text-align: right;\"> 0          </td></tr>\n",
              "<tr><td>MaritalStatus</td><td style=\"text-align: right;\">              0      </td><td style=\"text-align: right;\">          0        </td><td style=\"text-align: right;\"> 0          </td></tr>\n",
              "</tbody>\n",
              "</table>"
            ]
          },
          "metadata": {
            "tags": []
          }
        },
        {
          "output_type": "execute_result",
          "data": {
            "text/plain": [
              ""
            ]
          },
          "metadata": {
            "tags": []
          },
          "execution_count": 39
        }
      ]
    },
    {
      "cell_type": "code",
      "metadata": {
        "id": "E6G1rU4kspuj",
        "colab_type": "code",
        "colab": {}
      },
      "source": [
        "from IPython.display import Image\n",
        "from IPython.display import display\n",
        "\n",
        "import os\n",
        "import re\n",
        "import subprocess\n",
        "from subprocess import CalledProcessError\n",
        "import time\n",
        "\n",
        "from h2o.backend import H2OLocalServer"
      ],
      "execution_count": 0,
      "outputs": []
    },
    {
      "cell_type": "code",
      "metadata": {
        "id": "HRL7XRKlskAZ",
        "colab_type": "code",
        "colab": {
          "base_uri": "https://localhost:8080/",
          "height": 113
        },
        "outputId": "f272cf84-2589-4d6c-b72a-a3e58ad5c69b"
      },
      "source": [
        "details = False\n",
        "title = 'Adult dataset Decision Tree Surrogate'\n",
        "\n",
        "hs = H2OLocalServer()\n",
        "h2o_jar_path = hs._find_jar()\n",
        "print('Discovered H2O jar path:\\n', h2o_jar_path)\n",
        "\n",
        "gv_file_name = model_id + '.gv'\n",
        "gv_args = str('-cp ' + h2o_jar_path +\n",
        "              ' hex.genmodel.tools.PrintMojo --tree 0 -i '\n",
        "              + mojo_path + ' -o').split()\n",
        "gv_args.insert(0, 'java')\n",
        "gv_args.append(gv_file_name)\n",
        "\n",
        "if details:\n",
        "    gv_args.append('--detail')\n",
        "\n",
        "if title is not None:\n",
        "    gv_args = gv_args + ['--title', title]\n",
        "    \n",
        "print()\n",
        "print('Calling external process ...')\n",
        "print(' '.join(gv_args))\n",
        "    \n",
        "_ = subprocess.call(gv_args)"
      ],
      "execution_count": 46,
      "outputs": [
        {
          "output_type": "stream",
          "text": [
            "('Discovered H2O jar path:\\n', u'/usr/local/lib/python2.7/dist-packages/h2o/backend/bin/h2o.jar')\n",
            "()\n",
            "Calling external process ...\n",
            "java -cp /usr/local/lib/python2.7/dist-packages/h2o/backend/bin/h2o.jar hex.genmodel.tools.PrintMojo --tree 0 -i /content/dt_surrogate_mojo.zip -o dt_surrogate_mojo.gv --title Adult dataset Decision Tree Surrogate\n"
          ],
          "name": "stdout"
        }
      ]
    },
    {
      "cell_type": "code",
      "metadata": {
        "id": "gRyttQ6rtFtn",
        "colab_type": "code",
        "colab": {
          "base_uri": "https://localhost:8080/",
          "height": 55
        },
        "outputId": "335ad719-e7b1-40c1-e834-b4acf7956dfa"
      },
      "source": [
        "png_file_name = model_id + '.png'\n",
        "png_args = str('dot -Tpng ' + gv_file_name + ' -o ' + png_file_name)\n",
        "png_args = png_args.split()\n",
        "\n",
        "print('Calling external process ...')\n",
        "print(' '.join(png_args))\n",
        "\n",
        "_ = subprocess.call(png_args)"
      ],
      "execution_count": 47,
      "outputs": [
        {
          "output_type": "stream",
          "text": [
            "Calling external process ...\n",
            "dot -Tpng dt_surrogate_mojo.gv -o dt_surrogate_mojo.png\n"
          ],
          "name": "stdout"
        }
      ]
    },
    {
      "cell_type": "code",
      "metadata": {
        "id": "0nH-cuZvtaCD",
        "colab_type": "code",
        "colab": {
          "base_uri": "https://localhost:8080/",
          "height": 1108
        },
        "outputId": "981ce498-1b6a-483d-a33b-f103b56794dc"
      },
      "source": [
        "display(Image((png_file_name)))"
      ],
      "execution_count": 48,
      "outputs": [
        {
          "output_type": "display_data",
          "data": {
            "image/png": "[encoded data removed]",
            "text/plain": [
              "<IPython.core.display.Image object>"
            ]
          },
          "metadata": {
            "tags": []
          }
        }
      ]
    },
    {
      "cell_type": "markdown",
      "metadata": {
        "id": "2J82sQgNtqiw",
        "colab_type": "text"
      },
      "source": [
        "From this surrogate model we see - \n",
        "- Some of the most important variables\n",
        "- Important interactions\n",
        "- The decision path for the most expensive houses\n",
        "- The decision path for the least expensive houses\n",
        "\n",
        "\n"
      ]
    },
    {
      "cell_type": "markdown",
      "metadata": {
        "colab_type": "text",
        "id": "yBzTzdZ5N_L6"
      },
      "source": [
        "## `interpret`"
      ]
    },
    {
      "cell_type": "markdown",
      "metadata": {
        "colab_type": "text",
        "id": "Z3YaKohDj0ar"
      },
      "source": [
        "**Motivation behind `interpret`**:\n",
        "\n",
        "> Historically, the most intelligible models were not very accurate, and the most accurate models were not intelligible. Microsoft Research has developed an algorithm called the Explainable Boosting Machine (EBM)* which has both high accuracy and intelligibility."
      ]
    },
    {
      "cell_type": "code",
      "metadata": {
        "colab_type": "code",
        "id": "DOQysFB6NCGP",
        "colab": {}
      },
      "source": [
        "!pip install pyscaffold\n",
        "!pip install -U interpret"
      ],
      "execution_count": 0,
      "outputs": []
    },
    {
      "cell_type": "code",
      "metadata": {
        "colab_type": "code",
        "id": "TCeivjulj2IS",
        "colab": {}
      },
      "source": [
        "from interpret import show\n",
        "from interpret.data import ClassHistogram\n",
        "\n",
        "hist = ClassHistogram().explain_data(train.iloc[:, 0:-1], train['Income'], name = 'Train Data')\n",
        "show(hist)"
      ],
      "execution_count": 0,
      "outputs": []
    },
    {
      "cell_type": "markdown",
      "metadata": {
        "id": "pxfqkjIRYmiu",
        "colab_type": "text"
      },
      "source": [
        "Refer to this video if you are unable to see the output of this cell: https://www.loom.com/share/1512be40265f4205a6451a97dea663e3"
      ]
    },
    {
      "cell_type": "code",
      "metadata": {
        "id": "8Z6FH87FYmix",
        "colab_type": "code",
        "colab": {}
      },
      "source": [
        "# Turning response into 0 and 1\n",
        "y_train = train['Income'].apply(lambda x: 0 if x == \" <=50K\" else 1) \n",
        "y_test = test['Income'].apply(lambda x: 0 if x == \" <=50K\" else 1) "
      ],
      "execution_count": 0,
      "outputs": []
    },
    {
      "cell_type": "code",
      "metadata": {
        "colab_type": "code",
        "id": "CmppNyPzkUZU",
        "outputId": "a581f984-5ab8-4cc8-adca-4c59cb486de6",
        "colab": {}
      },
      "source": [
        "from interpret.glassbox import ExplainableBoostingClassifier\n",
        "import time\n",
        "\n",
        "ebm = ExplainableBoostingClassifier(random_state=7)\n",
        "\n",
        "start = time.time()\n",
        "ebm.fit(train.iloc[:, 0:-1], y_train) \n",
        "print('It took {} seconds'.format(time.time()-start))"
      ],
      "execution_count": 0,
      "outputs": [
        {
          "output_type": "stream",
          "text": [
            "It took 306.07323694229126 seconds\n"
          ],
          "name": "stdout"
        }
      ]
    },
    {
      "cell_type": "code",
      "metadata": {
        "id": "y8lnK4sMYmjC",
        "colab_type": "code",
        "colab": {}
      },
      "source": [
        "ebm_global = ebm.explain_global(name='EBM')\n",
        "show(ebm_global)"
      ],
      "execution_count": 0,
      "outputs": []
    },
    {
      "cell_type": "markdown",
      "metadata": {
        "id": "cf5sl7-zYmjF",
        "colab_type": "text"
      },
      "source": [
        "If the output is not there in the above cell, here is the demo: https://www.loom.com/share/ab37697a1b70482baaf2455079f257fc"
      ]
    },
    {
      "cell_type": "code",
      "metadata": {
        "id": "xvfbT1thYmjG",
        "colab_type": "code",
        "colab": {}
      },
      "source": [
        "ebm_local = ebm.explain_local(test.iloc[:5, 0:-1], y_test[:5], name='EBM')\n",
        "show(ebm_local)"
      ],
      "execution_count": 0,
      "outputs": []
    },
    {
      "cell_type": "markdown",
      "metadata": {
        "id": "f32AoYoiYmjJ",
        "colab_type": "text"
      },
      "source": [
        "Demo: https://www.loom.com/share/1655ed05299547e68bacacbbf8801ee4"
      ]
    },
    {
      "cell_type": "code",
      "metadata": {
        "id": "HerCz4hhYmjR",
        "colab_type": "code",
        "outputId": "3301f345-0542-45a2-fda8-1f09c3e589c5",
        "colab": {}
      },
      "source": [
        "preds = ebm.predict(test.iloc[:, 0:-1])\n",
        "skplt.metrics.plot_confusion_matrix(y_test, preds)\n",
        "plt.show()"
      ],
      "execution_count": 0,
      "outputs": [
        {
          "output_type": "display_data",
          "data": {
            "image/png": "[encoded data removed]",
            "text/plain": [
              "<Figure size 432x288 with 2 Axes>"
            ]
          },
          "metadata": {
            "tags": [],
            "needs_background": "light"
          }
        }
      ]
    },
    {
      "cell_type": "code",
      "metadata": {
        "id": "yjgQmJ_hYmjW",
        "colab_type": "code",
        "outputId": "da622ab5-2a4b-4b97-d740-c0d64c2785db",
        "colab": {}
      },
      "source": [
        "print(accuracy_score(y_test, preds))"
      ],
      "execution_count": 0,
      "outputs": [
        {
          "output_type": "stream",
          "text": [
            "0.863\n"
          ],
          "name": "stdout"
        }
      ]
    },
    {
      "cell_type": "markdown",
      "metadata": {
        "id": "pHendzn-Ymja",
        "colab_type": "text"
      },
      "source": [
        "- 0: <=50K\n",
        "- 1: >50K"
      ]
    },
    {
      "cell_type": "code",
      "metadata": {
        "id": "iFLxuFg4Ymjb",
        "colab_type": "code",
        "colab": {}
      },
      "source": [
        "from sklearn.preprocessing import LabelEncoder\n",
        "\n",
        "train_preprocessed = train.apply(LabelEncoder().fit_transform)\n",
        "test_preprocessed = test.apply(LabelEncoder().fit_transform)"
      ],
      "execution_count": 0,
      "outputs": []
    },
    {
      "cell_type": "code",
      "metadata": {
        "id": "hGcmjXhMYmje",
        "colab_type": "code",
        "outputId": "b12e9ad0-6d4a-4adf-cf90-62de47264440",
        "colab": {}
      },
      "source": [
        "from sklearn.ensemble import RandomForestClassifier\n",
        "\n",
        "rf = RandomForestClassifier(n_estimators=100, n_jobs=-1)\n",
        "start = time.time()\n",
        "rf.fit(train_preprocessed.iloc[:, 0:-1], train_preprocessed['Income'])\n",
        "print('It took {} seconds'.format(time.time()-start))"
      ],
      "execution_count": 0,
      "outputs": [
        {
          "output_type": "stream",
          "text": [
            "It took 2.0011560916900635 seconds\n"
          ],
          "name": "stdout"
        }
      ]
    },
    {
      "cell_type": "code",
      "metadata": {
        "id": "UBo61eYXYmjj",
        "colab_type": "code",
        "outputId": "3d53b2cb-ac56-49a7-cadd-e53c2448ff81",
        "colab": {}
      },
      "source": [
        "preds = rf.predict(test_preprocessed.iloc[:, 0:-1])\n",
        "accuracy_score(test_preprocessed['Income'], preds)"
      ],
      "execution_count": 0,
      "outputs": [
        {
          "output_type": "execute_result",
          "data": {
            "text/plain": [
              "0.7945"
            ]
          },
          "metadata": {
            "tags": []
          },
          "execution_count": 51
        }
      ]
    },
    {
      "cell_type": "code",
      "metadata": {
        "id": "0d6eh1Z0Ymjm",
        "colab_type": "code",
        "outputId": "07a79b46-f739-42ec-f85c-79bdefe1cc41",
        "colab": {}
      },
      "source": [
        "skplt.metrics.plot_confusion_matrix(test_preprocessed['Income'], preds)\n",
        "plt.show()"
      ],
      "execution_count": 0,
      "outputs": [
        {
          "output_type": "display_data",
          "data": {
            "image/png": "[encoded data removed]",
            "text/plain": [
              "<Figure size 432x288 with 2 Axes>"
            ]
          },
          "metadata": {
            "tags": [],
            "needs_background": "light"
          }
        }
      ]
    },
    {
      "cell_type": "code",
      "metadata": {
        "id": "CPUFvTo3Ymjp",
        "colab_type": "code",
        "colab": {}
      },
      "source": [
        "from interpret.blackbox import LimeTabular\n",
        "from interpret import show\n",
        "\n",
        "import warnings\n",
        "warnings.filterwarnings('ignore')\n",
        "\n",
        "lime = LimeTabular(predict_fn=rf.predict_proba, data=train_preprocessed.iloc[:,0:-1], random_state=7)\n",
        "\n",
        "lime_local = lime.explain_local(test_preprocessed.iloc[:5, 0:-1],\n",
        "                                test_preprocessed['Income'][:5], name='LIME')\n",
        "\n",
        "show(lime_local)"
      ],
      "execution_count": 0,
      "outputs": []
    },
    {
      "cell_type": "markdown",
      "metadata": {
        "id": "_NcXakZDYmju",
        "colab_type": "text"
      },
      "source": [
        "Demo: https://www.loom.com/share/c8e194eacb934ebabd8735b6d2300ce2"
      ]
    },
    {
      "cell_type": "code",
      "metadata": {
        "id": "duYI-PRhYmjx",
        "colab_type": "code",
        "colab": {}
      },
      "source": [
        "from interpret.blackbox import MorrisSensitivity\n",
        "\n",
        "sensitivity = MorrisSensitivity(predict_fn=rf.predict_proba, data=train_preprocessed.iloc[:,0:-1])\n",
        "sensitivity_global = sensitivity.explain_global(name=\"Global Sensitivity\")\n",
        "\n",
        "show(sensitivity_global)"
      ],
      "execution_count": 0,
      "outputs": []
    },
    {
      "cell_type": "markdown",
      "metadata": {
        "id": "WPemLF6WYmj2",
        "colab_type": "text"
      },
      "source": [
        "Demo: https://www.loom.com/share/d19a9b56d97f48da85e9d02681e96b0c"
      ]
    },
    {
      "cell_type": "code",
      "metadata": {
        "scrolled": false,
        "id": "hCdKcXfMYmj3",
        "colab_type": "code",
        "colab": {}
      },
      "source": [
        "from interpret.blackbox import PartialDependence\n",
        "\n",
        "pdp = PartialDependence(predict_fn=rf.predict_proba, data=train_preprocessed.iloc[:,0:-1])\n",
        "pdp_global = pdp.explain_global(name='Partial Dependence')\n",
        "\n",
        "show(pdp_global)"
      ],
      "execution_count": 0,
      "outputs": []
    },
    {
      "cell_type": "markdown",
      "metadata": {
        "id": "WHLxsv0GYmj6",
        "colab_type": "text"
      },
      "source": [
        "Demo: https://www.loom.com/share/8f31af4ec336476e9d18bcac106e10b3"
      ]
    },
    {
      "cell_type": "code",
      "metadata": {
        "id": "ONj98LS6Ymj6",
        "colab_type": "code",
        "colab": {}
      },
      "source": [
        "show([lime_local, sensitivity_global, pdp_global])"
      ],
      "execution_count": 0,
      "outputs": []
    },
    {
      "cell_type": "markdown",
      "metadata": {
        "id": "JX1_pk2mYmkA",
        "colab_type": "text"
      },
      "source": [
        "Demo: https://www.loom.com/share/13e1434c52d142dab06d0f7b0595983d"
      ]
    }
  ]
}