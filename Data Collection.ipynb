{
 "cells": [
  {
   "cell_type": "code",
   "execution_count": 1,
   "metadata": {
    "collapsed": true
   },
   "outputs": [],
   "source": [
    "# Standard Python libraries\n",
    "import os                                    # For accessing operating system functionalities\n",
    "import json                                  # For encoding and decoding JSON data\n",
    "import pickle                                # For serializing and de-serializing Python objects\n",
    "\n",
    "# Libraries that can be pip installed\n",
    "import requests                              # Simple Python library for HTTP\n",
    "import pandas as pd                          # Library for building dataframes similar to those in R\n",
    "import seaborn as sns                        # Statistical visualization library based on Matplotlib\n",
    "import matplotlib.pyplot as plt              # MATLAB-like plotting, useful for interactive viz\n",
    "\n",
    "# Utilities needed from Scikit-Learn, a robust, comprehensive machine learning library in Python.\n",
    "# We'll discuss each of these in detail as we come to them in the tutorial.\n",
    "from sklearn.pipeline import Pipeline\n",
    "from sklearn.datasets.base import Bunch\n",
    "from sklearn.metrics import classification_report\n",
    "from sklearn.linear_model import LogisticRegression\n",
    "from sklearn.preprocessing import Imputer, LabelEncoder\n",
    "from sklearn.base import BaseEstimator, TransformerMixin"
   ]
  },
  {
   "cell_type": "code",
   "execution_count": 2,
   "metadata": {
    "collapsed": true
   },
   "outputs": [],
   "source": [
    "CENSUS_DATASET = (\n",
    "    \"http://archive.ics.uci.edu/ml/machine-learning-databases/adult/adult.data\",\n",
    "    \"http://archive.ics.uci.edu/ml/machine-learning-databases/adult/adult.names\",\n",
    "    \"http://archive.ics.uci.edu/ml/machine-learning-databases/adult/adult.test\",\n",
    ")\n",
    "\n",
    "def download_data(path='data', urls=CENSUS_DATASET):\n",
    "    if not os.path.exists(path):\n",
    "        os.mkdir(path)\n",
    "\n",
    "    for url in urls:\n",
    "        response = requests.get(url)\n",
    "        name = os.path.basename(url)\n",
    "        with open(os.path.join(path, name), 'w') as f:\n",
    "            f.write(response.content)\n",
    "\n",
    "download_data()"
   ]
  }
 ],
 "metadata": {
  "anaconda-cloud": {},
  "kernelspec": {
   "display_name": "Python [conda env:py27]",
   "language": "python",
   "name": "conda-env-py27-py"
  },
  "language_info": {
   "codemirror_mode": {
    "name": "ipython",
    "version": 2
   },
   "file_extension": ".py",
   "mimetype": "text/x-python",
   "name": "python",
   "nbconvert_exporter": "python",
   "pygments_lexer": "ipython2",
   "version": "2.7.13"
  }
 },
 "nbformat": 4,
 "nbformat_minor": 1
}
