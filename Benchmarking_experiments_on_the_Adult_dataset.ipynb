{
 "cells": [
  {
   "cell_type": "markdown",
   "metadata": {
    "colab_type": "text",
    "id": "g0WQGcRUHeu1"
   },
   "source": [
    "## Simple data explorations"
   ]
  },
  {
   "cell_type": "code",
   "execution_count": 1,
   "metadata": {
    "colab": {},
    "colab_type": "code",
    "id": "dXnrBDrPCIBJ"
   },
   "outputs": [],
   "source": [
    "import pandas as pd"
   ]
  },
  {
   "cell_type": "code",
   "execution_count": 2,
   "metadata": {
    "colab": {
     "base_uri": "https://localhost:8080/",
     "height": 292
    },
    "colab_type": "code",
    "id": "h9C88voJCaJh",
    "outputId": "b77b3a2f-d9ce-480d-8fd9-ff53e55548ea"
   },
   "outputs": [
    {
     "data": {
      "text/html": [
       "<div>\n",
       "<style scoped>\n",
       "    .dataframe tbody tr th:only-of-type {\n",
       "        vertical-align: middle;\n",
       "    }\n",
       "\n",
       "    .dataframe tbody tr th {\n",
       "        vertical-align: top;\n",
       "    }\n",
       "\n",
       "    .dataframe thead th {\n",
       "        text-align: right;\n",
       "    }\n",
       "</style>\n",
       "<table border=\"1\" class=\"dataframe\">\n",
       "  <thead>\n",
       "    <tr style=\"text-align: right;\">\n",
       "      <th></th>\n",
       "      <th>Age</th>\n",
       "      <th>WorkClass</th>\n",
       "      <th>fnlwgt</th>\n",
       "      <th>Education</th>\n",
       "      <th>EducationNum</th>\n",
       "      <th>MaritalStatus</th>\n",
       "      <th>Occupation</th>\n",
       "      <th>Relationship</th>\n",
       "      <th>Race</th>\n",
       "      <th>Gender</th>\n",
       "      <th>CapitalGain</th>\n",
       "      <th>CapitalLoss</th>\n",
       "      <th>HoursPerWeek</th>\n",
       "      <th>NativeCountry</th>\n",
       "      <th>Income</th>\n",
       "    </tr>\n",
       "  </thead>\n",
       "  <tbody>\n",
       "    <tr>\n",
       "      <th>0</th>\n",
       "      <td>39</td>\n",
       "      <td>State-gov</td>\n",
       "      <td>77516</td>\n",
       "      <td>Bachelors</td>\n",
       "      <td>13</td>\n",
       "      <td>Never-married</td>\n",
       "      <td>Adm-clerical</td>\n",
       "      <td>Not-in-family</td>\n",
       "      <td>White</td>\n",
       "      <td>Male</td>\n",
       "      <td>2174</td>\n",
       "      <td>0</td>\n",
       "      <td>40</td>\n",
       "      <td>United-States</td>\n",
       "      <td>&lt;=50K</td>\n",
       "    </tr>\n",
       "    <tr>\n",
       "      <th>1</th>\n",
       "      <td>50</td>\n",
       "      <td>Self-emp-not-inc</td>\n",
       "      <td>83311</td>\n",
       "      <td>Bachelors</td>\n",
       "      <td>13</td>\n",
       "      <td>Married-civ-spouse</td>\n",
       "      <td>Exec-managerial</td>\n",
       "      <td>Husband</td>\n",
       "      <td>White</td>\n",
       "      <td>Male</td>\n",
       "      <td>0</td>\n",
       "      <td>0</td>\n",
       "      <td>13</td>\n",
       "      <td>United-States</td>\n",
       "      <td>&lt;=50K</td>\n",
       "    </tr>\n",
       "    <tr>\n",
       "      <th>2</th>\n",
       "      <td>38</td>\n",
       "      <td>Private</td>\n",
       "      <td>215646</td>\n",
       "      <td>HS-grad</td>\n",
       "      <td>9</td>\n",
       "      <td>Divorced</td>\n",
       "      <td>Handlers-cleaners</td>\n",
       "      <td>Not-in-family</td>\n",
       "      <td>White</td>\n",
       "      <td>Male</td>\n",
       "      <td>0</td>\n",
       "      <td>0</td>\n",
       "      <td>40</td>\n",
       "      <td>United-States</td>\n",
       "      <td>&lt;=50K</td>\n",
       "    </tr>\n",
       "    <tr>\n",
       "      <th>3</th>\n",
       "      <td>53</td>\n",
       "      <td>Private</td>\n",
       "      <td>234721</td>\n",
       "      <td>11th</td>\n",
       "      <td>7</td>\n",
       "      <td>Married-civ-spouse</td>\n",
       "      <td>Handlers-cleaners</td>\n",
       "      <td>Husband</td>\n",
       "      <td>Black</td>\n",
       "      <td>Male</td>\n",
       "      <td>0</td>\n",
       "      <td>0</td>\n",
       "      <td>40</td>\n",
       "      <td>United-States</td>\n",
       "      <td>&lt;=50K</td>\n",
       "    </tr>\n",
       "    <tr>\n",
       "      <th>4</th>\n",
       "      <td>28</td>\n",
       "      <td>Private</td>\n",
       "      <td>338409</td>\n",
       "      <td>Bachelors</td>\n",
       "      <td>13</td>\n",
       "      <td>Married-civ-spouse</td>\n",
       "      <td>Prof-specialty</td>\n",
       "      <td>Wife</td>\n",
       "      <td>Black</td>\n",
       "      <td>Female</td>\n",
       "      <td>0</td>\n",
       "      <td>0</td>\n",
       "      <td>40</td>\n",
       "      <td>Cuba</td>\n",
       "      <td>&lt;=50K</td>\n",
       "    </tr>\n",
       "  </tbody>\n",
       "</table>\n",
       "</div>"
      ],
      "text/plain": [
       "   Age          WorkClass  fnlwgt   Education  EducationNum  \\\n",
       "0   39          State-gov   77516   Bachelors            13   \n",
       "1   50   Self-emp-not-inc   83311   Bachelors            13   \n",
       "2   38            Private  215646     HS-grad             9   \n",
       "3   53            Private  234721        11th             7   \n",
       "4   28            Private  338409   Bachelors            13   \n",
       "\n",
       "         MaritalStatus          Occupation    Relationship    Race   Gender  \\\n",
       "0        Never-married        Adm-clerical   Not-in-family   White     Male   \n",
       "1   Married-civ-spouse     Exec-managerial         Husband   White     Male   \n",
       "2             Divorced   Handlers-cleaners   Not-in-family   White     Male   \n",
       "3   Married-civ-spouse   Handlers-cleaners         Husband   Black     Male   \n",
       "4   Married-civ-spouse      Prof-specialty            Wife   Black   Female   \n",
       "\n",
       "   CapitalGain  CapitalLoss  HoursPerWeek   NativeCountry  Income  \n",
       "0         2174            0            40   United-States   <=50K  \n",
       "1            0            0            13   United-States   <=50K  \n",
       "2            0            0            40   United-States   <=50K  \n",
       "3            0            0            40   United-States   <=50K  \n",
       "4            0            0            40            Cuba   <=50K  "
      ]
     },
     "execution_count": 2,
     "metadata": {},
     "output_type": "execute_result"
    }
   ],
   "source": [
    "columns = [\"Age\", \"WorkClass\", \"fnlwgt\", \"Education\", \"EducationNum\",\n",
    "        \"MaritalStatus\", \"Occupation\", \"Relationship\", \"Race\", \"Gender\",\n",
    "        \"CapitalGain\", \"CapitalLoss\", \"HoursPerWeek\", \"NativeCountry\", \"Income\"]\n",
    "\n",
    "data = pd.read_csv('https://archive.ics.uci.edu/ml/machine-learning-databases/adult/adult.data',\n",
    "                    header=None,\n",
    "                    names=columns)\n",
    "\n",
    "data.head()"
   ]
  },
  {
   "cell_type": "code",
   "execution_count": 6,
   "metadata": {
    "colab": {
     "base_uri": "https://localhost:8080/",
     "height": 514
    },
    "colab_type": "code",
    "id": "Tfdos4OgC9Kw",
    "outputId": "7b812e74-2beb-45b2-b53b-4549b123426f"
   },
   "outputs": [
    {
     "data": {
      "text/html": [
       "<div>\n",
       "<style scoped>\n",
       "    .dataframe tbody tr th:only-of-type {\n",
       "        vertical-align: middle;\n",
       "    }\n",
       "\n",
       "    .dataframe tbody tr th {\n",
       "        vertical-align: top;\n",
       "    }\n",
       "\n",
       "    .dataframe thead th {\n",
       "        text-align: right;\n",
       "    }\n",
       "</style>\n",
       "<table border=\"1\" class=\"dataframe\">\n",
       "  <thead>\n",
       "    <tr style=\"text-align: right;\">\n",
       "      <th></th>\n",
       "      <th>count</th>\n",
       "      <th>unique</th>\n",
       "      <th>top</th>\n",
       "      <th>freq</th>\n",
       "      <th>mean</th>\n",
       "      <th>std</th>\n",
       "      <th>min</th>\n",
       "      <th>25%</th>\n",
       "      <th>50%</th>\n",
       "      <th>75%</th>\n",
       "      <th>max</th>\n",
       "    </tr>\n",
       "  </thead>\n",
       "  <tbody>\n",
       "    <tr>\n",
       "      <th>Age</th>\n",
       "      <td>32561</td>\n",
       "      <td>NaN</td>\n",
       "      <td>NaN</td>\n",
       "      <td>NaN</td>\n",
       "      <td>38.5816</td>\n",
       "      <td>13.6404</td>\n",
       "      <td>17</td>\n",
       "      <td>28</td>\n",
       "      <td>37</td>\n",
       "      <td>48</td>\n",
       "      <td>90</td>\n",
       "    </tr>\n",
       "    <tr>\n",
       "      <th>WorkClass</th>\n",
       "      <td>32561</td>\n",
       "      <td>9</td>\n",
       "      <td>Private</td>\n",
       "      <td>22696</td>\n",
       "      <td>NaN</td>\n",
       "      <td>NaN</td>\n",
       "      <td>NaN</td>\n",
       "      <td>NaN</td>\n",
       "      <td>NaN</td>\n",
       "      <td>NaN</td>\n",
       "      <td>NaN</td>\n",
       "    </tr>\n",
       "    <tr>\n",
       "      <th>fnlwgt</th>\n",
       "      <td>32561</td>\n",
       "      <td>NaN</td>\n",
       "      <td>NaN</td>\n",
       "      <td>NaN</td>\n",
       "      <td>189778</td>\n",
       "      <td>105550</td>\n",
       "      <td>12285</td>\n",
       "      <td>117827</td>\n",
       "      <td>178356</td>\n",
       "      <td>237051</td>\n",
       "      <td>1.48470e+06</td>\n",
       "    </tr>\n",
       "    <tr>\n",
       "      <th>Education</th>\n",
       "      <td>32561</td>\n",
       "      <td>16</td>\n",
       "      <td>HS-grad</td>\n",
       "      <td>10501</td>\n",
       "      <td>NaN</td>\n",
       "      <td>NaN</td>\n",
       "      <td>NaN</td>\n",
       "      <td>NaN</td>\n",
       "      <td>NaN</td>\n",
       "      <td>NaN</td>\n",
       "      <td>NaN</td>\n",
       "    </tr>\n",
       "    <tr>\n",
       "      <th>EducationNum</th>\n",
       "      <td>32561</td>\n",
       "      <td>NaN</td>\n",
       "      <td>NaN</td>\n",
       "      <td>NaN</td>\n",
       "      <td>10.0807</td>\n",
       "      <td>2.57272</td>\n",
       "      <td>1</td>\n",
       "      <td>9</td>\n",
       "      <td>10</td>\n",
       "      <td>12</td>\n",
       "      <td>16</td>\n",
       "    </tr>\n",
       "    <tr>\n",
       "      <th>MaritalStatus</th>\n",
       "      <td>32561</td>\n",
       "      <td>7</td>\n",
       "      <td>Married-civ-spouse</td>\n",
       "      <td>14976</td>\n",
       "      <td>NaN</td>\n",
       "      <td>NaN</td>\n",
       "      <td>NaN</td>\n",
       "      <td>NaN</td>\n",
       "      <td>NaN</td>\n",
       "      <td>NaN</td>\n",
       "      <td>NaN</td>\n",
       "    </tr>\n",
       "    <tr>\n",
       "      <th>Occupation</th>\n",
       "      <td>32561</td>\n",
       "      <td>15</td>\n",
       "      <td>Prof-specialty</td>\n",
       "      <td>4140</td>\n",
       "      <td>NaN</td>\n",
       "      <td>NaN</td>\n",
       "      <td>NaN</td>\n",
       "      <td>NaN</td>\n",
       "      <td>NaN</td>\n",
       "      <td>NaN</td>\n",
       "      <td>NaN</td>\n",
       "    </tr>\n",
       "    <tr>\n",
       "      <th>Relationship</th>\n",
       "      <td>32561</td>\n",
       "      <td>6</td>\n",
       "      <td>Husband</td>\n",
       "      <td>13193</td>\n",
       "      <td>NaN</td>\n",
       "      <td>NaN</td>\n",
       "      <td>NaN</td>\n",
       "      <td>NaN</td>\n",
       "      <td>NaN</td>\n",
       "      <td>NaN</td>\n",
       "      <td>NaN</td>\n",
       "    </tr>\n",
       "    <tr>\n",
       "      <th>Race</th>\n",
       "      <td>32561</td>\n",
       "      <td>5</td>\n",
       "      <td>White</td>\n",
       "      <td>27816</td>\n",
       "      <td>NaN</td>\n",
       "      <td>NaN</td>\n",
       "      <td>NaN</td>\n",
       "      <td>NaN</td>\n",
       "      <td>NaN</td>\n",
       "      <td>NaN</td>\n",
       "      <td>NaN</td>\n",
       "    </tr>\n",
       "    <tr>\n",
       "      <th>Gender</th>\n",
       "      <td>32561</td>\n",
       "      <td>2</td>\n",
       "      <td>Male</td>\n",
       "      <td>21790</td>\n",
       "      <td>NaN</td>\n",
       "      <td>NaN</td>\n",
       "      <td>NaN</td>\n",
       "      <td>NaN</td>\n",
       "      <td>NaN</td>\n",
       "      <td>NaN</td>\n",
       "      <td>NaN</td>\n",
       "    </tr>\n",
       "    <tr>\n",
       "      <th>CapitalGain</th>\n",
       "      <td>32561</td>\n",
       "      <td>NaN</td>\n",
       "      <td>NaN</td>\n",
       "      <td>NaN</td>\n",
       "      <td>1077.65</td>\n",
       "      <td>7385.29</td>\n",
       "      <td>0</td>\n",
       "      <td>0</td>\n",
       "      <td>0</td>\n",
       "      <td>0</td>\n",
       "      <td>99999</td>\n",
       "    </tr>\n",
       "    <tr>\n",
       "      <th>CapitalLoss</th>\n",
       "      <td>32561</td>\n",
       "      <td>NaN</td>\n",
       "      <td>NaN</td>\n",
       "      <td>NaN</td>\n",
       "      <td>87.3038</td>\n",
       "      <td>402.96</td>\n",
       "      <td>0</td>\n",
       "      <td>0</td>\n",
       "      <td>0</td>\n",
       "      <td>0</td>\n",
       "      <td>4356</td>\n",
       "    </tr>\n",
       "    <tr>\n",
       "      <th>HoursPerWeek</th>\n",
       "      <td>32561</td>\n",
       "      <td>NaN</td>\n",
       "      <td>NaN</td>\n",
       "      <td>NaN</td>\n",
       "      <td>40.4375</td>\n",
       "      <td>12.3474</td>\n",
       "      <td>1</td>\n",
       "      <td>40</td>\n",
       "      <td>40</td>\n",
       "      <td>45</td>\n",
       "      <td>99</td>\n",
       "    </tr>\n",
       "    <tr>\n",
       "      <th>NativeCountry</th>\n",
       "      <td>32561</td>\n",
       "      <td>42</td>\n",
       "      <td>United-States</td>\n",
       "      <td>29170</td>\n",
       "      <td>NaN</td>\n",
       "      <td>NaN</td>\n",
       "      <td>NaN</td>\n",
       "      <td>NaN</td>\n",
       "      <td>NaN</td>\n",
       "      <td>NaN</td>\n",
       "      <td>NaN</td>\n",
       "    </tr>\n",
       "    <tr>\n",
       "      <th>Income</th>\n",
       "      <td>32561</td>\n",
       "      <td>2</td>\n",
       "      <td>&lt;=50K</td>\n",
       "      <td>24720</td>\n",
       "      <td>NaN</td>\n",
       "      <td>NaN</td>\n",
       "      <td>NaN</td>\n",
       "      <td>NaN</td>\n",
       "      <td>NaN</td>\n",
       "      <td>NaN</td>\n",
       "      <td>NaN</td>\n",
       "    </tr>\n",
       "  </tbody>\n",
       "</table>\n",
       "</div>"
      ],
      "text/plain": [
       "               count unique                  top  ...     50%     75%          max\n",
       "Age            32561    NaN                  NaN  ...      37      48           90\n",
       "WorkClass      32561      9              Private  ...     NaN     NaN          NaN\n",
       "fnlwgt         32561    NaN                  NaN  ...  178356  237051  1.48470e+06\n",
       "Education      32561     16              HS-grad  ...     NaN     NaN          NaN\n",
       "EducationNum   32561    NaN                  NaN  ...      10      12           16\n",
       "MaritalStatus  32561      7   Married-civ-spouse  ...     NaN     NaN          NaN\n",
       "Occupation     32561     15       Prof-specialty  ...     NaN     NaN          NaN\n",
       "Relationship   32561      6              Husband  ...     NaN     NaN          NaN\n",
       "Race           32561      5                White  ...     NaN     NaN          NaN\n",
       "Gender         32561      2                 Male  ...     NaN     NaN          NaN\n",
       "CapitalGain    32561    NaN                  NaN  ...       0       0        99999\n",
       "CapitalLoss    32561    NaN                  NaN  ...       0       0         4356\n",
       "HoursPerWeek   32561    NaN                  NaN  ...      40      45           99\n",
       "NativeCountry  32561     42        United-States  ...     NaN     NaN          NaN\n",
       "Income         32561      2                <=50K  ...     NaN     NaN          NaN\n",
       "\n",
       "[15 rows x 11 columns]"
      ]
     },
     "execution_count": 6,
     "metadata": {
      "tags": []
     },
     "output_type": "execute_result"
    }
   ],
   "source": [
    "data.describe(include='all').T"
   ]
  },
  {
   "cell_type": "code",
   "execution_count": 7,
   "metadata": {
    "colab": {
     "base_uri": "https://localhost:8080/",
     "height": 36
    },
    "colab_type": "code",
    "id": "LsoSp0RPDHxn",
    "outputId": "0af1fbc5-fe41-424d-c91a-fcacaab0cf87"
   },
   "outputs": [
    {
     "data": {
      "text/plain": [
       "(32561, 15)"
      ]
     },
     "execution_count": 7,
     "metadata": {
      "tags": []
     },
     "output_type": "execute_result"
    }
   ],
   "source": [
    "data.shape"
   ]
  },
  {
   "cell_type": "code",
   "execution_count": 8,
   "metadata": {
    "colab": {
     "base_uri": "https://localhost:8080/",
     "height": 397
    },
    "colab_type": "code",
    "id": "jEaJtqXjDM3E",
    "outputId": "f46eae4a-6544-4ab8-c297-5fce73b7f14b"
   },
   "outputs": [
    {
     "name": "stdout",
     "output_type": "stream",
     "text": [
      "<class 'pandas.core.frame.DataFrame'>\n",
      "RangeIndex: 32561 entries, 0 to 32560\n",
      "Data columns (total 15 columns):\n",
      "Age              32561 non-null int64\n",
      "WorkClass        32561 non-null object\n",
      "fnlwgt           32561 non-null int64\n",
      "Education        32561 non-null object\n",
      "EducationNum     32561 non-null int64\n",
      "MaritalStatus    32561 non-null object\n",
      "Occupation       32561 non-null object\n",
      "Relationship     32561 non-null object\n",
      "Race             32561 non-null object\n",
      "Gender           32561 non-null object\n",
      "CapitalGain      32561 non-null int64\n",
      "CapitalLoss      32561 non-null int64\n",
      "HoursPerWeek     32561 non-null int64\n",
      "NativeCountry    32561 non-null object\n",
      "Income           32561 non-null object\n",
      "dtypes: int64(6), object(9)\n",
      "memory usage: 3.7+ MB\n"
     ]
    }
   ],
   "source": [
    "data.info()"
   ]
  },
  {
   "cell_type": "code",
   "execution_count": 9,
   "metadata": {
    "colab": {
     "base_uri": "https://localhost:8080/",
     "height": 321
    },
    "colab_type": "code",
    "id": "drX0DTMVDRnW",
    "outputId": "63a0ac36-f7ca-410c-f8a6-705f1af7b8af"
   },
   "outputs": [
    {
     "data": {
      "text/plain": [
       "Age              0\n",
       "WorkClass        0\n",
       "fnlwgt           0\n",
       "Education        0\n",
       "EducationNum     0\n",
       "MaritalStatus    0\n",
       "Occupation       0\n",
       "Relationship     0\n",
       "Race             0\n",
       "Gender           0\n",
       "CapitalGain      0\n",
       "CapitalLoss      0\n",
       "HoursPerWeek     0\n",
       "NativeCountry    0\n",
       "Income           0\n",
       "dtype: int64"
      ]
     },
     "execution_count": 9,
     "metadata": {
      "tags": []
     },
     "output_type": "execute_result"
    }
   ],
   "source": [
    "data.isna().sum()"
   ]
  },
  {
   "cell_type": "code",
   "execution_count": 11,
   "metadata": {
    "colab": {
     "base_uri": "https://localhost:8080/",
     "height": 111
    },
    "colab_type": "code",
    "id": "723l0WvrDoae",
    "outputId": "487dc925-acb5-4bb4-b8af-179f1425aefa"
   },
   "outputs": [
    {
     "data": {
      "text/html": [
       "<div>\n",
       "<style scoped>\n",
       "    .dataframe tbody tr th:only-of-type {\n",
       "        vertical-align: middle;\n",
       "    }\n",
       "\n",
       "    .dataframe tbody tr th {\n",
       "        vertical-align: top;\n",
       "    }\n",
       "\n",
       "    .dataframe thead th {\n",
       "        text-align: right;\n",
       "    }\n",
       "</style>\n",
       "<table border=\"1\" class=\"dataframe\">\n",
       "  <thead>\n",
       "    <tr style=\"text-align: right;\">\n",
       "      <th></th>\n",
       "      <th>Class</th>\n",
       "      <th>Num_Observations</th>\n",
       "    </tr>\n",
       "  </thead>\n",
       "  <tbody>\n",
       "    <tr>\n",
       "      <th>0</th>\n",
       "      <td>&lt;=50K</td>\n",
       "      <td>24720</td>\n",
       "    </tr>\n",
       "    <tr>\n",
       "      <th>1</th>\n",
       "      <td>&gt;50K</td>\n",
       "      <td>7841</td>\n",
       "    </tr>\n",
       "  </tbody>\n",
       "</table>\n",
       "</div>"
      ],
      "text/plain": [
       "    Class  Num_Observations\n",
       "0   <=50K             24720\n",
       "1    >50K              7841"
      ]
     },
     "execution_count": 11,
     "metadata": {
      "tags": []
     },
     "output_type": "execute_result"
    }
   ],
   "source": [
    "from collections import Counter\n",
    "\n",
    "classes = Counter(data['Income'].values)\n",
    "class_dist = pd.DataFrame(classes.most_common(), columns=['Class', 'Num_Observations'])\n",
    "class_dist"
   ]
  },
  {
   "cell_type": "code",
   "execution_count": 0,
   "metadata": {
    "colab": {},
    "colab_type": "code",
    "id": "lugcmxbdFIlu"
   },
   "outputs": [],
   "source": [
    "import seaborn as sns\n",
    "import matplotlib.pyplot as plt\n",
    "sns.set(style=\"white\")\n",
    "plt.style.use('ggplot')\n",
    "\n",
    "%matplotlib inline"
   ]
  },
  {
   "cell_type": "code",
   "execution_count": 18,
   "metadata": {
    "colab": {
     "base_uri": "https://localhost:8080/",
     "height": 364
    },
    "colab_type": "code",
    "id": "FabuN86hEw7A",
    "outputId": "31a6cae9-1252-4f04-db49-1048351b4f6d"
   },
   "outputs": [
    {
     "data": {
      "text/plain": [
       "<matplotlib.axes._subplots.AxesSubplot at 0x7f2196c18470>"
      ]
     },
     "execution_count": 18,
     "metadata": {
      "tags": []
     },
     "output_type": "execute_result"
    },
    {
     "data": {
      "image/png": "[encoded data removed]",
      "text/plain": [
       "<Figure size 432x288 with 2 Axes>"
      ]
     },
     "metadata": {
      "tags": []
     },
     "output_type": "display_data"
    }
   ],
   "source": [
    "cmap = sns.diverging_palette(220, 10, as_cmap=True)\n",
    "\n",
    "sns.heatmap(data.corr(), cmap=cmap, square=True, linewidths=.5, cbar_kws={\"shrink\": .5})"
   ]
  },
  {
   "cell_type": "markdown",
   "metadata": {
    "colab_type": "text",
    "id": "hMZuWQXfHnhR"
   },
   "source": [
    "## `fastai`"
   ]
  },
  {
   "cell_type": "code",
   "execution_count": 0,
   "metadata": {
    "colab": {},
    "colab_type": "code",
    "id": "MGQ0-qf9Hp_K"
   },
   "outputs": [],
   "source": [
    "from fastai.tabular import * \n",
    "import torch\n",
    "\n",
    "torch.cuda.manual_seed_all(7)"
   ]
  },
  {
   "cell_type": "code",
   "execution_count": 0,
   "metadata": {
    "colab": {},
    "colab_type": "code",
    "id": "ayKL0iDmDVCz"
   },
   "outputs": [],
   "source": [
    "preprocessing = [FillMissing, Categorify, Normalize]"
   ]
  },
  {
   "cell_type": "code",
   "execution_count": 0,
   "metadata": {
    "colab": {},
    "colab_type": "code",
    "id": "C-XDkBWnD5HD"
   },
   "outputs": [],
   "source": [
    "dep_var = 'Income'\n",
    "cat_names = ['WorkClass', 'Education', 'MaritalStatus', 'Occupation', 'Relationship', 'Race', 'Gender', 'NativeCountry']"
   ]
  },
  {
   "cell_type": "code",
   "execution_count": 0,
   "metadata": {
    "colab": {},
    "colab_type": "code",
    "id": "h0NDfN_mGLGy"
   },
   "outputs": [],
   "source": [
    "valid_idx = range(len(data)-2000, len(data))\n",
    "\n",
    "path=\".\"\n",
    "\n",
    "databunch = TabularDataBunch.from_df(path, data, dep_var, valid_idx=valid_idx, procs=preprocessing, cat_names=cat_names)"
   ]
  },
  {
   "cell_type": "code",
   "execution_count": 26,
   "metadata": {
    "colab": {
     "base_uri": "https://localhost:8080/",
     "height": 292
    },
    "colab_type": "code",
    "id": "KnnOvdtYGdAL",
    "outputId": "eafcaf4c-361a-4f07-9acb-309fbaedc6e9"
   },
   "outputs": [
    {
     "data": {
      "text/html": [
       "<table border=\"1\" class=\"dataframe\">\n",
       "  <thead>\n",
       "    <tr style=\"text-align: right;\">\n",
       "      <th>WorkClass</th>\n",
       "      <th>Education</th>\n",
       "      <th>MaritalStatus</th>\n",
       "      <th>Occupation</th>\n",
       "      <th>Relationship</th>\n",
       "      <th>Race</th>\n",
       "      <th>Gender</th>\n",
       "      <th>NativeCountry</th>\n",
       "      <th>fnlwgt</th>\n",
       "      <th>HoursPerWeek</th>\n",
       "      <th>Age</th>\n",
       "      <th>EducationNum</th>\n",
       "      <th>CapitalGain</th>\n",
       "      <th>CapitalLoss</th>\n",
       "      <th>target</th>\n",
       "    </tr>\n",
       "  </thead>\n",
       "  <tbody>\n",
       "    <tr>\n",
       "      <td>Private</td>\n",
       "      <td>HS-grad</td>\n",
       "      <td>Married-civ-spouse</td>\n",
       "      <td>Other-service</td>\n",
       "      <td>Husband</td>\n",
       "      <td>White</td>\n",
       "      <td>Male</td>\n",
       "      <td>United-States</td>\n",
       "      <td>-0.2373</td>\n",
       "      <td>-0.0338</td>\n",
       "      <td>-1.2140</td>\n",
       "      <td>-0.4186</td>\n",
       "      <td>-0.1462</td>\n",
       "      <td>-0.2161</td>\n",
       "      <td>&lt;=50K</td>\n",
       "    </tr>\n",
       "    <tr>\n",
       "      <td>Private</td>\n",
       "      <td>12th</td>\n",
       "      <td>Never-married</td>\n",
       "      <td>Craft-repair</td>\n",
       "      <td>Own-child</td>\n",
       "      <td>White</td>\n",
       "      <td>Male</td>\n",
       "      <td>United-States</td>\n",
       "      <td>0.3247</td>\n",
       "      <td>-0.0338</td>\n",
       "      <td>-1.3606</td>\n",
       "      <td>-0.8076</td>\n",
       "      <td>-0.1462</td>\n",
       "      <td>-0.2161</td>\n",
       "      <td>&lt;=50K</td>\n",
       "    </tr>\n",
       "    <tr>\n",
       "      <td>Private</td>\n",
       "      <td>9th</td>\n",
       "      <td>Married-civ-spouse</td>\n",
       "      <td>Craft-repair</td>\n",
       "      <td>Husband</td>\n",
       "      <td>White</td>\n",
       "      <td>Male</td>\n",
       "      <td>United-States</td>\n",
       "      <td>0.0693</td>\n",
       "      <td>-0.0338</td>\n",
       "      <td>1.6442</td>\n",
       "      <td>-1.9748</td>\n",
       "      <td>-0.1462</td>\n",
       "      <td>-0.2161</td>\n",
       "      <td>&lt;=50K</td>\n",
       "    </tr>\n",
       "    <tr>\n",
       "      <td>State-gov</td>\n",
       "      <td>Doctorate</td>\n",
       "      <td>Married-civ-spouse</td>\n",
       "      <td>Prof-specialty</td>\n",
       "      <td>Husband</td>\n",
       "      <td>White</td>\n",
       "      <td>Male</td>\n",
       "      <td>Germany</td>\n",
       "      <td>0.6094</td>\n",
       "      <td>2.4012</td>\n",
       "      <td>0.9846</td>\n",
       "      <td>2.3047</td>\n",
       "      <td>-0.1462</td>\n",
       "      <td>4.4776</td>\n",
       "      <td>&gt;50K</td>\n",
       "    </tr>\n",
       "    <tr>\n",
       "      <td>State-gov</td>\n",
       "      <td>12th</td>\n",
       "      <td>Never-married</td>\n",
       "      <td>Exec-managerial</td>\n",
       "      <td>Not-in-family</td>\n",
       "      <td>White</td>\n",
       "      <td>Male</td>\n",
       "      <td>United-States</td>\n",
       "      <td>-0.0316</td>\n",
       "      <td>0.7779</td>\n",
       "      <td>-1.2140</td>\n",
       "      <td>-0.8076</td>\n",
       "      <td>-0.1462</td>\n",
       "      <td>-0.2161</td>\n",
       "      <td>&gt;50K</td>\n",
       "    </tr>\n",
       "  </tbody>\n",
       "</table>"
      ],
      "text/plain": [
       "<IPython.core.display.HTML object>"
      ]
     },
     "metadata": {
      "tags": []
     },
     "output_type": "display_data"
    }
   ],
   "source": [
    "databunch.show_batch()"
   ]
  },
  {
   "cell_type": "code",
   "execution_count": 78,
   "metadata": {
    "colab": {
     "base_uri": "https://localhost:8080/",
     "height": 111
    },
    "colab_type": "code",
    "id": "RUjpd-59hOrJ",
    "outputId": "4acb7eb8-c27a-4fac-f692-f6f07b4c5d2b"
   },
   "outputs": [
    {
     "data": {
      "text/html": [
       "<div>\n",
       "<style scoped>\n",
       "    .dataframe tbody tr th:only-of-type {\n",
       "        vertical-align: middle;\n",
       "    }\n",
       "\n",
       "    .dataframe tbody tr th {\n",
       "        vertical-align: top;\n",
       "    }\n",
       "\n",
       "    .dataframe thead th {\n",
       "        text-align: right;\n",
       "    }\n",
       "</style>\n",
       "<table border=\"1\" class=\"dataframe\">\n",
       "  <thead>\n",
       "    <tr style=\"text-align: right;\">\n",
       "      <th></th>\n",
       "      <th>Classes</th>\n",
       "      <th>#</th>\n",
       "    </tr>\n",
       "  </thead>\n",
       "  <tbody>\n",
       "    <tr>\n",
       "      <th>0</th>\n",
       "      <td>&lt;=50K</td>\n",
       "      <td>23235</td>\n",
       "    </tr>\n",
       "    <tr>\n",
       "      <th>1</th>\n",
       "      <td>&gt;50K</td>\n",
       "      <td>7326</td>\n",
       "    </tr>\n",
       "  </tbody>\n",
       "</table>\n",
       "</div>"
      ],
      "text/plain": [
       "  Classes      #\n",
       "0   <=50K  23235\n",
       "1    >50K   7326"
      ]
     },
     "execution_count": 78,
     "metadata": {
      "tags": []
     },
     "output_type": "execute_result"
    }
   ],
   "source": [
    "train_dist = Counter(databunch.train_ds.y)\n",
    "pd.DataFrame(train_dist.most_common(), columns=['Classes', '#'])"
   ]
  },
  {
   "cell_type": "code",
   "execution_count": 79,
   "metadata": {
    "colab": {
     "base_uri": "https://localhost:8080/",
     "height": 111
    },
    "colab_type": "code",
    "id": "QWXJQMENhlA6",
    "outputId": "826876d2-49c8-48e9-bc52-21131a9817e4"
   },
   "outputs": [
    {
     "data": {
      "text/html": [
       "<div>\n",
       "<style scoped>\n",
       "    .dataframe tbody tr th:only-of-type {\n",
       "        vertical-align: middle;\n",
       "    }\n",
       "\n",
       "    .dataframe tbody tr th {\n",
       "        vertical-align: top;\n",
       "    }\n",
       "\n",
       "    .dataframe thead th {\n",
       "        text-align: right;\n",
       "    }\n",
       "</style>\n",
       "<table border=\"1\" class=\"dataframe\">\n",
       "  <thead>\n",
       "    <tr style=\"text-align: right;\">\n",
       "      <th></th>\n",
       "      <th>Classes</th>\n",
       "      <th>#</th>\n",
       "    </tr>\n",
       "  </thead>\n",
       "  <tbody>\n",
       "    <tr>\n",
       "      <th>0</th>\n",
       "      <td>&lt;=50K</td>\n",
       "      <td>1485</td>\n",
       "    </tr>\n",
       "    <tr>\n",
       "      <th>1</th>\n",
       "      <td>&gt;50K</td>\n",
       "      <td>515</td>\n",
       "    </tr>\n",
       "  </tbody>\n",
       "</table>\n",
       "</div>"
      ],
      "text/plain": [
       "  Classes     #\n",
       "0   <=50K  1485\n",
       "1    >50K   515"
      ]
     },
     "execution_count": 79,
     "metadata": {
      "tags": []
     },
     "output_type": "execute_result"
    }
   ],
   "source": [
    "valid_dist = Counter(databunch.valid_ds.y)\n",
    "pd.DataFrame(valid_dist.most_common(), columns=['Classes', '#'])"
   ]
  },
  {
   "cell_type": "code",
   "execution_count": 36,
   "metadata": {
    "colab": {
     "base_uri": "https://localhost:8080/",
     "height": 310
    },
    "colab_type": "code",
    "id": "mdME7s5_Ha9c",
    "outputId": "4b461734-92b3-43f3-ae0e-e6e80988aa26"
   },
   "outputs": [
    {
     "data": {
      "text/html": [],
      "text/plain": [
       "<IPython.core.display.HTML object>"
      ]
     },
     "metadata": {
      "tags": []
     },
     "output_type": "display_data"
    },
    {
     "name": "stdout",
     "output_type": "stream",
     "text": [
      "LR Finder is complete, type {learner_name}.recorder.plot() to see the graph.\n"
     ]
    },
    {
     "data": {
      "image/png": "[encoded data removed]",
      "text/plain": [
       "<Figure size 432x288 with 1 Axes>"
      ]
     },
     "metadata": {
      "tags": []
     },
     "output_type": "display_data"
    }
   ],
   "source": [
    "learn = tabular_learner(databunch, layers=[200,100], emb_szs={'NativeCountry': 10}, metrics=accuracy)\n",
    "learn.lr_find()\n",
    "learn.recorder.plot()"
   ]
  },
  {
   "cell_type": "code",
   "execution_count": 42,
   "metadata": {
    "colab": {
     "base_uri": "https://localhost:8080/",
     "height": 204
    },
    "colab_type": "code",
    "id": "YyV4dCJDIlfx",
    "outputId": "008acd62-48d6-47ff-df3c-fa3fe7dd1017"
   },
   "outputs": [
    {
     "data": {
      "text/html": [
       "<table border=\"1\" class=\"dataframe\">\n",
       "  <thead>\n",
       "    <tr style=\"text-align: left;\">\n",
       "      <th>epoch</th>\n",
       "      <th>train_loss</th>\n",
       "      <th>valid_loss</th>\n",
       "      <th>accuracy</th>\n",
       "      <th>time</th>\n",
       "    </tr>\n",
       "  </thead>\n",
       "  <tbody>\n",
       "    <tr>\n",
       "      <td>0</td>\n",
       "      <td>0.365516</td>\n",
       "      <td>0.350557</td>\n",
       "      <td>0.838500</td>\n",
       "      <td>00:04</td>\n",
       "    </tr>\n",
       "    <tr>\n",
       "      <td>1</td>\n",
       "      <td>0.321920</td>\n",
       "      <td>0.329586</td>\n",
       "      <td>0.842000</td>\n",
       "      <td>00:05</td>\n",
       "    </tr>\n",
       "    <tr>\n",
       "      <td>2</td>\n",
       "      <td>0.320433</td>\n",
       "      <td>0.323776</td>\n",
       "      <td>0.852000</td>\n",
       "      <td>00:04</td>\n",
       "    </tr>\n",
       "    <tr>\n",
       "      <td>3</td>\n",
       "      <td>0.325805</td>\n",
       "      <td>0.325966</td>\n",
       "      <td>0.847000</td>\n",
       "      <td>00:04</td>\n",
       "    </tr>\n",
       "    <tr>\n",
       "      <td>4</td>\n",
       "      <td>0.313125</td>\n",
       "      <td>0.323612</td>\n",
       "      <td>0.851000</td>\n",
       "      <td>00:04</td>\n",
       "    </tr>\n",
       "  </tbody>\n",
       "</table>"
      ],
      "text/plain": [
       "<IPython.core.display.HTML object>"
      ]
     },
     "metadata": {
      "tags": []
     },
     "output_type": "display_data"
    }
   ],
   "source": [
    "learn.fit_one_cycle(5, max_lr=slice(1e-03))"
   ]
  },
  {
   "cell_type": "code",
   "execution_count": 43,
   "metadata": {
    "colab": {
     "base_uri": "https://localhost:8080/",
     "height": 291
    },
    "colab_type": "code",
    "id": "kSi3FVqrI7bc",
    "outputId": "3cfd931f-93b7-4332-d21b-b764c1c20bdd"
   },
   "outputs": [
    {
     "data": {
      "image/png": "[encoded data removed]",
      "text/plain": [
       "<Figure size 432x288 with 1 Axes>"
      ]
     },
     "metadata": {
      "tags": []
     },
     "output_type": "display_data"
    }
   ],
   "source": [
    "learn.recorder.plot_losses()"
   ]
  },
  {
   "cell_type": "code",
   "execution_count": 64,
   "metadata": {
    "colab": {
     "base_uri": "https://localhost:8080/",
     "height": 314
    },
    "colab_type": "code",
    "id": "oKiRu38bdu7i",
    "outputId": "9d1b9879-9cbc-4573-d529-a90d54b93603"
   },
   "outputs": [
    {
     "data": {
      "image/png": "[encoded data removed]",
      "text/plain": [
       "<Figure size 432x288 with 1 Axes>"
      ]
     },
     "metadata": {
      "tags": []
     },
     "output_type": "display_data"
    }
   ],
   "source": [
    "interp = ClassificationInterpretation.from_learner(learn)\n",
    "interp.plot_confusion_matrix()"
   ]
  },
  {
   "cell_type": "markdown",
   "metadata": {
    "colab_type": "text",
    "id": "VuyMVuUxJ8ZU"
   },
   "source": [
    "## `h20`"
   ]
  },
  {
   "cell_type": "code",
   "execution_count": 0,
   "metadata": {
    "colab": {},
    "colab_type": "code",
    "id": "iAR6XzuHJ7Mh"
   },
   "outputs": [],
   "source": [
    "!pip install -f http://h2o-release.s3.amazonaws.com/h2o/latest_stable_Py.html h2o"
   ]
  },
  {
   "cell_type": "code",
   "execution_count": 0,
   "metadata": {
    "colab": {},
    "colab_type": "code",
    "id": "AX48Po0cKR2v"
   },
   "outputs": [],
   "source": [
    "import h2o\n",
    "from h2o.automl import H2OAutoML\n",
    "\n",
    "h2o.init()"
   ]
  },
  {
   "cell_type": "code",
   "execution_count": 3,
   "metadata": {
    "colab": {
     "base_uri": "https://localhost:8080/",
     "height": 55
    },
    "colab_type": "code",
    "id": "BrxOP0q1KXcb",
    "outputId": "e82c9abb-8f37-4661-febf-5b8cdcc749ca"
   },
   "outputs": [],
   "source": [
    "# Following the same train/test split\n",
    "train = data[:30561]\n",
    "test = data[30561:]\n",
    "\n",
    "train_frame = h2o.H2OFrame(train)\n",
    "test_frame = h2o.h2o.H2OFrame(test)"
   ]
  },
  {
   "cell_type": "code",
   "execution_count": 36,
   "metadata": {},
   "outputs": [
    {
     "name": "stdout",
     "output_type": "stream",
     "text": [
      "In the training set [(' <=50K', 23235), (' >50K', 7326)]\n",
      "\n",
      "In the testing set [(' <=50K', 1485), (' >50K', 515)]\n"
     ]
    }
   ],
   "source": [
    "# Verify the distribution is same\n",
    "print('In the training set', Counter(train['Income']).most_common())\n",
    "print('\\nIn the testing set', Counter(test['Income']).most_common())"
   ]
  },
  {
   "cell_type": "code",
   "execution_count": 51,
   "metadata": {
    "colab": {
     "base_uri": "https://localhost:8080/",
     "height": 93
    },
    "colab_type": "code",
    "id": "_13n9Gt0LY8i",
    "outputId": "650a8756-e31c-4c2f-867f-ca92ab9c4e4b"
   },
   "outputs": [
    {
     "data": {
      "text/plain": [
       "(Index(['Age', 'WorkClass', 'fnlwgt', 'Education', 'EducationNum',\n",
       "        'MaritalStatus', 'Occupation', 'Relationship', 'Race', 'Gender',\n",
       "        'CapitalGain', 'CapitalLoss', 'HoursPerWeek', 'NativeCountry'],\n",
       "       dtype='object'), 'Income')"
      ]
     },
     "execution_count": 51,
     "metadata": {
      "tags": []
     },
     "output_type": "execute_result"
    }
   ],
   "source": [
    "x = data.columns[0:-1]\n",
    "y = data.columns[-1]\n",
    "\n",
    "x, y"
   ]
  },
  {
   "cell_type": "code",
   "execution_count": 0,
   "metadata": {
    "colab": {},
    "colab_type": "code",
    "id": "wEoSGgDOMB9N"
   },
   "outputs": [],
   "source": [
    "train_frame[y] = train_frame[y].asfactor()\n",
    "test_frame[y] = test_frame[y].asfactor()"
   ]
  },
  {
   "cell_type": "code",
   "execution_count": 55,
   "metadata": {
    "colab": {
     "base_uri": "https://localhost:8080/",
     "height": 36
    },
    "colab_type": "code",
    "id": "yQ0bDABLMtQM",
    "outputId": "c142de8c-b580-4997-b283-27c6a3a28ed2"
   },
   "outputs": [
    {
     "name": "stdout",
     "output_type": "stream",
     "text": [
      "AutoML progress: |████████████████████████████████████████████████████████| 100%\n"
     ]
    }
   ],
   "source": [
    "aml = H2OAutoML(max_models=20, seed=1)\n",
    "aml.train(x=x.tolist(), y=y, training_frame=train_frame, validation_frame=test_frame)"
   ]
  },
  {
   "cell_type": "markdown",
   "metadata": {},
   "source": [
    "**H2O AutoML took  1803.4340255260468 seconds.**"
   ]
  },
  {
   "cell_type": "code",
   "execution_count": 56,
   "metadata": {
    "colab": {
     "base_uri": "https://localhost:8080/",
     "height": 502
    },
    "colab_type": "code",
    "id": "RRPyJGv5XTpG",
    "outputId": "9f6eafd1-517d-4d65-aec1-892be6b6355d"
   },
   "outputs": [
    {
     "data": {
      "text/html": [
       "<table>\n",
       "<thead>\n",
       "<tr><th>model_id                                           </th><th style=\"text-align: right;\">     auc</th><th style=\"text-align: right;\">  logloss</th><th style=\"text-align: right;\">  mean_per_class_error</th><th style=\"text-align: right;\">    rmse</th><th style=\"text-align: right;\">      mse</th></tr>\n",
       "</thead>\n",
       "<tbody>\n",
       "<tr><td>StackedEnsemble_BestOfFamily_AutoML_20190517_051139</td><td style=\"text-align: right;\">0.927794</td><td style=\"text-align: right;\"> 0.294853</td><td style=\"text-align: right;\">              0.173797</td><td style=\"text-align: right;\">0.301101</td><td style=\"text-align: right;\">0.0906617</td></tr>\n",
       "<tr><td>StackedEnsemble_AllModels_AutoML_20190517_051139   </td><td style=\"text-align: right;\">0.927341</td><td style=\"text-align: right;\"> 0.293938</td><td style=\"text-align: right;\">              0.177802</td><td style=\"text-align: right;\">0.301006</td><td style=\"text-align: right;\">0.0906044</td></tr>\n",
       "<tr><td>GBM_1_AutoML_20190517_051139                       </td><td style=\"text-align: right;\">0.927287</td><td style=\"text-align: right;\"> 0.280554</td><td style=\"text-align: right;\">              0.172945</td><td style=\"text-align: right;\">0.297822</td><td style=\"text-align: right;\">0.0886982</td></tr>\n",
       "<tr><td>GBM_2_AutoML_20190517_051139                       </td><td style=\"text-align: right;\">0.926877</td><td style=\"text-align: right;\"> 0.28149 </td><td style=\"text-align: right;\">              0.174273</td><td style=\"text-align: right;\">0.298392</td><td style=\"text-align: right;\">0.0890378</td></tr>\n",
       "<tr><td>XGBoost_grid_1_AutoML_20190517_051139_model_1      </td><td style=\"text-align: right;\">0.926558</td><td style=\"text-align: right;\"> 0.281426</td><td style=\"text-align: right;\">              0.180692</td><td style=\"text-align: right;\">0.298438</td><td style=\"text-align: right;\">0.0890653</td></tr>\n",
       "<tr><td>GBM_3_AutoML_20190517_051139                       </td><td style=\"text-align: right;\">0.926515</td><td style=\"text-align: right;\"> 0.281957</td><td style=\"text-align: right;\">              0.169478</td><td style=\"text-align: right;\">0.298677</td><td style=\"text-align: right;\">0.0892077</td></tr>\n",
       "<tr><td>XGBoost_grid_1_AutoML_20190517_051139_model_4      </td><td style=\"text-align: right;\">0.926337</td><td style=\"text-align: right;\"> 0.281744</td><td style=\"text-align: right;\">              0.176406</td><td style=\"text-align: right;\">0.298589</td><td style=\"text-align: right;\">0.0891556</td></tr>\n",
       "<tr><td>XGBoost_1_AutoML_20190517_051139                   </td><td style=\"text-align: right;\">0.925989</td><td style=\"text-align: right;\"> 0.282082</td><td style=\"text-align: right;\">              0.181502</td><td style=\"text-align: right;\">0.298905</td><td style=\"text-align: right;\">0.0893445</td></tr>\n",
       "<tr><td>XGBoost_grid_1_AutoML_20190517_051139_model_3      </td><td style=\"text-align: right;\">0.924797</td><td style=\"text-align: right;\"> 0.285085</td><td style=\"text-align: right;\">              0.180002</td><td style=\"text-align: right;\">0.300316</td><td style=\"text-align: right;\">0.0901899</td></tr>\n",
       "<tr><td>GBM_4_AutoML_20190517_051139                       </td><td style=\"text-align: right;\">0.924704</td><td style=\"text-align: right;\"> 0.285485</td><td style=\"text-align: right;\">              0.17366 </td><td style=\"text-align: right;\">0.300621</td><td style=\"text-align: right;\">0.0903731</td></tr>\n",
       "<tr><td>GBM_5_AutoML_20190517_051139                       </td><td style=\"text-align: right;\">0.923928</td><td style=\"text-align: right;\"> 0.286686</td><td style=\"text-align: right;\">              0.170585</td><td style=\"text-align: right;\">0.301495</td><td style=\"text-align: right;\">0.0908994</td></tr>\n",
       "<tr><td>XGBoost_2_AutoML_20190517_051139                   </td><td style=\"text-align: right;\">0.923395</td><td style=\"text-align: right;\"> 0.287352</td><td style=\"text-align: right;\">              0.176231</td><td style=\"text-align: right;\">0.301707</td><td style=\"text-align: right;\">0.0910271</td></tr>\n",
       "<tr><td>XGBoost_3_AutoML_20190517_051139                   </td><td style=\"text-align: right;\">0.922526</td><td style=\"text-align: right;\"> 0.29146 </td><td style=\"text-align: right;\">              0.17291 </td><td style=\"text-align: right;\">0.302874</td><td style=\"text-align: right;\">0.0917328</td></tr>\n",
       "<tr><td>GBM_grid_1_AutoML_20190517_051139_model_1          </td><td style=\"text-align: right;\">0.919806</td><td style=\"text-align: right;\"> 0.296376</td><td style=\"text-align: right;\">              0.177414</td><td style=\"text-align: right;\">0.305892</td><td style=\"text-align: right;\">0.0935697</td></tr>\n",
       "<tr><td>XGBoost_grid_1_AutoML_20190517_051139_model_2      </td><td style=\"text-align: right;\">0.919488</td><td style=\"text-align: right;\"> 0.306043</td><td style=\"text-align: right;\">              0.180484</td><td style=\"text-align: right;\">0.30894 </td><td style=\"text-align: right;\">0.095444 </td></tr>\n",
       "<tr><td>DRF_1_AutoML_20190517_051139                       </td><td style=\"text-align: right;\">0.914053</td><td style=\"text-align: right;\"> 0.318848</td><td style=\"text-align: right;\">              0.186924</td><td style=\"text-align: right;\">0.309512</td><td style=\"text-align: right;\">0.0957977</td></tr>\n",
       "<tr><td>XRT_1_AutoML_20190517_051139                       </td><td style=\"text-align: right;\">0.913135</td><td style=\"text-align: right;\"> 0.306373</td><td style=\"text-align: right;\">              0.190739</td><td style=\"text-align: right;\">0.310776</td><td style=\"text-align: right;\">0.0965818</td></tr>\n",
       "<tr><td>DeepLearning_1_AutoML_20190517_051139              </td><td style=\"text-align: right;\">0.910358</td><td style=\"text-align: right;\"> 0.312872</td><td style=\"text-align: right;\">              0.18745 </td><td style=\"text-align: right;\">0.316064</td><td style=\"text-align: right;\">0.0998963</td></tr>\n",
       "<tr><td>DeepLearning_grid_1_AutoML_20190517_051139_model_1 </td><td style=\"text-align: right;\">0.908405</td><td style=\"text-align: right;\"> 0.323896</td><td style=\"text-align: right;\">              0.186483</td><td style=\"text-align: right;\">0.317481</td><td style=\"text-align: right;\">0.100794 </td></tr>\n",
       "<tr><td>GBM_grid_1_AutoML_20190517_051139_model_2          </td><td style=\"text-align: right;\">0.907593</td><td style=\"text-align: right;\"> 0.340761</td><td style=\"text-align: right;\">              0.189399</td><td style=\"text-align: right;\">0.32227 </td><td style=\"text-align: right;\">0.103858 </td></tr>\n",
       "<tr><td>GLM_grid_1_AutoML_20190517_051139_model_1          </td><td style=\"text-align: right;\">0.906696</td><td style=\"text-align: right;\"> 0.318681</td><td style=\"text-align: right;\">              0.193507</td><td style=\"text-align: right;\">0.319155</td><td style=\"text-align: right;\">0.10186  </td></tr>\n",
       "<tr><td>DeepLearning_grid_1_AutoML_20190517_051139_model_2 </td><td style=\"text-align: right;\">0.895188</td><td style=\"text-align: right;\"> 0.34834 </td><td style=\"text-align: right;\">              0.189348</td><td style=\"text-align: right;\">0.329126</td><td style=\"text-align: right;\">0.108324 </td></tr>\n",
       "</tbody>\n",
       "</table>"
      ]
     },
     "metadata": {
      "tags": []
     },
     "output_type": "display_data"
    },
    {
     "data": {
      "text/plain": []
     },
     "execution_count": 56,
     "metadata": {
      "tags": []
     },
     "output_type": "execute_result"
    }
   ],
   "source": [
    "lb = aml.leaderboard\n",
    "lb.head(rows=lb.nrows)"
   ]
  },
  {
   "cell_type": "code",
   "execution_count": 57,
   "metadata": {
    "colab": {
     "base_uri": "https://localhost:8080/",
     "height": 36
    },
    "colab_type": "code",
    "id": "z0wT3h6fXlpn",
    "outputId": "44330b2b-6f2e-40e4-8c1a-d78f3d6b87bf"
   },
   "outputs": [
    {
     "name": "stdout",
     "output_type": "stream",
     "text": [
      "stackedensemble prediction progress: |████████████████████████████████████| 100%\n"
     ]
    }
   ],
   "source": [
    "preds = aml.leader.predict(test_frame)"
   ]
  },
  {
   "cell_type": "code",
   "execution_count": 0,
   "metadata": {
    "colab": {},
    "colab_type": "code",
    "id": "a8h3va96X2bx"
   },
   "outputs": [],
   "source": [
    "preds = h2o.as_list(preds[\"predict\"])"
   ]
  },
  {
   "cell_type": "code",
   "execution_count": 75,
   "metadata": {
    "colab": {
     "base_uri": "https://localhost:8080/",
     "height": 36
    },
    "colab_type": "code",
    "id": "9wGohTIYbcns",
    "outputId": "a87746b4-28d5-4a78-a50e-b5e82c9cfc5d"
   },
   "outputs": [
    {
     "name": "stdout",
     "output_type": "stream",
     "text": [
      "Accuracy score 0.865\n"
     ]
    }
   ],
   "source": [
    "from sklearn.metrics import accuracy_score, classification_report, confusion_matrix\n",
    "\n",
    "print(\"Accuracy score\", accuracy_score(test['Income'].values, preds))"
   ]
  },
  {
   "cell_type": "code",
   "execution_count": null,
   "metadata": {
    "colab": {},
    "colab_type": "code",
    "id": "fI8vlUwhiK25"
   },
   "outputs": [],
   "source": [
    "!pip install scikit-plot"
   ]
  },
  {
   "cell_type": "code",
   "execution_count": 82,
   "metadata": {
    "colab": {
     "base_uri": "https://localhost:8080/",
     "height": 298
    },
    "colab_type": "code",
    "id": "yR4-fOoIiMBx",
    "outputId": "f0c434bb-ee9d-4eca-eeb1-13c3de77db2d"
   },
   "outputs": [
    {
     "data": {
      "image/png": "[encoded data removed]",
      "text/plain": [
       "<Figure size 432x288 with 2 Axes>"
      ]
     },
     "metadata": {
      "tags": []
     },
     "output_type": "display_data"
    }
   ],
   "source": [
    "import scikitplot as skplt\n",
    "\n",
    "skplt.metrics.plot_confusion_matrix(test['Income'].values, preds)\n",
    "plt.show()"
   ]
  },
  {
   "cell_type": "markdown",
   "metadata": {
    "colab_type": "text",
    "id": "yBzTzdZ5N_L6"
   },
   "source": [
    "## `interpret`"
   ]
  },
  {
   "cell_type": "markdown",
   "metadata": {
    "colab_type": "text",
    "id": "Z3YaKohDj0ar"
   },
   "source": [
    "> Historically, the most intelligible models were not very accurate, and the most accurate models were not intelligible. Microsoft Research has developed an algorithm called the Explainable Boosting Machine (EBM)* which has both high accuracy and intelligibility."
   ]
  },
  {
   "cell_type": "code",
   "execution_count": null,
   "metadata": {
    "colab": {},
    "colab_type": "code",
    "id": "DOQysFB6NCGP"
   },
   "outputs": [],
   "source": [
    "!pip install pyscaffold\n",
    "!pip install -U interpret"
   ]
  },
  {
   "cell_type": "code",
   "execution_count": 6,
   "metadata": {
    "colab": {
     "base_uri": "https://localhost:8080/",
     "height": 820
    },
    "colab_type": "code",
    "id": "TCeivjulj2IS",
    "outputId": "243e1756-b060-46d3-d618-168c6c4b6911"
   },
   "outputs": [
    {
     "data": {
      "text/html": [
       "\n",
       "            <iframe src=\"http://127.0.0.1:7021/140221042569960/\" width=100% height=800 frameBorder=\"0\"></iframe>\n",
       "        "
      ]
     },
     "metadata": {},
     "output_type": "display_data"
    }
   ],
   "source": [
    "from interpret import show\n",
    "from interpret.data import ClassHistogram\n",
    "\n",
    "hist = ClassHistogram().explain_data(train.iloc[:, 0:-1], train['Income'], name = 'Train Data')\n",
    "show(hist)"
   ]
  },
  {
   "cell_type": "markdown",
   "metadata": {},
   "source": [
    "Refer to this video if you are unable to see the output of this cell: https://www.loom.com/share/1512be40265f4205a6451a97dea663e3"
   ]
  },
  {
   "cell_type": "code",
   "execution_count": 19,
   "metadata": {},
   "outputs": [],
   "source": [
    "# Turning response into 0 and 1\n",
    "y_train = train['Income'].apply(lambda x: 0 if x == \" <=50K\" else 1) \n",
    "y_test = test['Income'].apply(lambda x: 0 if x == \" <=50K\" else 1) "
   ]
  },
  {
   "cell_type": "code",
   "execution_count": 20,
   "metadata": {
    "colab": {},
    "colab_type": "code",
    "id": "CmppNyPzkUZU"
   },
   "outputs": [
    {
     "name": "stdout",
     "output_type": "stream",
     "text": [
      "It took 306.07323694229126 seconds\n"
     ]
    }
   ],
   "source": [
    "from interpret.glassbox import ExplainableBoostingClassifier\n",
    "import time\n",
    "\n",
    "ebm = ExplainableBoostingClassifier(random_state=7)\n",
    "\n",
    "start = time.time()\n",
    "ebm.fit(train.iloc[:, 0:-1], y_train) \n",
    "print('It took {} seconds'.format(time.time()-start))"
   ]
  },
  {
   "cell_type": "code",
   "execution_count": 21,
   "metadata": {},
   "outputs": [
    {
     "data": {
      "text/html": [
       "\n",
       "            <iframe src=\"http://127.0.0.1:7021/140221044717384/\" width=100% height=800 frameBorder=\"0\"></iframe>\n",
       "        "
      ]
     },
     "metadata": {},
     "output_type": "display_data"
    }
   ],
   "source": [
    "ebm_global = ebm.explain_global(name='EBM')\n",
    "show(ebm_global)"
   ]
  },
  {
   "cell_type": "markdown",
   "metadata": {},
   "source": [
    "If the output is not there in the above cell, here is the demo: https://www.loom.com/share/ab37697a1b70482baaf2455079f257fc"
   ]
  },
  {
   "cell_type": "code",
   "execution_count": 23,
   "metadata": {},
   "outputs": [
    {
     "data": {
      "text/html": [
       "\n",
       "            <iframe src=\"http://127.0.0.1:7021/140221048080984/\" width=100% height=800 frameBorder=\"0\"></iframe>\n",
       "        "
      ]
     },
     "metadata": {},
     "output_type": "display_data"
    }
   ],
   "source": [
    "ebm_local = ebm.explain_local(test.iloc[:5, 0:-1], y_test[:5], name='EBM')\n",
    "show(ebm_local)"
   ]
  },
  {
   "cell_type": "markdown",
   "metadata": {},
   "source": [
    "Demo: https://www.loom.com/share/1655ed05299547e68bacacbbf8801ee4"
   ]
  },
  {
   "cell_type": "code",
   "execution_count": 25,
   "metadata": {},
   "outputs": [
    {
     "data": {
      "text/html": [
       "\n",
       "            <iframe src=\"http://127.0.0.1:7021/140220929264608/\" width=100% height=800 frameBorder=\"0\"></iframe>\n",
       "        "
      ]
     },
     "metadata": {},
     "output_type": "display_data"
    }
   ],
   "source": [
    "from interpret.perf import ROC\n",
    "\n",
    "ebm_perf = ROC(ebm.predict_proba).explain_perf(test.iloc[:, 0:-1], y_test, name='EBM')\n",
    "show(ebm_perf)"
   ]
  },
  {
   "cell_type": "code",
   "execution_count": 32,
   "metadata": {},
   "outputs": [
    {
     "data": {
      "image/png": "[encoded data removed]",
      "text/plain": [
       "<Figure size 432x288 with 2 Axes>"
      ]
     },
     "metadata": {
      "needs_background": "light"
     },
     "output_type": "display_data"
    }
   ],
   "source": [
    "preds = ebm.predict(test.iloc[:, 0:-1])\n",
    "skplt.metrics.plot_confusion_matrix(y_test, preds)\n",
    "plt.show()"
   ]
  },
  {
   "cell_type": "code",
   "execution_count": 37,
   "metadata": {},
   "outputs": [
    {
     "name": "stdout",
     "output_type": "stream",
     "text": [
      "0.863\n"
     ]
    }
   ],
   "source": [
    "print(accuracy_score(y_test, preds))"
   ]
  },
  {
   "cell_type": "markdown",
   "metadata": {},
   "source": [
    "- 0: <=50K\n",
    "- 1: >50K"
   ]
  },
  {
   "cell_type": "code",
   "execution_count": 44,
   "metadata": {},
   "outputs": [],
   "source": [
    "from sklearn.preprocessing import LabelEncoder\n",
    "\n",
    "train_preprocessed = train.apply(LabelEncoder().fit_transform)\n",
    "test_preprocessed = test.apply(LabelEncoder().fit_transform)"
   ]
  },
  {
   "cell_type": "code",
   "execution_count": 45,
   "metadata": {},
   "outputs": [
    {
     "name": "stdout",
     "output_type": "stream",
     "text": [
      "It took 2.0011560916900635 seconds\n"
     ]
    }
   ],
   "source": [
    "from sklearn.ensemble import RandomForestClassifier\n",
    "\n",
    "rf = RandomForestClassifier(n_estimators=100, n_jobs=-1)\n",
    "start = time.time()\n",
    "rf.fit(train_preprocessed.iloc[:, 0:-1], train_preprocessed['Income'])\n",
    "print('It took {} seconds'.format(time.time()-start))"
   ]
  },
  {
   "cell_type": "code",
   "execution_count": 51,
   "metadata": {},
   "outputs": [
    {
     "data": {
      "text/plain": [
       "0.7945"
      ]
     },
     "execution_count": 51,
     "metadata": {},
     "output_type": "execute_result"
    }
   ],
   "source": [
    "preds = rf.predict(test_preprocessed.iloc[:, 0:-1])\n",
    "accuracy_score(test_preprocessed['Income'], preds)"
   ]
  },
  {
   "cell_type": "code",
   "execution_count": 52,
   "metadata": {},
   "outputs": [
    {
     "data": {
      "image/png": "[encoded data removed]",
      "text/plain": [
       "<Figure size 432x288 with 2 Axes>"
      ]
     },
     "metadata": {
      "needs_background": "light"
     },
     "output_type": "display_data"
    }
   ],
   "source": [
    "skplt.metrics.plot_confusion_matrix(test_preprocessed['Income'], preds)\n",
    "plt.show()"
   ]
  },
  {
   "cell_type": "code",
   "execution_count": 57,
   "metadata": {},
   "outputs": [
    {
     "data": {
      "text/html": [
       "\n",
       "            <iframe src=\"http://127.0.0.1:7021/140220602656192/\" width=100% height=800 frameBorder=\"0\"></iframe>\n",
       "        "
      ]
     },
     "metadata": {},
     "output_type": "display_data"
    }
   ],
   "source": [
    "from interpret.blackbox import LimeTabular\n",
    "from interpret import show\n",
    "\n",
    "import warnings\n",
    "warnings.filterwarnings('ignore')\n",
    "\n",
    "lime = LimeTabular(predict_fn=rf.predict_proba, data=train_preprocessed.iloc[:,0:-1], random_state=7)\n",
    "\n",
    "lime_local = lime.explain_local(test_preprocessed.iloc[:5, 0:-1],\n",
    "                                test_preprocessed['Income'][:5], name='LIME')\n",
    "\n",
    "show(lime_local)"
   ]
  },
  {
   "cell_type": "markdown",
   "metadata": {},
   "source": [
    "Demo: https://www.loom.com/share/c8e194eacb934ebabd8735b6d2300ce2"
   ]
  },
  {
   "cell_type": "code",
   "execution_count": 59,
   "metadata": {},
   "outputs": [
    {
     "data": {
      "text/html": [
       "\n",
       "            <iframe src=\"http://127.0.0.1:7021/140220610128192/\" width=100% height=800 frameBorder=\"0\"></iframe>\n",
       "        "
      ]
     },
     "metadata": {},
     "output_type": "display_data"
    }
   ],
   "source": [
    "from interpret.blackbox import MorrisSensitivity\n",
    "\n",
    "sensitivity = MorrisSensitivity(predict_fn=rf.predict_proba, data=train_preprocessed.iloc[:,0:-1])\n",
    "sensitivity_global = sensitivity.explain_global(name=\"Global Sensitivity\")\n",
    "\n",
    "show(sensitivity_global)"
   ]
  },
  {
   "cell_type": "markdown",
   "metadata": {},
   "source": [
    "Demo: https://www.loom.com/share/d19a9b56d97f48da85e9d02681e96b0c"
   ]
  },
  {
   "cell_type": "code",
   "execution_count": 61,
   "metadata": {
    "scrolled": false
   },
   "outputs": [
    {
     "data": {
      "text/html": [
       "\n",
       "            <iframe src=\"http://127.0.0.1:7021/140220884515248/\" width=100% height=800 frameBorder=\"0\"></iframe>\n",
       "        "
      ]
     },
     "metadata": {},
     "output_type": "display_data"
    }
   ],
   "source": [
    "from interpret.blackbox import PartialDependence\n",
    "\n",
    "pdp = PartialDependence(predict_fn=rf.predict_proba, data=train_preprocessed.iloc[:,0:-1])\n",
    "pdp_global = pdp.explain_global(name='Partial Dependence')\n",
    "\n",
    "show(pdp_global)"
   ]
  },
  {
   "cell_type": "markdown",
   "metadata": {},
   "source": [
    "Demo: https://www.loom.com/share/8f31af4ec336476e9d18bcac106e10b3"
   ]
  },
  {
   "cell_type": "code",
   "execution_count": 63,
   "metadata": {},
   "outputs": [
    {
     "data": {
      "text/html": [
       "<a href=\"http://127.0.0.1:7021/140220581487304/\" target=\"_new\">Open in new window</a>\n",
       "            <iframe src=\"http://127.0.0.1:7021/140220581487304/\" width=100% height=800 frameBorder=\"0\"></iframe>\n",
       "        "
      ]
     },
     "metadata": {},
     "output_type": "display_data"
    }
   ],
   "source": [
    "show([lime_local, sensitivity_global, pdp_global])"
   ]
  },
  {
   "cell_type": "markdown",
   "metadata": {},
   "source": [
    "Demo: https://www.loom.com/share/13e1434c52d142dab06d0f7b0595983d"
   ]
  }
 ],
 "metadata": {
  "accelerator": "GPU",
  "colab": {
   "collapsed_sections": [],
   "name": "Benchmarking experiments on the Adult dataset.ipynb",
   "provenance": [],
   "version": "0.3.2"
  },
  "kernelspec": {
   "display_name": "Python 3",
   "language": "python",
   "name": "python3"
  },
  "language_info": {
   "codemirror_mode": {
    "name": "ipython",
    "version": 3
   },
   "file_extension": ".py",
   "mimetype": "text/x-python",
   "name": "python",
   "nbconvert_exporter": "python",
   "pygments_lexer": "ipython3",
   "version": "3.7.1"
  }
 },
 "nbformat": 4,
 "nbformat_minor": 1
}
